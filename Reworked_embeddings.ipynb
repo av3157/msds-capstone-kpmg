{
 "cells": [
  {
   "cell_type": "code",
   "execution_count": 19,
   "metadata": {},
   "outputs": [],
   "source": [
    "from langchain_community.vectorstores import Neo4jVector\n",
    "from langchain_openai import OpenAIEmbeddings\n",
    "import os \n",
    "from dotenv import load_dotenv\n",
    "from numpy.linalg import norm\n"
   ]
  },
  {
   "cell_type": "code",
   "execution_count": 10,
   "metadata": {},
   "outputs": [],
   "source": [
    "COMMON_QUESTIONS = [\n",
    "    \"What report fields are downstream of a specific column?\",\n",
    "    \"What are the performance metrics of a specific model?\",\n",
    "    \"What data is upstream to a specific report field?\",\n",
    "    \"How many nodes upstream is the datasource for a specific report field?\",\n",
    "    \"How was this report field calculated?\",\n",
    "    \"What is the difference between the latest version and the previous version of a specific model?\",\n",
    "    \"What are the top features of a specific model?\",\n",
    "    \"Tell me about the latest version of a specific model?\"\n",
    "]\n",
    "\n",
    "\n",
    "def generate_common_question_embeddings(questions):\n",
    "    common_embeddings = OpenAIEmbeddings().embed_documents(texts = questions)\n",
    "    return [np.array(embedding) for embedding in common_embeddings]\n",
    "\n",
    "# Pre-compute embeddings for common questions\n",
    "common_question_embeddings = generate_common_question_embeddings(COMMON_QUESTIONS)"
   ]
  },
  {
   "cell_type": "code",
   "execution_count": 11,
   "metadata": {},
   "outputs": [
    {
     "data": {
      "text/plain": [
       "[array([-0.01837511, -0.01328414, -0.00758394, ...,  0.01205167,\n",
       "        -0.03055983,  0.003869  ]),\n",
       " array([-0.01341303,  0.00022778,  0.02107665, ...,  0.01375364,\n",
       "        -0.02798412, -0.01538173]),\n",
       " array([-0.00711148, -0.01188923,  0.00638575, ...,  0.01363242,\n",
       "        -0.02419114, -0.00708302]),\n",
       " array([ 0.0115591 ,  0.00412927,  0.00351131, ..., -0.013488  ,\n",
       "        -0.00383994, -0.00863718]),\n",
       " array([ 0.00858671,  0.0032166 ,  0.00747412, ..., -0.00366881,\n",
       "        -0.02642905, -0.01860681]),\n",
       " array([-0.00335794,  0.01126621,  0.01718941, ...,  0.00870939,\n",
       "        -0.01758069,  0.00681707]),\n",
       " array([-0.0055728 ,  0.02153858,  0.0180218 , ...,  0.01309557,\n",
       "        -0.02802478, -0.00745777]),\n",
       " array([-0.01295075,  0.01238533,  0.00974672, ...,  0.0021018 ,\n",
       "        -0.01420274, -0.00153218])]"
      ]
     },
     "execution_count": 11,
     "metadata": {},
     "output_type": "execute_result"
    }
   ],
   "source": [
    "common_question_embeddings"
   ]
  },
  {
   "cell_type": "code",
   "execution_count": 13,
   "metadata": {},
   "outputs": [],
   "source": [
    "def get_user_query_embedding(user_input):\n",
    "    user_embedding = OpenAIEmbeddings().embed_query(user_input)\n",
    "    return np.array(user_embedding)"
   ]
  },
  {
   "cell_type": "code",
   "execution_count": 14,
   "metadata": {},
   "outputs": [
    {
     "data": {
      "text/plain": [
       "array([-0.03086455, -0.02032544, -0.01948179, ..., -0.01266122,\n",
       "       -0.00124033,  0.00678812])"
      ]
     },
     "execution_count": 14,
     "metadata": {},
     "output_type": "execute_result"
    }
   ],
   "source": [
    "get_user_query_embedding('hi')"
   ]
  },
  {
   "cell_type": "code",
   "execution_count": 20,
   "metadata": {},
   "outputs": [],
   "source": [
    "from numpy.linalg import norm\n",
    "def cosine_similarity(embedding_a, embedding_b):\n",
    "    return np.dot(embedding_a, embedding_b) / (norm(embedding_a) * norm(embedding_b))"
   ]
  },
  {
   "cell_type": "code",
   "execution_count": 39,
   "metadata": {},
   "outputs": [
    {
     "data": {
      "text/plain": [
       "['UNCOMMON', 0]"
      ]
     },
     "execution_count": 39,
     "metadata": {},
     "output_type": "execute_result"
    }
   ],
   "source": [
    "def classify_intent(user_query, common_question_embeddings, threshold):\n",
    "\n",
    "    similarities = []\n",
    "    user_query_embedding = get_user_query_embedding(user_query)\n",
    "    for index, question in enumerate(common_question_embeddings):\n",
    "        similarities += [(cosine_similarity(user_query_embedding, question), index +1)]\n",
    "    highest_similiaries = max(similarities, key=lambda x: x[0])\n",
    "    if highest_similiaries[0] >= threshold:\n",
    "        return ['COMMON', highest_similiaries[1]]\n",
    "    else:\n",
    "        return ['UNCOMMON',0]\n",
    "\n",
    "classify_intent('tell me about the perfomance of the super model', common_question_embeddings, 0.85)\n"
   ]
  },
  {
   "cell_type": "code",
   "execution_count": 40,
   "metadata": {},
   "outputs": [
    {
     "data": {
      "text/plain": [
       "['COMMON', 2]"
      ]
     },
     "execution_count": 40,
     "metadata": {},
     "output_type": "execute_result"
    }
   ],
   "source": [
    "classify_intent('tell me about the perfomance of the customer model', common_question_embeddings, 0.85)"
   ]
  },
  {
   "cell_type": "code",
   "execution_count": 41,
   "metadata": {},
   "outputs": [
    {
     "data": {
      "text/plain": [
       "['UNCOMMON', 0]"
      ]
     },
     "execution_count": 41,
     "metadata": {},
     "output_type": "execute_result"
    }
   ],
   "source": [
    "# Could either keep the current regex functionality to handle NONE's or also use a threshold, or combine both approaches. To implement later. \n",
    "\n",
    "classify_intent('are zebras real?', common_question_embeddings, 0.85)"
   ]
  },
  {
   "cell_type": "code",
   "execution_count": null,
   "metadata": {},
   "outputs": [],
   "source": []
  }
 ],
 "metadata": {
  "kernelspec": {
   "display_name": "chatbot-venv",
   "language": "python",
   "name": "python3"
  },
  "language_info": {
   "codemirror_mode": {
    "name": "ipython",
    "version": 3
   },
   "file_extension": ".py",
   "mimetype": "text/x-python",
   "name": "python",
   "nbconvert_exporter": "python",
   "pygments_lexer": "ipython3",
   "version": "3.12.7"
  }
 },
 "nbformat": 4,
 "nbformat_minor": 2
}
