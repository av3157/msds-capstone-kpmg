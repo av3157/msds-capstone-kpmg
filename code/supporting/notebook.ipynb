{
 "cells": [
  {
   "cell_type": "code",
   "execution_count": 13,
   "metadata": {},
   "outputs": [
    {
     "name": "stdout",
     "output_type": "stream",
     "text": [
      "Which users have access to the Executive_Management_Database and what are their roles?\n"
     ]
    }
   ],
   "source": [
    "from langchain.prompts import (\n",
    "    ChatPromptTemplate,\n",
    "    PromptTemplate,\n",
    "    SystemMessagePromptTemplate,\n",
    "    AIMessagePromptTemplate,\n",
    "    HumanMessagePromptTemplate,\n",
    ")\n",
    "\n",
    "from langchain_community.graphs import Neo4jGraph\n",
    "import os\n",
    "\n",
    "from langchain.chat_models import ChatOpenAI\n",
    "\n",
    "api_key =os.getenv('OPENAI_API_KEY')\n",
    "chat = ChatOpenAI(openai_api_key=api_key)\n",
    "Neo4jGraph_client = Neo4jGraph(\n",
    "            url=os.getenv('NEO4J_URI'), username=os.getenv('NEO4J_USER'), password=os.getenv('NEO4J_PASSWORD')\n",
    "        )\n",
    "query = \"MATCH (n) RETURN n\"\n",
    "result = Neo4jGraph_client.query(query)\n",
    "def extract_names_from_result(result):\n",
    "    names = []\n",
    "    for item in result:\n",
    "        # Check if 'name' key exists and add its value to the names list\n",
    "        if 'name' in item['n']:\n",
    "            names.append(item['n']['name'])\n",
    "    return names\n",
    "\n",
    "# Assuming 'result' is the output you've shown\n",
    "names_list = extract_names_from_result(result)\n",
    "\n",
    "system_template=\"Find the cloest word match in the {database_nodes} and replace it, and give me the correct user input\"\n",
    "system_message_prompt = SystemMessagePromptTemplate.from_template(system_template)\n",
    "\n",
    "user_input = \"Which users have access to the Executive Management Databasee and what are their roles?\"\n",
    "human_template=\"Replace the words in: {user_input} with the correct words in database_nodes.\"\n",
    "human_message_prompt = HumanMessagePromptTemplate.from_template(human_template)\n",
    "\n",
    "chat_prompt = ChatPromptTemplate.from_messages([system_template, human_message_prompt])    \n",
    "                                                           # get a chat completion from the formatted messages\n",
    "request = chat_prompt.format_prompt(user_input=user_input, database_nodes=names_list).to_messages()\n",
    "\n",
    "\n",
    "result = chat(request)\n",
    "print(result.content)"
   ]
  },
  {
   "cell_type": "code",
   "execution_count": null,
   "metadata": {},
   "outputs": [],
   "source": []
  }
 ],
 "metadata": {
  "kernelspec": {
   "display_name": "chatbot-venv",
   "language": "python",
   "name": "python3"
  },
  "language_info": {
   "codemirror_mode": {
    "name": "ipython",
    "version": 3
   },
   "file_extension": ".py",
   "mimetype": "text/x-python",
   "name": "python",
   "nbconvert_exporter": "python",
   "pygments_lexer": "ipython3",
   "version": "3.11.3"
  },
  "orig_nbformat": 4,
  "vscode": {
   "interpreter": {
    "hash": "f9581408448e96f1c4d249f435c3dc3119be372f8993566dd07f54c4b971b99a"
   }
  }
 },
 "nbformat": 4,
 "nbformat_minor": 2
}
