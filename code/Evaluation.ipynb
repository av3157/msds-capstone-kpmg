{
 "cells": [
  {
   "cell_type": "code",
   "execution_count": 1,
   "metadata": {},
   "outputs": [
    {
     "data": {
      "text/plain": [
       "True"
      ]
     },
     "execution_count": 1,
     "metadata": {},
     "output_type": "execute_result"
    }
   ],
   "source": [
    "import sys\n",
    "import os\n",
    "\n",
    "# Add the 'code' directory to the Python path\n",
    "sys.path.append(os.path.abspath(\"./code\"))\n",
    "import streamlit as st\n",
    "from clients.neo4j_client import Neo4jClient\n",
    "from clients.openai_client import OpenAiClient\n",
    "from clients.langchain_client import LangChainClient\n",
    "from components.intent_matching import get_input_parameter, get_request_intent\n",
    "from components.extract_node_info import match_node\n",
    "from constants.prompt_templates import USER_RESPONSE_TEMPLATE, INTENT_MATCHING_TEMPLATE\n",
    "from constants.chatbot_responses import CHATBOT_INTRO_MESSAGE, FAILED_INTENT_MATCH, CYPHER_QUERY_ERROR, NOT_RELEVANT_USER_REQUEST, NO_RESULTS_FOUND\n",
    "from constants.db_constants import DATABASE_SCHEMA\n",
    "from constants.query_templates import query_map\n",
    "from components.parameter_correction import ParameterCorrection\n",
    "from gui.graph_test import fetch_graph_data\n",
    "import logging\n",
    "import os\n",
    "from streamlit_agraph import agraph, Node, Edge, Config\n",
    "from streamlit_image_zoom import image_zoom\n",
    "from PIL import Image\n",
    "\n",
    "from langchain_community.vectorstores import Neo4jVector\n",
    "from langchain_openai import OpenAIEmbeddings\n",
    "from langchain.chains import RetrievalQA\n",
    "from langchain.chat_models import ChatOpenAI\n",
    "from langchain.chains import GraphCypherQAChain\n",
    "from constants.prompt_templates import UNCOMMON_QUESTION_WORKFLOW_TEMPLATE\n",
    "from langchain.prompts.prompt import PromptTemplate\n",
    "from langchain_community.graphs import Neo4jGraph\n",
    "from dotenv import load_dotenv\n",
    "load_dotenv()"
   ]
  },
  {
   "cell_type": "code",
   "execution_count": 2,
   "metadata": {},
   "outputs": [],
   "source": [
    "from deepeval.metrics import GEval\n",
    "from deepeval.test_case import LLMTestCaseParams\n",
    "# TO DO SWITCH TO EVAL STEPS VS CRITERIA\n",
    "query_correctness_metric = GEval(\n",
    "    name=\"Correctness\",\n",
    "    model=\"gpt-4o\",\n",
    "    #criteria=\"Determine whether the actual query is the same as the expected query. If the correct query was generated, return a 1.0. If a query was generated but is incorrect, return a 0.5. If no data was found, just return 0.0 as a score\",\n",
    "    # NOTE: you can only provide either criteria or evaluation_steps, and not both\n",
    "     evaluation_steps=[\n",
    "         \"Determine whether the actual query is the same as the expected query.\",\n",
    "         \"If the correct query was generated, return a value of '1'\",\n",
    "         \"If a query was generated but is incorrect, return a value of '0.5'\",\n",
    "         \"If no query was generated, return a value of '0'\"\n",
    "     ],\n",
    "    evaluation_params=[LLMTestCaseParams.INPUT, LLMTestCaseParams.ACTUAL_OUTPUT, LLMTestCaseParams.EXPECTED_OUTPUT],\n",
    ")"
   ]
  },
  {
   "cell_type": "code",
   "execution_count": 3,
   "metadata": {},
   "outputs": [],
   "source": [
    "from deepeval.metrics import GEval\n",
    "from deepeval.test_case import LLMTestCaseParams\n",
    "# TO DO SWITCH TO EVAL STEPS VS CRITERIA\n",
    "response_correctness_metric = GEval(\n",
    "    name=\"Correctness\",\n",
    "    model=\"gpt-4o\",\n",
    "    criteria=\"Determine whether the actual response is the same as the expected response. Does not have to be phrased the same, but is the end result the same. Return '1' if yes and '0' if no.\",\n",
    "    # NOTE: you can only provide either criteria or evaluation_steps, and not both\n",
    "    # evaluation_steps=[\n",
    "    #     \"Determine whether the actual response is the same as the expected response. Does not have to be worded the same'\",\n",
    "     #    \"If Yes, return a value of '1.0'\", \n",
    "     #    \"If No, return a value of'0.0'\"\n",
    "     #],\n",
    "     \n",
    "    evaluation_params=[LLMTestCaseParams.INPUT, LLMTestCaseParams.ACTUAL_OUTPUT, LLMTestCaseParams.EXPECTED_OUTPUT],\n",
    ")"
   ]
  },
  {
   "cell_type": "code",
   "execution_count": null,
   "metadata": {},
   "outputs": [],
   "source": [
    "# Full data for all 30 queries\n",
    "import pandas as pd\n",
    "data_full = [\n",
    "    (1, \"How many Business Groups are there?\", \n",
    "     \"MATCH (n:BusinessGroup) RETURN count(*);\", \n",
    "     \"13\"),\n",
    "    (2, \"What type of database is Customer Service Database?\", \n",
    "     \"MATCH (d:Database) WHERE d.name CONTAINS 'Customer' and d.name CONTAINS 'Service' RETURN d.type;\",\n",
    "     \"relational\"),\n",
    "    (3, \"What report is the regional sales breakdown report field part of?\", \n",
    "     \"MATCH (r:ReportSection) WHERE r.name CONTAINS 'Regional' and r.name CONTAINS 'Sales' and r.name CONTAINS 'Breakdown' \"\n",
    "     \"MATCH (r)-[:PART_OF]-(report:Report) RETURN report.name;\",\n",
    "     \"Sales Peformance Dashboard\"),\n",
    "    (4, \"Which users own the Customer Satisfaction Survey Analysis report?\", \n",
    "     'MATCH (u:User)-[:OWNS]-(report:Report {name: \"Customer Satisfaction Survey Analysis\"}) RETURN u.name;',\n",
    "     \"Customer Service Director\"),\n",
    "    (5, \"What business group is the IT database associated with?\", \n",
    "     \"MATCH (d:Database)-[:ASSOCIATED_WITH]->(bg:BusinessGroup) WHERE d.name CONTAINS 'IT' RETURN bg.name;\",\n",
    "     \"Information Technology\"),\n",
    "    (6, \"What are all of the latest versions of models?\", \n",
    "     \"MATCH (m:Model)-[:LATEST_VERSION]-(mv:ModelVersion) RETURN m.name, mv.name;\",\n",
    "     \"Sales Performance Prediction Model Version3, Inventory Management Prediction Model Version3, Financial Health Prediction Model Version3, Employee Productivity Prediction Model Version3, Customer Satisfaction Prediction Model Version3\"),\n",
    "    (7, \"What is the mean absolute error of the latest Inventory Management model?\", \n",
    "     \"MATCH (mv:ModelVersion) WHERE mv.name CONTAINS 'Inventory' and mv.name CONTAINS 'Management' and mv.latest_version = 'True' \"\n",
    "     \"WITH mv.name as name, split(mv.performance_metrics, ',') as mets UNWIND mets as met \"\n",
    "     \"WITH met WHERE met CONTAINS 'mean_absolute_error' RETURN btrim(split(met,':')[1]) as MeanAbsoluteError;\",\n",
    "     \"0.7\"),\n",
    "    (8, \"What are the root mean squared errors of all of the latest models?\", \n",
    "     \"MATCH (mv:ModelVersion) WHERE mv.latest_version = 'True' \"\n",
    "     \"WITH mv.name as name, split(mv.performance_metrics, ',') as mets UNWIND mets as met \"\n",
    "     \"WITH name, met WHERE met CONTAINS 'root_mean_squared_error' \"\n",
    "     \"RETURN name, rtrim(btrim(split(met,':')[1]), '}') as RMSE ORDER BY toFloat(RMSE) ASC;\", \n",
    "     \"0.6 for Inventory Management Prediction Model Version3, 0.6 for Employee Productivity Prediction Model Version3, 0.6 for Customer Satisfaction Prediction Model Version3, 15000 for Sales Performance Prediction Model Version3\"),\n",
    "    (9, \"Which users are entitled on the Executive Management Database and what are their accounts?\", \n",
    "     \"MATCH (u:User)-[:ENTITLED_ON]-(db:Database) WHERE db.name CONTAINS 'Executive' and db.name CONTAINS 'Management' \"\n",
    "     \"RETURN u.name, u.account;\",\n",
    "     \"Executive Managers and Strategy Analysts. The emails are exec_manager@executive.com and strategy_analyst@executive.com. \"),\n",
    "    (10, \"Which models use a random forest?\", \n",
    "     \"MATCH (mv:ModelVersion) WHERE mv.model_parameters CONTAINS 'Random' and mv.model_parameters CONTAINS 'Forest' RETURN mv.name;\", \n",
    "     \"Employee Productivity Prediction Model Version3 and Customer Satisfaction Prediction Model Version3\"),\n",
    "    (11, \"What databases are the user customer service analyst entitled to?\", \n",
    "     'MATCH (u:User)-[:ENTITLED_ON]-(db:Database) WHERE u.name CONTAINS \"customer\" and u.name CONTAINS \"service\" and u.name CONTAINS \"analyst RETURN db.name',\n",
    "     'Customer_Service_Database'),\n",
    "    (12, \"Who has write access to the Operations Database?\", \n",
    "     'MATCH (db:Database)<-[:ENTITLED_ON]-(u:User) WHERE db.name CONTAINS \"Operations\" AND \"write\" in u.entitlement RETURN u.name',\n",
    "     'operations_manager'),\n",
    "    (13, \"What columns does the service tickets table have?\", \n",
    "     'MATCH (t:Table)-[:HAS_COLUMN]->(c:Column) WHERE t.name CONTAINS \"Service\" and t.name CONTAINS \"Tickets\" RETURN c.name',\n",
    "     'TicketID CustomerID IssueDescription ServiceTicketOpenDate ServiceTicketCloseDate TicketStatus TicketResolution'),\n",
    "    (14, \"What tables do the Marketing database contain?\", \n",
    "     'MATCH (t:Table)<-[:CONTAINS]-(db:Database) WHERE db.name CONTAINS \"Marketing\"RETURN t.name',\n",
    "     'Campaigns Social Media Posts Market Research Public Relations Events'),\n",
    "    (15, \"What business group is the Employee Productivity Report associated with?\", \n",
    "     \"MATCH (r:Report)-[:ASSOCIATED_WITH]->(bg:BusinessGroup) WHERE r.name CONTAINS 'Employee' and r.name CONTAINS 'Productivity' RETURN bg.name;\",\n",
    "     'human_resources'),\n",
    "    (16, \"What business group is the user sales analyst involved with?\", \n",
    "     \"MATCH (u:User)-[:ENTITLED_ON]->(db:Database) WHERE u.name CONTAINS 'sales' and u.name CONTAINS 'analyst' \"\n",
    "     \"MATCH (db)-[:ASSOCIATED_WITH]->(bg:BusinessGroup) RETURN bg.name;\", \n",
    "     'sales'),\n",
    "    (17, \"List all users who maintain, own, or are entitled on Inventory Management Report\", \n",
    "     'MATCH (u:User)-[r]->(rp:Report) WHERE rp.name CONTAINS \"Inventory\" and rp.name CONTAINS \"Management\" RETURN u.name, r',\n",
    "     'Warehouse Supervisor [:ENTITLED_ON], Procurement Specialist [:ENTITLED_ON], Inventory Manager [:OWNS], Supply Chain Analyst [:MAINTAINS], Supply Chain Analyst [:MAINTAINS]'),\n",
    "    (18, \"What tables does the executive management database contain?\", \n",
    "     \"MATCH (db:Database)-[:CONTAINS]->(t:Table) WHERE db.name CONTAINS 'Executive' and db.name CONTAINS 'Management' RETURN t.name;\",\n",
    "     'Departments, Strategic Initiatives, Performance Metrics'),\n",
    "    (19, \"Name all of the report fields in the Financial Health Dashboard report\", \n",
    "     'MATCH (r:Report)<-[:PART_OF]-(rs:ReportSection) WHERE r.name CONTAINS \"Financial\" and r.name CONTAINS \"Health\" MATCH (rs)<-[:BELONGS_TO]-(rf:ReportField) RETURN rf.name',\n",
    "     'Top Expense Categories, Cost Reduction Opportunities, Net Cash Flow, Cash Flow Trends, Predicted Revenue for Next Quarter, Revenue Confidence Interval'),\n",
    "    (20, \"Which models are used to create the Employee Productivity Report?\", \n",
    "     'MATCH (r:Report)<-[:PART_OF]-(rs:ReportSection)<-[:BELONGS_TO]-(rf:ReportField)<-[:FEEDS]-(db:DataElement)<-[:PRODUCES]-(mv:ModelVersion)<-[:LATEST_VERSION]-(m:Model) WHERE r.name CONTAINS \"Employee\" and r.name CONTAINS \"Productivity\" RETURN m.name',\n",
    "     'Employee Productivity Prediction Model'),\n",
    "    (21, \"Who are the creators of the Sales Performance Dashboard Report?\", \n",
    "     \"MATCH (u:User)-[r]->(rp:Report) WHERE rp.name = 'Sales Performance Dashboard' RETURN u.name, r;\"),\n",
    "    (22, \"Give a summary of the sections in each report.\", \n",
    "     \"MATCH (rs:ReportSection)-[:PART_OF]->(r:Report) RETURN r.name AS Report, collect(rs.name) AS Sections;\"),\n",
    "    (23, \"What tables are in the IT Database?\", \n",
    "     \"MATCH (d:Database {name: 'IT_Database'})-[:CONTAINS]->(t:Table) RETURN t.name;\"),\n",
    "    (24, \"Who has write access to the Operations_Database?\", \n",
    "     \"MATCH (db:Database)<-[:ENTITLED_ON]-(u:User) WHERE db.name CONTAINS 'Operations' AND 'write' in u.entitlement RETURN u.name;\"),\n",
    "    (25, \"Which model versions use mean absolute error as a performance metric?\", \n",
    "     \"MATCH (mv:ModelVersion) WHERE mv.performance_metrics CONTAINS 'mean_absolute_error' RETURN mv.name, mv.performance_metrics;\"),\n",
    "    (26, \"For each database, list the users who have write access.\", \n",
    "     \"MATCH (u:User)-[:ENTITLED_ON]->(db:Database) WHERE 'write' in u.entitlement RETURN db.name, u.name;\"),\n",
    "    (27, \"What are the email addresses of each of the Business Groups' Contacts?\", \n",
    "     \"MATCH (c:Contact)-[:CONTACT_OF]->(b:BusinessGroup) RETURN b.name AS BusinessGroup, c.email AS EmailAddress;\"),\n",
    "    (28, \"What reports are downstream of each database?\", \n",
    "     \"MATCH (d:Database)-[:CONTAINS]->(:Table)-[:HAS_COLUMN]->(:Column)-[:TRANSFORMS]->(:DataElement)-[:FEEDS]->(:ReportField)-[:BELONGS_TO]->(:ReportSection)-[:PART_OF]->(r:Report) \"\n",
    "     \"RETURN d.name AS Database, collect(r.name) AS Reports;\"),\n",
    "    (29, \"List the reports that are associated with each business group.\", \n",
    "     \"MATCH (b:BusinessGroup)-[:ASSOCIATED_WITH]-(r:Report) RETURN b.name AS BusinessGroup, collect(r.name) AS Reports;\"),\n",
    "    (30, \"List all sections and fields of the Employee Productivity Report\", \n",
    "     \"MATCH (r:Report {name: 'Employee Productivity Report'})-[:ASSOCIATED_WITH]->(bg:BusinessGroup), (rs:ReportSection)-[:PART_OF]->(r), (rf:ReportField)-[:BELONGS_TO]->(rs) \"\n",
    "     \"RETURN rs.name as Section, rf.name as Field;\")\n",
    "]\n",
    "\n",
    "# Create DataFrame with all questions and queries\n",
    "df_full = pd.DataFrame(data_full, columns=[\"ID\", \"Question\", \"Cypher Query\", \"GT Response\"])\n"
   ]
  },
  {
   "cell_type": "code",
   "execution_count": 5,
   "metadata": {},
   "outputs": [
    {
     "name": "stderr",
     "output_type": "stream",
     "text": [
      "/var/folders/_y/7_q47y8j151gmydw6vtdcd6c0000gn/T/ipykernel_39466/3941702994.py:1: FutureWarning: Series.__getitem__ treating keys as positions is deprecated. In a future version, integer keys will always be treated as labels (consistent with DataFrame behavior). To access a value by position, use `ser.iloc[pos]`\n",
      "  df_full.iloc[0][2]\n"
     ]
    },
    {
     "data": {
      "text/plain": [
       "'MATCH (n:BusinessGroup) RETURN count(*);'"
      ]
     },
     "execution_count": 5,
     "metadata": {},
     "output_type": "execute_result"
    }
   ],
   "source": [
    "df_full.iloc[0][2]"
   ]
  },
  {
   "cell_type": "code",
   "execution_count": 6,
   "metadata": {},
   "outputs": [
    {
     "name": "stderr",
     "output_type": "stream",
     "text": [
      "/var/folders/_y/7_q47y8j151gmydw6vtdcd6c0000gn/T/ipykernel_39466/1552727510.py:1: FutureWarning: Series.__getitem__ treating keys as positions is deprecated. In a future version, integer keys will always be treated as labels (consistent with DataFrame behavior). To access a value by position, use `ser.iloc[pos]`\n",
      "  df_full.iloc[0][1], df_full.iloc[0][2]\n"
     ]
    },
    {
     "data": {
      "text/plain": [
       "('How many Business Groups are there?',\n",
       " 'MATCH (n:BusinessGroup) RETURN count(*);')"
      ]
     },
     "execution_count": 6,
     "metadata": {},
     "output_type": "execute_result"
    }
   ],
   "source": [
    "df_full.iloc[0][1], df_full.iloc[0][2]"
   ]
  },
  {
   "cell_type": "code",
   "execution_count": 7,
   "metadata": {},
   "outputs": [
    {
     "name": "stderr",
     "output_type": "stream",
     "text": [
      "/var/folders/_y/7_q47y8j151gmydw6vtdcd6c0000gn/T/ipykernel_39466/2497100872.py:13: FutureWarning: Series.__getitem__ treating keys as positions is deprecated. In a future version, integer keys will always be treated as labels (consistent with DataFrame behavior). To access a value by position, use `ser.iloc[pos]`\n",
      "  question = df_full.iloc[i][1]\n",
      "/var/folders/_y/7_q47y8j151gmydw6vtdcd6c0000gn/T/ipykernel_39466/2497100872.py:14: FutureWarning: Series.__getitem__ treating keys as positions is deprecated. In a future version, integer keys will always be treated as labels (consistent with DataFrame behavior). To access a value by position, use `ser.iloc[pos]`\n",
      "  ground_truth_query = df_full.iloc[i][2]\n",
      "/var/folders/_y/7_q47y8j151gmydw6vtdcd6c0000gn/T/ipykernel_39466/2497100872.py:15: FutureWarning: Series.__getitem__ treating keys as positions is deprecated. In a future version, integer keys will always be treated as labels (consistent with DataFrame behavior). To access a value by position, use `ser.iloc[pos]`\n",
      "  ground_truth_response = df_full.iloc[i][3]\n"
     ]
    },
    {
     "name": "stdout",
     "output_type": "stream",
     "text": [
      "---------------------------------\n",
      "User request: How many Business Groups are there?\n",
      "Intent matching result: [UNCOMMON,0]\n",
      "Retrieving information from the BusinessGroup_embedding_graph.\n",
      "UNCOMMON QUERY\n"
     ]
    },
    {
     "name": "stderr",
     "output_type": "stream",
     "text": [
      "/Users/shreyakurdukar/Desktop/dsi-capstone-capstone-kpmg-jim-ben/chat-venv/lib/python3.11/site-packages/langchain_core/_api/deprecation.py:117: LangChainDeprecationWarning: The class `langchain_community.chat_models.openai.ChatOpenAI` was deprecated in langchain-community 0.0.10 and will be removed in 0.2.0. An updated version of the class exists in the langchain-openai package and should be used instead. To use it run `pip install -U langchain-openai` and import as `from langchain_openai import ChatOpenAI`.\n",
      "  warn_deprecated(\n"
     ]
    },
    {
     "name": "stdout",
     "output_type": "stream",
     "text": [
      "Retrieved Context: \n",
      "name: Executive Management\n",
      "\n",
      "name: Research and Development\n",
      "\n",
      "name: Finance and Accounting\n",
      "\n",
      "name: finance\n",
      "\n",
      " Attempt 1 generating Cypher query...\n",
      "\n",
      "\n",
      "\u001b[1m> Entering new GraphCypherQAChain chain...\u001b[0m\n",
      "Generated Cypher:\n",
      "\u001b[32;1m\u001b[1;3mcypher\n",
      "MATCH (b:BusinessGroup) RETURN count(b) AS numberOfBusinessGroups\n",
      "\u001b[0m\n",
      "Full Context:\n",
      "\u001b[32;1m\u001b[1;3m[{'numberOfBusinessGroups': 13}]\u001b[0m\n",
      "\n",
      "\u001b[1m> Finished chain.\u001b[0m\n",
      "LangChain Cypher query steps: [{'query': 'cypher\\nMATCH (b:BusinessGroup) RETURN count(b) AS numberOfBusinessGroups\\n'}, {'context': [{'numberOfBusinessGroups': 13}]}]\n",
      "RETRIEVAL RESPONSE: [{'query': 'cypher\\nMATCH (b:BusinessGroup) RETURN count(b) AS numberOfBusinessGroups\\n'}, {'context': [{'numberOfBusinessGroups': 13}]}]\n"
     ]
    },
    {
     "data": {
      "text/html": [
       "<pre style=\"white-space:pre;overflow-x:auto;line-height:normal;font-family:Menlo,'DejaVu Sans Mono',consolas,'Courier New',monospace\">/Users/shreyakurdukar/Desktop/dsi-capstone-capstone-kpmg-jim-ben/chat-venv/lib/python3.11/site-packages/rich/live.p\n",
       "y:231: UserWarning: install \"ipywidgets\" for Jupyter support\n",
       "  warnings.warn('install \"ipywidgets\" for Jupyter support')\n",
       "</pre>\n"
      ],
      "text/plain": [
       "/Users/shreyakurdukar/Desktop/dsi-capstone-capstone-kpmg-jim-ben/chat-venv/lib/python3.11/site-packages/rich/live.p\n",
       "y:231: UserWarning: install \"ipywidgets\" for Jupyter support\n",
       "  warnings.warn('install \"ipywidgets\" for Jupyter support')\n"
      ]
     },
     "metadata": {},
     "output_type": "display_data"
    },
    {
     "data": {
      "text/html": [
       "<pre style=\"white-space:pre;overflow-x:auto;line-height:normal;font-family:Menlo,'DejaVu Sans Mono',consolas,'Courier New',monospace\">Event loop is already running. Applying nest_asyncio patch to allow async execution...\n",
       "</pre>\n"
      ],
      "text/plain": [
       "Event loop is already running. Applying nest_asyncio patch to allow async execution...\n"
      ]
     },
     "metadata": {},
     "output_type": "display_data"
    },
    {
     "data": {
      "text/html": [
       "<pre style=\"white-space:pre;overflow-x:auto;line-height:normal;font-family:Menlo,'DejaVu Sans Mono',consolas,'Courier New',monospace\">/Users/shreyakurdukar/Desktop/dsi-capstone-capstone-kpmg-jim-ben/chat-venv/lib/python3.11/site-packages/rich/live.p\n",
       "y:231: UserWarning: install \"ipywidgets\" for Jupyter support\n",
       "  warnings.warn('install \"ipywidgets\" for Jupyter support')\n",
       "</pre>\n"
      ],
      "text/plain": [
       "/Users/shreyakurdukar/Desktop/dsi-capstone-capstone-kpmg-jim-ben/chat-venv/lib/python3.11/site-packages/rich/live.p\n",
       "y:231: UserWarning: install \"ipywidgets\" for Jupyter support\n",
       "  warnings.warn('install \"ipywidgets\" for Jupyter support')\n"
      ]
     },
     "metadata": {},
     "output_type": "display_data"
    },
    {
     "data": {
      "text/html": [
       "<pre style=\"white-space:pre;overflow-x:auto;line-height:normal;font-family:Menlo,'DejaVu Sans Mono',consolas,'Courier New',monospace\">/Users/shreyakurdukar/Desktop/dsi-capstone-capstone-kpmg-jim-ben/chat-venv/lib/python3.11/site-packages/rich/live.p\n",
       "y:231: UserWarning: install \"ipywidgets\" for Jupyter support\n",
       "  warnings.warn('install \"ipywidgets\" for Jupyter support')\n",
       "</pre>\n"
      ],
      "text/plain": [
       "/Users/shreyakurdukar/Desktop/dsi-capstone-capstone-kpmg-jim-ben/chat-venv/lib/python3.11/site-packages/rich/live.p\n",
       "y:231: UserWarning: install \"ipywidgets\" for Jupyter support\n",
       "  warnings.warn('install \"ipywidgets\" for Jupyter support')\n"
      ]
     },
     "metadata": {},
     "output_type": "display_data"
    },
    {
     "data": {
      "text/html": [
       "<pre style=\"white-space:pre;overflow-x:auto;line-height:normal;font-family:Menlo,'DejaVu Sans Mono',consolas,'Courier New',monospace\"></pre>\n"
      ],
      "text/plain": []
     },
     "metadata": {},
     "output_type": "display_data"
    },
    {
     "data": {
      "text/html": [
       "<pre style=\"white-space:pre;overflow-x:auto;line-height:normal;font-family:Menlo,'DejaVu Sans Mono',consolas,'Courier New',monospace\">\n",
       "</pre>\n"
      ],
      "text/plain": [
       "\n"
      ]
     },
     "metadata": {},
     "output_type": "display_data"
    },
    {
     "data": {
      "text/html": [
       "<pre style=\"white-space:pre;overflow-x:auto;line-height:normal;font-family:Menlo,'DejaVu Sans Mono',consolas,'Courier New',monospace\">Event loop is already running. Applying nest_asyncio patch to allow async execution...\n",
       "</pre>\n"
      ],
      "text/plain": [
       "Event loop is already running. Applying nest_asyncio patch to allow async execution...\n"
      ]
     },
     "metadata": {},
     "output_type": "display_data"
    },
    {
     "data": {
      "text/html": [
       "<pre style=\"white-space:pre;overflow-x:auto;line-height:normal;font-family:Menlo,'DejaVu Sans Mono',consolas,'Courier New',monospace\">/Users/shreyakurdukar/Desktop/dsi-capstone-capstone-kpmg-jim-ben/chat-venv/lib/python3.11/site-packages/rich/live.p\n",
       "y:231: UserWarning: install \"ipywidgets\" for Jupyter support\n",
       "  warnings.warn('install \"ipywidgets\" for Jupyter support')\n",
       "</pre>\n"
      ],
      "text/plain": [
       "/Users/shreyakurdukar/Desktop/dsi-capstone-capstone-kpmg-jim-ben/chat-venv/lib/python3.11/site-packages/rich/live.p\n",
       "y:231: UserWarning: install \"ipywidgets\" for Jupyter support\n",
       "  warnings.warn('install \"ipywidgets\" for Jupyter support')\n"
      ]
     },
     "metadata": {},
     "output_type": "display_data"
    },
    {
     "data": {
      "text/html": [
       "<pre style=\"white-space:pre;overflow-x:auto;line-height:normal;font-family:Menlo,'DejaVu Sans Mono',consolas,'Courier New',monospace\"></pre>\n"
      ],
      "text/plain": []
     },
     "metadata": {},
     "output_type": "display_data"
    },
    {
     "data": {
      "text/html": [
       "<pre style=\"white-space:pre;overflow-x:auto;line-height:normal;font-family:Menlo,'DejaVu Sans Mono',consolas,'Courier New',monospace\">\n",
       "</pre>\n"
      ],
      "text/plain": [
       "\n"
      ]
     },
     "metadata": {},
     "output_type": "display_data"
    },
    {
     "name": "stderr",
     "output_type": "stream",
     "text": [
      "/var/folders/_y/7_q47y8j151gmydw6vtdcd6c0000gn/T/ipykernel_39466/2497100872.py:13: FutureWarning: Series.__getitem__ treating keys as positions is deprecated. In a future version, integer keys will always be treated as labels (consistent with DataFrame behavior). To access a value by position, use `ser.iloc[pos]`\n",
      "  question = df_full.iloc[i][1]\n",
      "/var/folders/_y/7_q47y8j151gmydw6vtdcd6c0000gn/T/ipykernel_39466/2497100872.py:14: FutureWarning: Series.__getitem__ treating keys as positions is deprecated. In a future version, integer keys will always be treated as labels (consistent with DataFrame behavior). To access a value by position, use `ser.iloc[pos]`\n",
      "  ground_truth_query = df_full.iloc[i][2]\n",
      "/var/folders/_y/7_q47y8j151gmydw6vtdcd6c0000gn/T/ipykernel_39466/2497100872.py:15: FutureWarning: Series.__getitem__ treating keys as positions is deprecated. In a future version, integer keys will always be treated as labels (consistent with DataFrame behavior). To access a value by position, use `ser.iloc[pos]`\n",
      "  ground_truth_response = df_full.iloc[i][3]\n"
     ]
    },
    {
     "name": "stdout",
     "output_type": "stream",
     "text": [
      "---------------------------------\n",
      "User request: What type of database is Customer Service Database?\n",
      "Intent matching result: [UNCOMMON,0]\n",
      "Retrieving information from the Database_embedding_graph.\n",
      "UNCOMMON QUERY\n",
      "Retrieved Context: \n",
      "name: Customer Service Database\n",
      "type: relational\n",
      "\n",
      "name: Sales Database\n",
      "type: relational\n",
      "\n",
      "name: Marketing Database\n",
      "type: relational\n",
      "\n",
      "name: Product Database\n",
      "type: relational\n",
      "\n",
      " Attempt 1 generating Cypher query...\n",
      "\n",
      "\n",
      "\u001b[1m> Entering new GraphCypherQAChain chain...\u001b[0m\n",
      "Generated Cypher:\n",
      "\u001b[32;1m\u001b[1;3mcypher\n",
      "MATCH (d:Database {name: \"Customer Service Database\"})\n",
      "RETURN d.type\n",
      "\u001b[0m\n",
      "Full Context:\n",
      "\u001b[32;1m\u001b[1;3m[{'d.type': 'relational'}]\u001b[0m\n",
      "\n",
      "\u001b[1m> Finished chain.\u001b[0m\n",
      "LangChain Cypher query steps: [{'query': 'cypher\\nMATCH (d:Database {name: \"Customer Service Database\"})\\nRETURN d.type\\n'}, {'context': [{'d.type': 'relational'}]}]\n",
      "RETRIEVAL RESPONSE: [{'query': 'cypher\\nMATCH (d:Database {name: \"Customer Service Database\"})\\nRETURN d.type\\n'}, {'context': [{'d.type': 'relational'}]}]\n"
     ]
    },
    {
     "data": {
      "text/html": [
       "<pre style=\"white-space:pre;overflow-x:auto;line-height:normal;font-family:Menlo,'DejaVu Sans Mono',consolas,'Courier New',monospace\">/Users/shreyakurdukar/Desktop/dsi-capstone-capstone-kpmg-jim-ben/chat-venv/lib/python3.11/site-packages/rich/live.p\n",
       "y:231: UserWarning: install \"ipywidgets\" for Jupyter support\n",
       "  warnings.warn('install \"ipywidgets\" for Jupyter support')\n",
       "</pre>\n"
      ],
      "text/plain": [
       "/Users/shreyakurdukar/Desktop/dsi-capstone-capstone-kpmg-jim-ben/chat-venv/lib/python3.11/site-packages/rich/live.p\n",
       "y:231: UserWarning: install \"ipywidgets\" for Jupyter support\n",
       "  warnings.warn('install \"ipywidgets\" for Jupyter support')\n"
      ]
     },
     "metadata": {},
     "output_type": "display_data"
    },
    {
     "data": {
      "text/html": [
       "<pre style=\"white-space:pre;overflow-x:auto;line-height:normal;font-family:Menlo,'DejaVu Sans Mono',consolas,'Courier New',monospace\">Event loop is already running. Applying nest_asyncio patch to allow async execution...\n",
       "</pre>\n"
      ],
      "text/plain": [
       "Event loop is already running. Applying nest_asyncio patch to allow async execution...\n"
      ]
     },
     "metadata": {},
     "output_type": "display_data"
    },
    {
     "data": {
      "text/html": [
       "<pre style=\"white-space:pre;overflow-x:auto;line-height:normal;font-family:Menlo,'DejaVu Sans Mono',consolas,'Courier New',monospace\">/Users/shreyakurdukar/Desktop/dsi-capstone-capstone-kpmg-jim-ben/chat-venv/lib/python3.11/site-packages/rich/live.p\n",
       "y:231: UserWarning: install \"ipywidgets\" for Jupyter support\n",
       "  warnings.warn('install \"ipywidgets\" for Jupyter support')\n",
       "</pre>\n"
      ],
      "text/plain": [
       "/Users/shreyakurdukar/Desktop/dsi-capstone-capstone-kpmg-jim-ben/chat-venv/lib/python3.11/site-packages/rich/live.p\n",
       "y:231: UserWarning: install \"ipywidgets\" for Jupyter support\n",
       "  warnings.warn('install \"ipywidgets\" for Jupyter support')\n"
      ]
     },
     "metadata": {},
     "output_type": "display_data"
    },
    {
     "data": {
      "text/html": [
       "<pre style=\"white-space:pre;overflow-x:auto;line-height:normal;font-family:Menlo,'DejaVu Sans Mono',consolas,'Courier New',monospace\"></pre>\n"
      ],
      "text/plain": []
     },
     "metadata": {},
     "output_type": "display_data"
    },
    {
     "data": {
      "text/html": [
       "<pre style=\"white-space:pre;overflow-x:auto;line-height:normal;font-family:Menlo,'DejaVu Sans Mono',consolas,'Courier New',monospace\">\n",
       "</pre>\n"
      ],
      "text/plain": [
       "\n"
      ]
     },
     "metadata": {},
     "output_type": "display_data"
    },
    {
     "data": {
      "text/html": [
       "<pre style=\"white-space:pre;overflow-x:auto;line-height:normal;font-family:Menlo,'DejaVu Sans Mono',consolas,'Courier New',monospace\">Event loop is already running. Applying nest_asyncio patch to allow async execution...\n",
       "</pre>\n"
      ],
      "text/plain": [
       "Event loop is already running. Applying nest_asyncio patch to allow async execution...\n"
      ]
     },
     "metadata": {},
     "output_type": "display_data"
    },
    {
     "data": {
      "text/html": [
       "<pre style=\"white-space:pre;overflow-x:auto;line-height:normal;font-family:Menlo,'DejaVu Sans Mono',consolas,'Courier New',monospace\">/Users/shreyakurdukar/Desktop/dsi-capstone-capstone-kpmg-jim-ben/chat-venv/lib/python3.11/site-packages/rich/live.p\n",
       "y:231: UserWarning: install \"ipywidgets\" for Jupyter support\n",
       "  warnings.warn('install \"ipywidgets\" for Jupyter support')\n",
       "</pre>\n"
      ],
      "text/plain": [
       "/Users/shreyakurdukar/Desktop/dsi-capstone-capstone-kpmg-jim-ben/chat-venv/lib/python3.11/site-packages/rich/live.p\n",
       "y:231: UserWarning: install \"ipywidgets\" for Jupyter support\n",
       "  warnings.warn('install \"ipywidgets\" for Jupyter support')\n"
      ]
     },
     "metadata": {},
     "output_type": "display_data"
    },
    {
     "data": {
      "text/html": [
       "<pre style=\"white-space:pre;overflow-x:auto;line-height:normal;font-family:Menlo,'DejaVu Sans Mono',consolas,'Courier New',monospace\"></pre>\n"
      ],
      "text/plain": []
     },
     "metadata": {},
     "output_type": "display_data"
    },
    {
     "data": {
      "text/html": [
       "<pre style=\"white-space:pre;overflow-x:auto;line-height:normal;font-family:Menlo,'DejaVu Sans Mono',consolas,'Courier New',monospace\">\n",
       "</pre>\n"
      ],
      "text/plain": [
       "\n"
      ]
     },
     "metadata": {},
     "output_type": "display_data"
    },
    {
     "name": "stderr",
     "output_type": "stream",
     "text": [
      "/var/folders/_y/7_q47y8j151gmydw6vtdcd6c0000gn/T/ipykernel_39466/2497100872.py:13: FutureWarning: Series.__getitem__ treating keys as positions is deprecated. In a future version, integer keys will always be treated as labels (consistent with DataFrame behavior). To access a value by position, use `ser.iloc[pos]`\n",
      "  question = df_full.iloc[i][1]\n",
      "/var/folders/_y/7_q47y8j151gmydw6vtdcd6c0000gn/T/ipykernel_39466/2497100872.py:14: FutureWarning: Series.__getitem__ treating keys as positions is deprecated. In a future version, integer keys will always be treated as labels (consistent with DataFrame behavior). To access a value by position, use `ser.iloc[pos]`\n",
      "  ground_truth_query = df_full.iloc[i][2]\n",
      "/var/folders/_y/7_q47y8j151gmydw6vtdcd6c0000gn/T/ipykernel_39466/2497100872.py:15: FutureWarning: Series.__getitem__ treating keys as positions is deprecated. In a future version, integer keys will always be treated as labels (consistent with DataFrame behavior). To access a value by position, use `ser.iloc[pos]`\n",
      "  ground_truth_response = df_full.iloc[i][3]\n"
     ]
    },
    {
     "name": "stdout",
     "output_type": "stream",
     "text": [
      "---------------------------------\n",
      "User request: What report is the regional sales breakdown report field part of?\n",
      "Intent matching result: [COMMON,3]\n",
      "['regional sales breakdown', ' ReportField']\n",
      "COMMON QUERY: [3|regional sales breakdown| ReportField]\n",
      "Query with captured input parameter: MATCH (rf:ReportField {name: \"regional sales breakdown\"})\n",
      "        OPTIONAL MATCH (rf)<-[:FEEDS]-(de1:DataElement)<-[:TRANSFORMS]-(col1:Column)-[r1]-(t1:Table)\n",
      "        WITH rf, de1, collect(DISTINCT col1.name) AS cols1\n",
      "        OPTIONAL MATCH (rf)<-[:FEEDS]-(de2_1:DataElement)<-[:PRODUCES]-(mv:ModelVersion)<-[:INPUT_TO]-(de2_2:DataElement)<-[:TRANSFORMS]-(col2:Column)-[r2]-(t2:Table)\n",
      "        WHERE mv.latest_version = \"True\"\n",
      "        WITH rf, de1, cols1, de2_1, collect(DISTINCT col2.name) AS cols2, mv, collect(DISTINCT de2_2.name) AS de2_2s\n",
      "        WITH rf, COALESCE(de1.name, de2_1.name) AS de, (cols1 + cols2) AS cols, mv, de2_2s\n",
      "        RETURN { ReportField: rf.name, ModelVersion: mv.name, Column: cols } AS result\n",
      "        \n",
      "Neo4j cypher query result: []\n",
      "NOTE: Common query execution failed, trying parameter correction\n",
      "========================PARAMETER CORRECTION========================\n",
      "\n",
      "Fetched relevant node names: ['Overall Sentiment', 'Key Themes in Feedback', 'Total Surveys Sent', 'Response Rate', 'Predicted Satisfaction Score', 'Key Drivers of Satisfaction', 'Average Productivity by Department', 'Top Performers', 'Training Hours', 'Productivity Improvement', 'Predicted Productivity Score', 'Factors Influencing Productivity', 'Top Expense Categories', 'Cost Reduction Opportunities', 'Net Cash Flow', 'Cash Flow Trends', 'Predicted Revenue for Next Quarter', 'Revenue Confidence Interval', 'Products with Low Stock', 'Average Days to Reorder', 'Inventory Turnover Ratio', 'Average Inventory Value', 'Predicted Demand for Products', 'Recommended Reorder Quantities', 'Monthly Sales Trend', 'Year-over-Year Growth', 'Sales by Region', 'Top Performing Regions', 'Sales by Product Category', 'Category Growth Rate', 'Predicted Sales for Next Quarter', 'Sales Confidence Interval']\n",
      "\n"
     ]
    },
    {
     "name": "stderr",
     "output_type": "stream",
     "text": [
      "/Users/shreyakurdukar/Desktop/dsi-capstone-capstone-kpmg-jim-ben/chat-venv/lib/python3.11/site-packages/langchain_core/_api/deprecation.py:117: LangChainDeprecationWarning: The function `__call__` was deprecated in LangChain 0.1.7 and will be removed in 0.2.0. Use invoke instead.\n",
      "  warn_deprecated(\n"
     ]
    },
    {
     "name": "stdout",
     "output_type": "stream",
     "text": [
      "\n",
      "Original User Input: [What report is the regional sales breakdown report field part of?]\n",
      "Corrected User Input: [[Sales by Region|What report is the regional sales breakdown report field part of?]]\n",
      "Query with captured input parameter: MATCH (rf:ReportField {name: \"Sales by Region\"})\n",
      "        OPTIONAL MATCH (rf)<-[:FEEDS]-(de1:DataElement)<-[:TRANSFORMS]-(col1:Column)-[r1]-(t1:Table)\n",
      "        WITH rf, de1, collect(DISTINCT col1.name) AS cols1\n",
      "        OPTIONAL MATCH (rf)<-[:FEEDS]-(de2_1:DataElement)<-[:PRODUCES]-(mv:ModelVersion)<-[:INPUT_TO]-(de2_2:DataElement)<-[:TRANSFORMS]-(col2:Column)-[r2]-(t2:Table)\n",
      "        WHERE mv.latest_version = \"True\"\n",
      "        WITH rf, de1, cols1, de2_1, collect(DISTINCT col2.name) AS cols2, mv, collect(DISTINCT de2_2.name) AS de2_2s\n",
      "        WITH rf, COALESCE(de1.name, de2_1.name) AS de, (cols1 + cols2) AS cols, mv, de2_2s\n",
      "        RETURN { ReportField: rf.name, ModelVersion: mv.name, Column: cols } AS result\n",
      "        \n"
     ]
    },
    {
     "name": "stderr",
     "output_type": "stream",
     "text": [
      "2024-12-04 10:14:54.364 \n",
      "  \u001b[33m\u001b[1mWarning:\u001b[0m to view this Streamlit app on a browser, run it with the following\n",
      "  command:\n",
      "\n",
      "    streamlit run /Users/shreyakurdukar/Desktop/dsi-capstone-capstone-kpmg-jim-ben/chat-venv/lib/python3.11/site-packages/ipykernel_launcher.py [ARGUMENTS]\n"
     ]
    },
    {
     "data": {
      "text/html": [
       "<pre style=\"white-space:pre;overflow-x:auto;line-height:normal;font-family:Menlo,'DejaVu Sans Mono',consolas,'Courier New',monospace\">/Users/shreyakurdukar/Desktop/dsi-capstone-capstone-kpmg-jim-ben/chat-venv/lib/python3.11/site-packages/rich/live.p\n",
       "y:231: UserWarning: install \"ipywidgets\" for Jupyter support\n",
       "  warnings.warn('install \"ipywidgets\" for Jupyter support')\n",
       "</pre>\n"
      ],
      "text/plain": [
       "/Users/shreyakurdukar/Desktop/dsi-capstone-capstone-kpmg-jim-ben/chat-venv/lib/python3.11/site-packages/rich/live.p\n",
       "y:231: UserWarning: install \"ipywidgets\" for Jupyter support\n",
       "  warnings.warn('install \"ipywidgets\" for Jupyter support')\n"
      ]
     },
     "metadata": {},
     "output_type": "display_data"
    },
    {
     "data": {
      "text/html": [
       "<pre style=\"white-space:pre;overflow-x:auto;line-height:normal;font-family:Menlo,'DejaVu Sans Mono',consolas,'Courier New',monospace\">Event loop is already running. Applying nest_asyncio patch to allow async execution...\n",
       "</pre>\n"
      ],
      "text/plain": [
       "Event loop is already running. Applying nest_asyncio patch to allow async execution...\n"
      ]
     },
     "metadata": {},
     "output_type": "display_data"
    },
    {
     "data": {
      "text/html": [
       "<pre style=\"white-space:pre;overflow-x:auto;line-height:normal;font-family:Menlo,'DejaVu Sans Mono',consolas,'Courier New',monospace\">/Users/shreyakurdukar/Desktop/dsi-capstone-capstone-kpmg-jim-ben/chat-venv/lib/python3.11/site-packages/rich/live.p\n",
       "y:231: UserWarning: install \"ipywidgets\" for Jupyter support\n",
       "  warnings.warn('install \"ipywidgets\" for Jupyter support')\n",
       "</pre>\n"
      ],
      "text/plain": [
       "/Users/shreyakurdukar/Desktop/dsi-capstone-capstone-kpmg-jim-ben/chat-venv/lib/python3.11/site-packages/rich/live.p\n",
       "y:231: UserWarning: install \"ipywidgets\" for Jupyter support\n",
       "  warnings.warn('install \"ipywidgets\" for Jupyter support')\n"
      ]
     },
     "metadata": {},
     "output_type": "display_data"
    },
    {
     "data": {
      "text/html": [
       "<pre style=\"white-space:pre;overflow-x:auto;line-height:normal;font-family:Menlo,'DejaVu Sans Mono',consolas,'Courier New',monospace\"></pre>\n"
      ],
      "text/plain": []
     },
     "metadata": {},
     "output_type": "display_data"
    },
    {
     "data": {
      "text/html": [
       "<pre style=\"white-space:pre;overflow-x:auto;line-height:normal;font-family:Menlo,'DejaVu Sans Mono',consolas,'Courier New',monospace\">\n",
       "</pre>\n"
      ],
      "text/plain": [
       "\n"
      ]
     },
     "metadata": {},
     "output_type": "display_data"
    },
    {
     "data": {
      "text/html": [
       "<pre style=\"white-space:pre;overflow-x:auto;line-height:normal;font-family:Menlo,'DejaVu Sans Mono',consolas,'Courier New',monospace\">Event loop is already running. Applying nest_asyncio patch to allow async execution...\n",
       "</pre>\n"
      ],
      "text/plain": [
       "Event loop is already running. Applying nest_asyncio patch to allow async execution...\n"
      ]
     },
     "metadata": {},
     "output_type": "display_data"
    },
    {
     "data": {
      "text/html": [
       "<pre style=\"white-space:pre;overflow-x:auto;line-height:normal;font-family:Menlo,'DejaVu Sans Mono',consolas,'Courier New',monospace\">/Users/shreyakurdukar/Desktop/dsi-capstone-capstone-kpmg-jim-ben/chat-venv/lib/python3.11/site-packages/rich/live.p\n",
       "y:231: UserWarning: install \"ipywidgets\" for Jupyter support\n",
       "  warnings.warn('install \"ipywidgets\" for Jupyter support')\n",
       "</pre>\n"
      ],
      "text/plain": [
       "/Users/shreyakurdukar/Desktop/dsi-capstone-capstone-kpmg-jim-ben/chat-venv/lib/python3.11/site-packages/rich/live.p\n",
       "y:231: UserWarning: install \"ipywidgets\" for Jupyter support\n",
       "  warnings.warn('install \"ipywidgets\" for Jupyter support')\n"
      ]
     },
     "metadata": {},
     "output_type": "display_data"
    },
    {
     "data": {
      "text/html": [
       "<pre style=\"white-space:pre;overflow-x:auto;line-height:normal;font-family:Menlo,'DejaVu Sans Mono',consolas,'Courier New',monospace\"></pre>\n"
      ],
      "text/plain": []
     },
     "metadata": {},
     "output_type": "display_data"
    },
    {
     "data": {
      "text/html": [
       "<pre style=\"white-space:pre;overflow-x:auto;line-height:normal;font-family:Menlo,'DejaVu Sans Mono',consolas,'Courier New',monospace\">\n",
       "</pre>\n"
      ],
      "text/plain": [
       "\n"
      ]
     },
     "metadata": {},
     "output_type": "display_data"
    },
    {
     "name": "stderr",
     "output_type": "stream",
     "text": [
      "/var/folders/_y/7_q47y8j151gmydw6vtdcd6c0000gn/T/ipykernel_39466/2497100872.py:13: FutureWarning: Series.__getitem__ treating keys as positions is deprecated. In a future version, integer keys will always be treated as labels (consistent with DataFrame behavior). To access a value by position, use `ser.iloc[pos]`\n",
      "  question = df_full.iloc[i][1]\n",
      "/var/folders/_y/7_q47y8j151gmydw6vtdcd6c0000gn/T/ipykernel_39466/2497100872.py:14: FutureWarning: Series.__getitem__ treating keys as positions is deprecated. In a future version, integer keys will always be treated as labels (consistent with DataFrame behavior). To access a value by position, use `ser.iloc[pos]`\n",
      "  ground_truth_query = df_full.iloc[i][2]\n",
      "/var/folders/_y/7_q47y8j151gmydw6vtdcd6c0000gn/T/ipykernel_39466/2497100872.py:15: FutureWarning: Series.__getitem__ treating keys as positions is deprecated. In a future version, integer keys will always be treated as labels (consistent with DataFrame behavior). To access a value by position, use `ser.iloc[pos]`\n",
      "  ground_truth_response = df_full.iloc[i][3]\n"
     ]
    },
    {
     "name": "stdout",
     "output_type": "stream",
     "text": [
      "---------------------------------\n",
      "User request: Which users own the Customer Satisfaction Survey Analysis report?\n",
      "Intent matching result: [UNCOMMON,0]\n",
      "Retrieving information from the User_embedding_graph.\n",
      "UNCOMMON QUERY\n",
      "Retrieved Context: \n",
      "name: Customer Insights Analyst\n",
      "account: customer.insights.analyst@company.com\n",
      "\n",
      "name: Customer Insights Analyst\n",
      "account: customer.insights.analyst@company.com\n",
      "\n",
      "name: customer_service_analyst\n",
      "account: cus_analyst@customerservicecompany.com\n",
      "\n",
      "name: Sales Data Analyst\n",
      "account: sales.analyst@company.com\n",
      "\n",
      " Attempt 1 generating Cypher query...\n",
      "\n",
      "\n",
      "\u001b[1m> Entering new GraphCypherQAChain chain...\u001b[0m\n",
      "Generated Cypher:\n",
      "\u001b[32;1m\u001b[1;3mcypher\n",
      "MATCH (u:User)-[:OWNS]->(r:Report {name: \"Customer Satisfaction Survey Analysis\"})\n",
      "RETURN u.name\n",
      "\u001b[0m\n",
      "Full Context:\n",
      "\u001b[32;1m\u001b[1;3m[{'u.name': 'Customer Service Director'}]\u001b[0m\n",
      "\n",
      "\u001b[1m> Finished chain.\u001b[0m\n",
      "LangChain Cypher query steps: [{'query': 'cypher\\nMATCH (u:User)-[:OWNS]->(r:Report {name: \"Customer Satisfaction Survey Analysis\"})\\nRETURN u.name\\n'}, {'context': [{'u.name': 'Customer Service Director'}]}]\n",
      "RETRIEVAL RESPONSE: [{'query': 'cypher\\nMATCH (u:User)-[:OWNS]->(r:Report {name: \"Customer Satisfaction Survey Analysis\"})\\nRETURN u.name\\n'}, {'context': [{'u.name': 'Customer Service Director'}]}]\n"
     ]
    },
    {
     "data": {
      "text/html": [
       "<pre style=\"white-space:pre;overflow-x:auto;line-height:normal;font-family:Menlo,'DejaVu Sans Mono',consolas,'Courier New',monospace\">/Users/shreyakurdukar/Desktop/dsi-capstone-capstone-kpmg-jim-ben/chat-venv/lib/python3.11/site-packages/rich/live.p\n",
       "y:231: UserWarning: install \"ipywidgets\" for Jupyter support\n",
       "  warnings.warn('install \"ipywidgets\" for Jupyter support')\n",
       "</pre>\n"
      ],
      "text/plain": [
       "/Users/shreyakurdukar/Desktop/dsi-capstone-capstone-kpmg-jim-ben/chat-venv/lib/python3.11/site-packages/rich/live.p\n",
       "y:231: UserWarning: install \"ipywidgets\" for Jupyter support\n",
       "  warnings.warn('install \"ipywidgets\" for Jupyter support')\n"
      ]
     },
     "metadata": {},
     "output_type": "display_data"
    },
    {
     "data": {
      "text/html": [
       "<pre style=\"white-space:pre;overflow-x:auto;line-height:normal;font-family:Menlo,'DejaVu Sans Mono',consolas,'Courier New',monospace\">Event loop is already running. Applying nest_asyncio patch to allow async execution...\n",
       "</pre>\n"
      ],
      "text/plain": [
       "Event loop is already running. Applying nest_asyncio patch to allow async execution...\n"
      ]
     },
     "metadata": {},
     "output_type": "display_data"
    },
    {
     "data": {
      "text/html": [
       "<pre style=\"white-space:pre;overflow-x:auto;line-height:normal;font-family:Menlo,'DejaVu Sans Mono',consolas,'Courier New',monospace\">/Users/shreyakurdukar/Desktop/dsi-capstone-capstone-kpmg-jim-ben/chat-venv/lib/python3.11/site-packages/rich/live.p\n",
       "y:231: UserWarning: install \"ipywidgets\" for Jupyter support\n",
       "  warnings.warn('install \"ipywidgets\" for Jupyter support')\n",
       "</pre>\n"
      ],
      "text/plain": [
       "/Users/shreyakurdukar/Desktop/dsi-capstone-capstone-kpmg-jim-ben/chat-venv/lib/python3.11/site-packages/rich/live.p\n",
       "y:231: UserWarning: install \"ipywidgets\" for Jupyter support\n",
       "  warnings.warn('install \"ipywidgets\" for Jupyter support')\n"
      ]
     },
     "metadata": {},
     "output_type": "display_data"
    },
    {
     "data": {
      "text/html": [
       "<pre style=\"white-space:pre;overflow-x:auto;line-height:normal;font-family:Menlo,'DejaVu Sans Mono',consolas,'Courier New',monospace\"></pre>\n"
      ],
      "text/plain": []
     },
     "metadata": {},
     "output_type": "display_data"
    },
    {
     "data": {
      "text/html": [
       "<pre style=\"white-space:pre;overflow-x:auto;line-height:normal;font-family:Menlo,'DejaVu Sans Mono',consolas,'Courier New',monospace\">\n",
       "</pre>\n"
      ],
      "text/plain": [
       "\n"
      ]
     },
     "metadata": {},
     "output_type": "display_data"
    },
    {
     "data": {
      "text/html": [
       "<pre style=\"white-space:pre;overflow-x:auto;line-height:normal;font-family:Menlo,'DejaVu Sans Mono',consolas,'Courier New',monospace\">Event loop is already running. Applying nest_asyncio patch to allow async execution...\n",
       "</pre>\n"
      ],
      "text/plain": [
       "Event loop is already running. Applying nest_asyncio patch to allow async execution...\n"
      ]
     },
     "metadata": {},
     "output_type": "display_data"
    },
    {
     "data": {
      "text/html": [
       "<pre style=\"white-space:pre;overflow-x:auto;line-height:normal;font-family:Menlo,'DejaVu Sans Mono',consolas,'Courier New',monospace\">/Users/shreyakurdukar/Desktop/dsi-capstone-capstone-kpmg-jim-ben/chat-venv/lib/python3.11/site-packages/rich/live.p\n",
       "y:231: UserWarning: install \"ipywidgets\" for Jupyter support\n",
       "  warnings.warn('install \"ipywidgets\" for Jupyter support')\n",
       "</pre>\n"
      ],
      "text/plain": [
       "/Users/shreyakurdukar/Desktop/dsi-capstone-capstone-kpmg-jim-ben/chat-venv/lib/python3.11/site-packages/rich/live.p\n",
       "y:231: UserWarning: install \"ipywidgets\" for Jupyter support\n",
       "  warnings.warn('install \"ipywidgets\" for Jupyter support')\n"
      ]
     },
     "metadata": {},
     "output_type": "display_data"
    },
    {
     "data": {
      "text/html": [
       "<pre style=\"white-space:pre;overflow-x:auto;line-height:normal;font-family:Menlo,'DejaVu Sans Mono',consolas,'Courier New',monospace\"></pre>\n"
      ],
      "text/plain": []
     },
     "metadata": {},
     "output_type": "display_data"
    },
    {
     "data": {
      "text/html": [
       "<pre style=\"white-space:pre;overflow-x:auto;line-height:normal;font-family:Menlo,'DejaVu Sans Mono',consolas,'Courier New',monospace\">\n",
       "</pre>\n"
      ],
      "text/plain": [
       "\n"
      ]
     },
     "metadata": {},
     "output_type": "display_data"
    },
    {
     "name": "stderr",
     "output_type": "stream",
     "text": [
      "/var/folders/_y/7_q47y8j151gmydw6vtdcd6c0000gn/T/ipykernel_39466/2497100872.py:13: FutureWarning: Series.__getitem__ treating keys as positions is deprecated. In a future version, integer keys will always be treated as labels (consistent with DataFrame behavior). To access a value by position, use `ser.iloc[pos]`\n",
      "  question = df_full.iloc[i][1]\n",
      "/var/folders/_y/7_q47y8j151gmydw6vtdcd6c0000gn/T/ipykernel_39466/2497100872.py:14: FutureWarning: Series.__getitem__ treating keys as positions is deprecated. In a future version, integer keys will always be treated as labels (consistent with DataFrame behavior). To access a value by position, use `ser.iloc[pos]`\n",
      "  ground_truth_query = df_full.iloc[i][2]\n",
      "/var/folders/_y/7_q47y8j151gmydw6vtdcd6c0000gn/T/ipykernel_39466/2497100872.py:15: FutureWarning: Series.__getitem__ treating keys as positions is deprecated. In a future version, integer keys will always be treated as labels (consistent with DataFrame behavior). To access a value by position, use `ser.iloc[pos]`\n",
      "  ground_truth_response = df_full.iloc[i][3]\n"
     ]
    },
    {
     "name": "stdout",
     "output_type": "stream",
     "text": [
      "---------------------------------\n",
      "User request: What business group is the IT database associated with?\n",
      "Intent matching result: [UNCOMMON,0]\n",
      "Retrieving information from the Database_embedding_graph.\n",
      "UNCOMMON QUERY\n",
      "Retrieved Context: \n",
      "name: IT Database\n",
      "type: relational\n",
      "\n",
      "name: R&D Database\n",
      "type: relational\n",
      "\n",
      "name: Executive Management Database\n",
      "type: relational\n",
      "\n",
      "name: HR Database\n",
      "type: relational\n",
      "\n",
      " Attempt 1 generating Cypher query...\n",
      "\n",
      "\n",
      "\u001b[1m> Entering new GraphCypherQAChain chain...\u001b[0m\n",
      "Generated Cypher:\n",
      "\u001b[32;1m\u001b[1;3mcypher\n",
      "MATCH (db:Database {name: \"IT\"})-[:ASSOCIATED_WITH]->(bg:BusinessGroup)\n",
      "RETURN bg.name\n",
      "\u001b[0m\n",
      "Full Context:\n",
      "\u001b[32;1m\u001b[1;3m[]\u001b[0m\n",
      "\n",
      "\u001b[1m> Finished chain.\u001b[0m\n",
      "LangChain Cypher query steps: [{'query': 'cypher\\nMATCH (db:Database {name: \"IT\"})-[:ASSOCIATED_WITH]->(bg:BusinessGroup)\\nRETURN bg.name\\n'}, {'context': []}]\n",
      "Query failed to retrieve data. Refining query...\n",
      "\n",
      " Attempt 2 generating Cypher query...\n",
      "\n",
      "\n",
      "\u001b[1m> Entering new GraphCypherQAChain chain...\u001b[0m\n",
      "Generated Cypher:\n",
      "\u001b[32;1m\u001b[1;3mcypher\n",
      "MATCH (bg:BusinessGroup)<-[:ASSOCIATED_WITH]-(db:Database)\n",
      "WHERE db.name = \"IT\"\n",
      "RETURN bg.name\n",
      "\u001b[0m\n",
      "Full Context:\n",
      "\u001b[32;1m\u001b[1;3m[]\u001b[0m\n",
      "\n",
      "\u001b[1m> Finished chain.\u001b[0m\n",
      "LangChain Cypher query steps: [{'query': 'cypher\\nMATCH (bg:BusinessGroup)<-[:ASSOCIATED_WITH]-(db:Database)\\nWHERE db.name = \"IT\"\\nRETURN bg.name\\n'}, {'context': []}]\n",
      "Query failed to retrieve data. Refining query...\n",
      "\n",
      " Attempt 3 generating Cypher query...\n",
      "\n",
      "\n",
      "\u001b[1m> Entering new GraphCypherQAChain chain...\u001b[0m\n",
      "Generated Cypher:\n",
      "\u001b[32;1m\u001b[1;3mcypher\n",
      "MATCH (bg:BusinessGroup)<-[:ASSOCIATED_WITH]-(db:Database {name: \"IT\"})\n",
      "RETURN bg.name\n",
      "\u001b[0m\n",
      "Full Context:\n",
      "\u001b[32;1m\u001b[1;3m[]\u001b[0m\n",
      "\n",
      "\u001b[1m> Finished chain.\u001b[0m\n",
      "LangChain Cypher query steps: [{'query': 'cypher\\nMATCH (bg:BusinessGroup)<-[:ASSOCIATED_WITH]-(db:Database {name: \"IT\"})\\nRETURN bg.name\\n'}, {'context': []}]\n",
      "Query failed to retrieve data. Refining query...\n",
      "\n",
      " Attempt 4 generating Cypher query...\n",
      "\n",
      "\n",
      "\u001b[1m> Entering new GraphCypherQAChain chain...\u001b[0m\n",
      "Generated Cypher:\n",
      "\u001b[32;1m\u001b[1;3mcypher\n",
      "MATCH (db:Database)-[:ASSOCIATED_WITH]->(bg:BusinessGroup)\n",
      "WHERE db.name = \"IT\"\n",
      "RETURN bg.name\n",
      "\u001b[0m\n",
      "Full Context:\n",
      "\u001b[32;1m\u001b[1;3m[]\u001b[0m\n",
      "\n",
      "\u001b[1m> Finished chain.\u001b[0m\n",
      "LangChain Cypher query steps: [{'query': 'cypher\\nMATCH (db:Database)-[:ASSOCIATED_WITH]->(bg:BusinessGroup)\\nWHERE db.name = \"IT\"\\nRETURN bg.name\\n'}, {'context': []}]\n",
      "Query failed to retrieve data. Refining query...\n",
      "\n",
      " Attempt 5 generating Cypher query...\n",
      "\n",
      "\n",
      "\u001b[1m> Entering new GraphCypherQAChain chain...\u001b[0m\n",
      "Generated Cypher:\n",
      "\u001b[32;1m\u001b[1;3mcypher\n",
      "MATCH (bg:BusinessGroup)<-[:ASSOCIATED_WITH]-(db:Database)\n",
      "WITH db, bg\n",
      "WHERE db.name = \"IT\"\n",
      "RETURN bg.name\n",
      "\u001b[0m\n",
      "Full Context:\n",
      "\u001b[32;1m\u001b[1;3m[]\u001b[0m\n",
      "\n",
      "\u001b[1m> Finished chain.\u001b[0m\n",
      "LangChain Cypher query steps: [{'query': 'cypher\\nMATCH (bg:BusinessGroup)<-[:ASSOCIATED_WITH]-(db:Database)\\nWITH db, bg\\nWHERE db.name = \"IT\"\\nRETURN bg.name\\n'}, {'context': []}]\n",
      "Query failed to retrieve data. Refining query...\n",
      "FIRST N DOCS: \n",
      "name: IT Database\n",
      "type: relational\n",
      "\n",
      "name: R&D Database\n",
      "type: relational\n",
      "\n",
      "name: Executive Management Database\n",
      "type: relational\n",
      "\n",
      "name: HR Database\n",
      "type: relational\n",
      "NODE NAME: ['IT Database', 'R&D Database', 'Executive Management Database', 'HR Database']\n"
     ]
    },
    {
     "data": {
      "text/html": [
       "<pre style=\"white-space:pre;overflow-x:auto;line-height:normal;font-family:Menlo,'DejaVu Sans Mono',consolas,'Courier New',monospace\">/Users/shreyakurdukar/Desktop/dsi-capstone-capstone-kpmg-jim-ben/chat-venv/lib/python3.11/site-packages/rich/live.p\n",
       "y:231: UserWarning: install \"ipywidgets\" for Jupyter support\n",
       "  warnings.warn('install \"ipywidgets\" for Jupyter support')\n",
       "</pre>\n"
      ],
      "text/plain": [
       "/Users/shreyakurdukar/Desktop/dsi-capstone-capstone-kpmg-jim-ben/chat-venv/lib/python3.11/site-packages/rich/live.p\n",
       "y:231: UserWarning: install \"ipywidgets\" for Jupyter support\n",
       "  warnings.warn('install \"ipywidgets\" for Jupyter support')\n"
      ]
     },
     "metadata": {},
     "output_type": "display_data"
    },
    {
     "data": {
      "text/html": [
       "<pre style=\"white-space:pre;overflow-x:auto;line-height:normal;font-family:Menlo,'DejaVu Sans Mono',consolas,'Courier New',monospace\">Event loop is already running. Applying nest_asyncio patch to allow async execution...\n",
       "</pre>\n"
      ],
      "text/plain": [
       "Event loop is already running. Applying nest_asyncio patch to allow async execution...\n"
      ]
     },
     "metadata": {},
     "output_type": "display_data"
    },
    {
     "data": {
      "text/html": [
       "<pre style=\"white-space:pre;overflow-x:auto;line-height:normal;font-family:Menlo,'DejaVu Sans Mono',consolas,'Courier New',monospace\">/Users/shreyakurdukar/Desktop/dsi-capstone-capstone-kpmg-jim-ben/chat-venv/lib/python3.11/site-packages/rich/live.p\n",
       "y:231: UserWarning: install \"ipywidgets\" for Jupyter support\n",
       "  warnings.warn('install \"ipywidgets\" for Jupyter support')\n",
       "</pre>\n"
      ],
      "text/plain": [
       "/Users/shreyakurdukar/Desktop/dsi-capstone-capstone-kpmg-jim-ben/chat-venv/lib/python3.11/site-packages/rich/live.p\n",
       "y:231: UserWarning: install \"ipywidgets\" for Jupyter support\n",
       "  warnings.warn('install \"ipywidgets\" for Jupyter support')\n"
      ]
     },
     "metadata": {},
     "output_type": "display_data"
    },
    {
     "name": "stdout",
     "output_type": "stream",
     "text": [
      "ERROR: list index out of range\n"
     ]
    },
    {
     "data": {
      "text/html": [
       "<pre style=\"white-space:pre;overflow-x:auto;line-height:normal;font-family:Menlo,'DejaVu Sans Mono',consolas,'Courier New',monospace\"></pre>\n"
      ],
      "text/plain": []
     },
     "metadata": {},
     "output_type": "display_data"
    },
    {
     "data": {
      "text/html": [
       "<pre style=\"white-space:pre;overflow-x:auto;line-height:normal;font-family:Menlo,'DejaVu Sans Mono',consolas,'Courier New',monospace\">\n",
       "</pre>\n"
      ],
      "text/plain": [
       "\n"
      ]
     },
     "metadata": {},
     "output_type": "display_data"
    },
    {
     "data": {
      "text/html": [
       "<pre style=\"white-space:pre;overflow-x:auto;line-height:normal;font-family:Menlo,'DejaVu Sans Mono',consolas,'Courier New',monospace\">Event loop is already running. Applying nest_asyncio patch to allow async execution...\n",
       "</pre>\n"
      ],
      "text/plain": [
       "Event loop is already running. Applying nest_asyncio patch to allow async execution...\n"
      ]
     },
     "metadata": {},
     "output_type": "display_data"
    },
    {
     "data": {
      "text/html": [
       "<pre style=\"white-space:pre;overflow-x:auto;line-height:normal;font-family:Menlo,'DejaVu Sans Mono',consolas,'Courier New',monospace\">/Users/shreyakurdukar/Desktop/dsi-capstone-capstone-kpmg-jim-ben/chat-venv/lib/python3.11/site-packages/rich/live.p\n",
       "y:231: UserWarning: install \"ipywidgets\" for Jupyter support\n",
       "  warnings.warn('install \"ipywidgets\" for Jupyter support')\n",
       "</pre>\n"
      ],
      "text/plain": [
       "/Users/shreyakurdukar/Desktop/dsi-capstone-capstone-kpmg-jim-ben/chat-venv/lib/python3.11/site-packages/rich/live.p\n",
       "y:231: UserWarning: install \"ipywidgets\" for Jupyter support\n",
       "  warnings.warn('install \"ipywidgets\" for Jupyter support')\n"
      ]
     },
     "metadata": {},
     "output_type": "display_data"
    },
    {
     "data": {
      "text/html": [
       "<pre style=\"white-space:pre;overflow-x:auto;line-height:normal;font-family:Menlo,'DejaVu Sans Mono',consolas,'Courier New',monospace\"></pre>\n"
      ],
      "text/plain": []
     },
     "metadata": {},
     "output_type": "display_data"
    },
    {
     "data": {
      "text/html": [
       "<pre style=\"white-space:pre;overflow-x:auto;line-height:normal;font-family:Menlo,'DejaVu Sans Mono',consolas,'Courier New',monospace\">\n",
       "</pre>\n"
      ],
      "text/plain": [
       "\n"
      ]
     },
     "metadata": {},
     "output_type": "display_data"
    },
    {
     "name": "stderr",
     "output_type": "stream",
     "text": [
      "/var/folders/_y/7_q47y8j151gmydw6vtdcd6c0000gn/T/ipykernel_39466/2497100872.py:13: FutureWarning: Series.__getitem__ treating keys as positions is deprecated. In a future version, integer keys will always be treated as labels (consistent with DataFrame behavior). To access a value by position, use `ser.iloc[pos]`\n",
      "  question = df_full.iloc[i][1]\n",
      "/var/folders/_y/7_q47y8j151gmydw6vtdcd6c0000gn/T/ipykernel_39466/2497100872.py:14: FutureWarning: Series.__getitem__ treating keys as positions is deprecated. In a future version, integer keys will always be treated as labels (consistent with DataFrame behavior). To access a value by position, use `ser.iloc[pos]`\n",
      "  ground_truth_query = df_full.iloc[i][2]\n",
      "/var/folders/_y/7_q47y8j151gmydw6vtdcd6c0000gn/T/ipykernel_39466/2497100872.py:15: FutureWarning: Series.__getitem__ treating keys as positions is deprecated. In a future version, integer keys will always be treated as labels (consistent with DataFrame behavior). To access a value by position, use `ser.iloc[pos]`\n",
      "  ground_truth_response = df_full.iloc[i][3]\n"
     ]
    },
    {
     "name": "stdout",
     "output_type": "stream",
     "text": [
      "---------------------------------\n",
      "User request: What are all of the latest versions of models?\n",
      "Intent matching result: [UNCOMMON,0]\n",
      "Retrieving information from the Model_embedding_graph.\n",
      "UNCOMMON QUERY\n",
      "Retrieved Context: \n",
      "\n",
      " Attempt 1 generating Cypher query...\n",
      "\n",
      "\n",
      "\u001b[1m> Entering new GraphCypherQAChain chain...\u001b[0m\n",
      "Generated Cypher:\n",
      "\u001b[32;1m\u001b[1;3mcypher\n",
      "MATCH (m:Model)-[:LATEST_VERSION]->(mv:ModelVersion)\n",
      "RETURN m.name, mv.version, mv.latest_version\n",
      "\u001b[0m\n",
      "Full Context:\n",
      "\u001b[32;1m\u001b[1;3m[{'m.name': 'Sales Performance Prediction Model', 'mv.version': 3, 'mv.latest_version': 'True'}, {'m.name': 'Inventory Management Prediction Model', 'mv.version': 3, 'mv.latest_version': 'True'}, {'m.name': 'Financial Health Prediction Model', 'mv.version': 3, 'mv.latest_version': 'True'}, {'m.name': 'Employee Productivity Prediction Model', 'mv.version': 3, 'mv.latest_version': 'True'}, {'m.name': 'Customer Satisfaction Prediction Model', 'mv.version': 3, 'mv.latest_version': 'True'}]\u001b[0m\n",
      "\n",
      "\u001b[1m> Finished chain.\u001b[0m\n",
      "LangChain Cypher query steps: [{'query': 'cypher\\nMATCH (m:Model)-[:LATEST_VERSION]->(mv:ModelVersion)\\nRETURN m.name, mv.version, mv.latest_version\\n'}, {'context': [{'m.name': 'Sales Performance Prediction Model', 'mv.version': 3, 'mv.latest_version': 'True'}, {'m.name': 'Inventory Management Prediction Model', 'mv.version': 3, 'mv.latest_version': 'True'}, {'m.name': 'Financial Health Prediction Model', 'mv.version': 3, 'mv.latest_version': 'True'}, {'m.name': 'Employee Productivity Prediction Model', 'mv.version': 3, 'mv.latest_version': 'True'}, {'m.name': 'Customer Satisfaction Prediction Model', 'mv.version': 3, 'mv.latest_version': 'True'}]}]\n",
      "RETRIEVAL RESPONSE: [{'query': 'cypher\\nMATCH (m:Model)-[:LATEST_VERSION]->(mv:ModelVersion)\\nRETURN m.name, mv.version, mv.latest_version\\n'}, {'context': [{'m.name': 'Sales Performance Prediction Model', 'mv.version': 3, 'mv.latest_version': 'True'}, {'m.name': 'Inventory Management Prediction Model', 'mv.version': 3, 'mv.latest_version': 'True'}, {'m.name': 'Financial Health Prediction Model', 'mv.version': 3, 'mv.latest_version': 'True'}, {'m.name': 'Employee Productivity Prediction Model', 'mv.version': 3, 'mv.latest_version': 'True'}, {'m.name': 'Customer Satisfaction Prediction Model', 'mv.version': 3, 'mv.latest_version': 'True'}]}]\n"
     ]
    },
    {
     "data": {
      "text/html": [
       "<pre style=\"white-space:pre;overflow-x:auto;line-height:normal;font-family:Menlo,'DejaVu Sans Mono',consolas,'Courier New',monospace\">/Users/shreyakurdukar/Desktop/dsi-capstone-capstone-kpmg-jim-ben/chat-venv/lib/python3.11/site-packages/rich/live.p\n",
       "y:231: UserWarning: install \"ipywidgets\" for Jupyter support\n",
       "  warnings.warn('install \"ipywidgets\" for Jupyter support')\n",
       "</pre>\n"
      ],
      "text/plain": [
       "/Users/shreyakurdukar/Desktop/dsi-capstone-capstone-kpmg-jim-ben/chat-venv/lib/python3.11/site-packages/rich/live.p\n",
       "y:231: UserWarning: install \"ipywidgets\" for Jupyter support\n",
       "  warnings.warn('install \"ipywidgets\" for Jupyter support')\n"
      ]
     },
     "metadata": {},
     "output_type": "display_data"
    },
    {
     "data": {
      "text/html": [
       "<pre style=\"white-space:pre;overflow-x:auto;line-height:normal;font-family:Menlo,'DejaVu Sans Mono',consolas,'Courier New',monospace\">Event loop is already running. Applying nest_asyncio patch to allow async execution...\n",
       "</pre>\n"
      ],
      "text/plain": [
       "Event loop is already running. Applying nest_asyncio patch to allow async execution...\n"
      ]
     },
     "metadata": {},
     "output_type": "display_data"
    },
    {
     "data": {
      "text/html": [
       "<pre style=\"white-space:pre;overflow-x:auto;line-height:normal;font-family:Menlo,'DejaVu Sans Mono',consolas,'Courier New',monospace\">/Users/shreyakurdukar/Desktop/dsi-capstone-capstone-kpmg-jim-ben/chat-venv/lib/python3.11/site-packages/rich/live.p\n",
       "y:231: UserWarning: install \"ipywidgets\" for Jupyter support\n",
       "  warnings.warn('install \"ipywidgets\" for Jupyter support')\n",
       "</pre>\n"
      ],
      "text/plain": [
       "/Users/shreyakurdukar/Desktop/dsi-capstone-capstone-kpmg-jim-ben/chat-venv/lib/python3.11/site-packages/rich/live.p\n",
       "y:231: UserWarning: install \"ipywidgets\" for Jupyter support\n",
       "  warnings.warn('install \"ipywidgets\" for Jupyter support')\n"
      ]
     },
     "metadata": {},
     "output_type": "display_data"
    },
    {
     "data": {
      "text/html": [
       "<pre style=\"white-space:pre;overflow-x:auto;line-height:normal;font-family:Menlo,'DejaVu Sans Mono',consolas,'Courier New',monospace\"></pre>\n"
      ],
      "text/plain": []
     },
     "metadata": {},
     "output_type": "display_data"
    },
    {
     "data": {
      "text/html": [
       "<pre style=\"white-space:pre;overflow-x:auto;line-height:normal;font-family:Menlo,'DejaVu Sans Mono',consolas,'Courier New',monospace\">\n",
       "</pre>\n"
      ],
      "text/plain": [
       "\n"
      ]
     },
     "metadata": {},
     "output_type": "display_data"
    },
    {
     "data": {
      "text/html": [
       "<pre style=\"white-space:pre;overflow-x:auto;line-height:normal;font-family:Menlo,'DejaVu Sans Mono',consolas,'Courier New',monospace\">Event loop is already running. Applying nest_asyncio patch to allow async execution...\n",
       "</pre>\n"
      ],
      "text/plain": [
       "Event loop is already running. Applying nest_asyncio patch to allow async execution...\n"
      ]
     },
     "metadata": {},
     "output_type": "display_data"
    },
    {
     "data": {
      "text/html": [
       "<pre style=\"white-space:pre;overflow-x:auto;line-height:normal;font-family:Menlo,'DejaVu Sans Mono',consolas,'Courier New',monospace\">/Users/shreyakurdukar/Desktop/dsi-capstone-capstone-kpmg-jim-ben/chat-venv/lib/python3.11/site-packages/rich/live.p\n",
       "y:231: UserWarning: install \"ipywidgets\" for Jupyter support\n",
       "  warnings.warn('install \"ipywidgets\" for Jupyter support')\n",
       "</pre>\n"
      ],
      "text/plain": [
       "/Users/shreyakurdukar/Desktop/dsi-capstone-capstone-kpmg-jim-ben/chat-venv/lib/python3.11/site-packages/rich/live.p\n",
       "y:231: UserWarning: install \"ipywidgets\" for Jupyter support\n",
       "  warnings.warn('install \"ipywidgets\" for Jupyter support')\n"
      ]
     },
     "metadata": {},
     "output_type": "display_data"
    },
    {
     "data": {
      "text/html": [
       "<pre style=\"white-space:pre;overflow-x:auto;line-height:normal;font-family:Menlo,'DejaVu Sans Mono',consolas,'Courier New',monospace\"></pre>\n"
      ],
      "text/plain": []
     },
     "metadata": {},
     "output_type": "display_data"
    },
    {
     "data": {
      "text/html": [
       "<pre style=\"white-space:pre;overflow-x:auto;line-height:normal;font-family:Menlo,'DejaVu Sans Mono',consolas,'Courier New',monospace\">\n",
       "</pre>\n"
      ],
      "text/plain": [
       "\n"
      ]
     },
     "metadata": {},
     "output_type": "display_data"
    },
    {
     "name": "stderr",
     "output_type": "stream",
     "text": [
      "/var/folders/_y/7_q47y8j151gmydw6vtdcd6c0000gn/T/ipykernel_39466/2497100872.py:13: FutureWarning: Series.__getitem__ treating keys as positions is deprecated. In a future version, integer keys will always be treated as labels (consistent with DataFrame behavior). To access a value by position, use `ser.iloc[pos]`\n",
      "  question = df_full.iloc[i][1]\n",
      "/var/folders/_y/7_q47y8j151gmydw6vtdcd6c0000gn/T/ipykernel_39466/2497100872.py:14: FutureWarning: Series.__getitem__ treating keys as positions is deprecated. In a future version, integer keys will always be treated as labels (consistent with DataFrame behavior). To access a value by position, use `ser.iloc[pos]`\n",
      "  ground_truth_query = df_full.iloc[i][2]\n",
      "/var/folders/_y/7_q47y8j151gmydw6vtdcd6c0000gn/T/ipykernel_39466/2497100872.py:15: FutureWarning: Series.__getitem__ treating keys as positions is deprecated. In a future version, integer keys will always be treated as labels (consistent with DataFrame behavior). To access a value by position, use `ser.iloc[pos]`\n",
      "  ground_truth_response = df_full.iloc[i][3]\n"
     ]
    },
    {
     "name": "stdout",
     "output_type": "stream",
     "text": [
      "---------------------------------\n",
      "User request: What is the mean absolute error of the latest Inventory Management model?\n",
      "Intent matching result: [COMMON,2]\n",
      "['Inventory Management', 'Model']\n",
      "COMMON QUERY: [2|Inventory Management|Model]\n",
      "Query with captured input parameter: MATCH (m:Model)\n",
      "        WHERE m.name CONTAINS \"Inventory Management\"\n",
      "        MATCH (m)-[r1:LATEST_VERSION]->(mv1:ModelVersion)\n",
      "        RETURN mv1.performance_metrics AS performance_metrics\n",
      "Neo4j cypher query result: ['{\"mean_absolute_error\": 0.7, \"mean_percentage_error\": 0.55, \"root_mean_squared_error\": 0.6}']\n"
     ]
    },
    {
     "data": {
      "text/html": [
       "<pre style=\"white-space:pre;overflow-x:auto;line-height:normal;font-family:Menlo,'DejaVu Sans Mono',consolas,'Courier New',monospace\">Event loop is already running. Applying nest_asyncio patch to allow async execution...\n",
       "</pre>\n"
      ],
      "text/plain": [
       "Event loop is already running. Applying nest_asyncio patch to allow async execution...\n"
      ]
     },
     "metadata": {},
     "output_type": "display_data"
    },
    {
     "data": {
      "text/html": [
       "<pre style=\"white-space:pre;overflow-x:auto;line-height:normal;font-family:Menlo,'DejaVu Sans Mono',consolas,'Courier New',monospace\">/Users/shreyakurdukar/Desktop/dsi-capstone-capstone-kpmg-jim-ben/chat-venv/lib/python3.11/site-packages/rich/live.p\n",
       "y:231: UserWarning: install \"ipywidgets\" for Jupyter support\n",
       "  warnings.warn('install \"ipywidgets\" for Jupyter support')\n",
       "</pre>\n"
      ],
      "text/plain": [
       "/Users/shreyakurdukar/Desktop/dsi-capstone-capstone-kpmg-jim-ben/chat-venv/lib/python3.11/site-packages/rich/live.p\n",
       "y:231: UserWarning: install \"ipywidgets\" for Jupyter support\n",
       "  warnings.warn('install \"ipywidgets\" for Jupyter support')\n"
      ]
     },
     "metadata": {},
     "output_type": "display_data"
    },
    {
     "data": {
      "text/html": [
       "<pre style=\"white-space:pre;overflow-x:auto;line-height:normal;font-family:Menlo,'DejaVu Sans Mono',consolas,'Courier New',monospace\"></pre>\n"
      ],
      "text/plain": []
     },
     "metadata": {},
     "output_type": "display_data"
    },
    {
     "data": {
      "text/html": [
       "<pre style=\"white-space:pre;overflow-x:auto;line-height:normal;font-family:Menlo,'DejaVu Sans Mono',consolas,'Courier New',monospace\">\n",
       "</pre>\n"
      ],
      "text/plain": [
       "\n"
      ]
     },
     "metadata": {},
     "output_type": "display_data"
    },
    {
     "data": {
      "text/html": [
       "<pre style=\"white-space:pre;overflow-x:auto;line-height:normal;font-family:Menlo,'DejaVu Sans Mono',consolas,'Courier New',monospace\">Event loop is already running. Applying nest_asyncio patch to allow async execution...\n",
       "</pre>\n"
      ],
      "text/plain": [
       "Event loop is already running. Applying nest_asyncio patch to allow async execution...\n"
      ]
     },
     "metadata": {},
     "output_type": "display_data"
    },
    {
     "data": {
      "text/html": [
       "<pre style=\"white-space:pre;overflow-x:auto;line-height:normal;font-family:Menlo,'DejaVu Sans Mono',consolas,'Courier New',monospace\">/Users/shreyakurdukar/Desktop/dsi-capstone-capstone-kpmg-jim-ben/chat-venv/lib/python3.11/site-packages/rich/live.p\n",
       "y:231: UserWarning: install \"ipywidgets\" for Jupyter support\n",
       "  warnings.warn('install \"ipywidgets\" for Jupyter support')\n",
       "</pre>\n"
      ],
      "text/plain": [
       "/Users/shreyakurdukar/Desktop/dsi-capstone-capstone-kpmg-jim-ben/chat-venv/lib/python3.11/site-packages/rich/live.p\n",
       "y:231: UserWarning: install \"ipywidgets\" for Jupyter support\n",
       "  warnings.warn('install \"ipywidgets\" for Jupyter support')\n"
      ]
     },
     "metadata": {},
     "output_type": "display_data"
    },
    {
     "data": {
      "text/html": [
       "<pre style=\"white-space:pre;overflow-x:auto;line-height:normal;font-family:Menlo,'DejaVu Sans Mono',consolas,'Courier New',monospace\"></pre>\n"
      ],
      "text/plain": []
     },
     "metadata": {},
     "output_type": "display_data"
    },
    {
     "data": {
      "text/html": [
       "<pre style=\"white-space:pre;overflow-x:auto;line-height:normal;font-family:Menlo,'DejaVu Sans Mono',consolas,'Courier New',monospace\">\n",
       "</pre>\n"
      ],
      "text/plain": [
       "\n"
      ]
     },
     "metadata": {},
     "output_type": "display_data"
    },
    {
     "name": "stderr",
     "output_type": "stream",
     "text": [
      "/var/folders/_y/7_q47y8j151gmydw6vtdcd6c0000gn/T/ipykernel_39466/2497100872.py:13: FutureWarning: Series.__getitem__ treating keys as positions is deprecated. In a future version, integer keys will always be treated as labels (consistent with DataFrame behavior). To access a value by position, use `ser.iloc[pos]`\n",
      "  question = df_full.iloc[i][1]\n",
      "/var/folders/_y/7_q47y8j151gmydw6vtdcd6c0000gn/T/ipykernel_39466/2497100872.py:14: FutureWarning: Series.__getitem__ treating keys as positions is deprecated. In a future version, integer keys will always be treated as labels (consistent with DataFrame behavior). To access a value by position, use `ser.iloc[pos]`\n",
      "  ground_truth_query = df_full.iloc[i][2]\n",
      "/var/folders/_y/7_q47y8j151gmydw6vtdcd6c0000gn/T/ipykernel_39466/2497100872.py:15: FutureWarning: Series.__getitem__ treating keys as positions is deprecated. In a future version, integer keys will always be treated as labels (consistent with DataFrame behavior). To access a value by position, use `ser.iloc[pos]`\n",
      "  ground_truth_response = df_full.iloc[i][3]\n"
     ]
    },
    {
     "name": "stdout",
     "output_type": "stream",
     "text": [
      "---------------------------------\n",
      "User request: What are the root mean squared errors of all of the latest models?\n",
      "Intent matching result: [UNCOMMON,0]\n",
      "Retrieving information from the Model_embedding_graph.\n",
      "UNCOMMON QUERY\n",
      "Retrieved Context: \n",
      "\n",
      " Attempt 1 generating Cypher query...\n",
      "\n",
      "\n",
      "\u001b[1m> Entering new GraphCypherQAChain chain...\u001b[0m\n",
      "Generated Cypher:\n",
      "\u001b[32;1m\u001b[1;3mcypher\n",
      "MATCH (m:Model)-[:LATEST_VERSION]->(mv:ModelVersion)\n",
      "RETURN mv.name, mv.performance_metrics\n",
      "\u001b[0m\n",
      "Full Context:\n",
      "\u001b[32;1m\u001b[1;3m[{'mv.name': 'Sales Performance Prediction Model Version3', 'mv.performance_metrics': '{\"mean_absolute_error\": 10000, \"mean_percentage_error\": 0.1, \"root_mean_squared_error\": 15000}'}, {'mv.name': 'Inventory Management Prediction Model Version3', 'mv.performance_metrics': '{\"mean_absolute_error\": 0.7, \"mean_percentage_error\": 0.55, \"root_mean_squared_error\": 0.6}'}, {'mv.name': 'Financial Health Prediction Model Version3', 'mv.performance_metrics': '{\"mean_absolute_error\": 5, \"mean_squared_error\": 10, \"r_squared\": 0.8}'}, {'mv.name': 'Employee Productivity Prediction Model Version3', 'mv.performance_metrics': '{\"mean_absolute_error\": 0.7, \"mean_percentage_error\": 0.55, \"root_mean_squared_error\": 0.6}'}, {'mv.name': 'Customer Satisfaction Prediction Model Version3', 'mv.performance_metrics': '{\"mean_absolute_error\": 0.7, \"mean_percentage_error\": 0.55, \"root_mean_squared_error\": 0.6}'}]\u001b[0m\n",
      "\n",
      "\u001b[1m> Finished chain.\u001b[0m\n",
      "LangChain Cypher query steps: [{'query': 'cypher\\nMATCH (m:Model)-[:LATEST_VERSION]->(mv:ModelVersion)\\nRETURN mv.name, mv.performance_metrics\\n'}, {'context': [{'mv.name': 'Sales Performance Prediction Model Version3', 'mv.performance_metrics': '{\"mean_absolute_error\": 10000, \"mean_percentage_error\": 0.1, \"root_mean_squared_error\": 15000}'}, {'mv.name': 'Inventory Management Prediction Model Version3', 'mv.performance_metrics': '{\"mean_absolute_error\": 0.7, \"mean_percentage_error\": 0.55, \"root_mean_squared_error\": 0.6}'}, {'mv.name': 'Financial Health Prediction Model Version3', 'mv.performance_metrics': '{\"mean_absolute_error\": 5, \"mean_squared_error\": 10, \"r_squared\": 0.8}'}, {'mv.name': 'Employee Productivity Prediction Model Version3', 'mv.performance_metrics': '{\"mean_absolute_error\": 0.7, \"mean_percentage_error\": 0.55, \"root_mean_squared_error\": 0.6}'}, {'mv.name': 'Customer Satisfaction Prediction Model Version3', 'mv.performance_metrics': '{\"mean_absolute_error\": 0.7, \"mean_percentage_error\": 0.55, \"root_mean_squared_error\": 0.6}'}]}]\n",
      "RETRIEVAL RESPONSE: [{'query': 'cypher\\nMATCH (m:Model)-[:LATEST_VERSION]->(mv:ModelVersion)\\nRETURN mv.name, mv.performance_metrics\\n'}, {'context': [{'mv.name': 'Sales Performance Prediction Model Version3', 'mv.performance_metrics': '{\"mean_absolute_error\": 10000, \"mean_percentage_error\": 0.1, \"root_mean_squared_error\": 15000}'}, {'mv.name': 'Inventory Management Prediction Model Version3', 'mv.performance_metrics': '{\"mean_absolute_error\": 0.7, \"mean_percentage_error\": 0.55, \"root_mean_squared_error\": 0.6}'}, {'mv.name': 'Financial Health Prediction Model Version3', 'mv.performance_metrics': '{\"mean_absolute_error\": 5, \"mean_squared_error\": 10, \"r_squared\": 0.8}'}, {'mv.name': 'Employee Productivity Prediction Model Version3', 'mv.performance_metrics': '{\"mean_absolute_error\": 0.7, \"mean_percentage_error\": 0.55, \"root_mean_squared_error\": 0.6}'}, {'mv.name': 'Customer Satisfaction Prediction Model Version3', 'mv.performance_metrics': '{\"mean_absolute_error\": 0.7, \"mean_percentage_error\": 0.55, \"root_mean_squared_error\": 0.6}'}]}]\n"
     ]
    },
    {
     "data": {
      "text/html": [
       "<pre style=\"white-space:pre;overflow-x:auto;line-height:normal;font-family:Menlo,'DejaVu Sans Mono',consolas,'Courier New',monospace\">/Users/shreyakurdukar/Desktop/dsi-capstone-capstone-kpmg-jim-ben/chat-venv/lib/python3.11/site-packages/rich/live.p\n",
       "y:231: UserWarning: install \"ipywidgets\" for Jupyter support\n",
       "  warnings.warn('install \"ipywidgets\" for Jupyter support')\n",
       "</pre>\n"
      ],
      "text/plain": [
       "/Users/shreyakurdukar/Desktop/dsi-capstone-capstone-kpmg-jim-ben/chat-venv/lib/python3.11/site-packages/rich/live.p\n",
       "y:231: UserWarning: install \"ipywidgets\" for Jupyter support\n",
       "  warnings.warn('install \"ipywidgets\" for Jupyter support')\n"
      ]
     },
     "metadata": {},
     "output_type": "display_data"
    },
    {
     "data": {
      "text/html": [
       "<pre style=\"white-space:pre;overflow-x:auto;line-height:normal;font-family:Menlo,'DejaVu Sans Mono',consolas,'Courier New',monospace\">Event loop is already running. Applying nest_asyncio patch to allow async execution...\n",
       "</pre>\n"
      ],
      "text/plain": [
       "Event loop is already running. Applying nest_asyncio patch to allow async execution...\n"
      ]
     },
     "metadata": {},
     "output_type": "display_data"
    },
    {
     "data": {
      "text/html": [
       "<pre style=\"white-space:pre;overflow-x:auto;line-height:normal;font-family:Menlo,'DejaVu Sans Mono',consolas,'Courier New',monospace\">/Users/shreyakurdukar/Desktop/dsi-capstone-capstone-kpmg-jim-ben/chat-venv/lib/python3.11/site-packages/rich/live.p\n",
       "y:231: UserWarning: install \"ipywidgets\" for Jupyter support\n",
       "  warnings.warn('install \"ipywidgets\" for Jupyter support')\n",
       "</pre>\n"
      ],
      "text/plain": [
       "/Users/shreyakurdukar/Desktop/dsi-capstone-capstone-kpmg-jim-ben/chat-venv/lib/python3.11/site-packages/rich/live.p\n",
       "y:231: UserWarning: install \"ipywidgets\" for Jupyter support\n",
       "  warnings.warn('install \"ipywidgets\" for Jupyter support')\n"
      ]
     },
     "metadata": {},
     "output_type": "display_data"
    },
    {
     "data": {
      "text/html": [
       "<pre style=\"white-space:pre;overflow-x:auto;line-height:normal;font-family:Menlo,'DejaVu Sans Mono',consolas,'Courier New',monospace\"></pre>\n"
      ],
      "text/plain": []
     },
     "metadata": {},
     "output_type": "display_data"
    },
    {
     "data": {
      "text/html": [
       "<pre style=\"white-space:pre;overflow-x:auto;line-height:normal;font-family:Menlo,'DejaVu Sans Mono',consolas,'Courier New',monospace\">\n",
       "</pre>\n"
      ],
      "text/plain": [
       "\n"
      ]
     },
     "metadata": {},
     "output_type": "display_data"
    },
    {
     "data": {
      "text/html": [
       "<pre style=\"white-space:pre;overflow-x:auto;line-height:normal;font-family:Menlo,'DejaVu Sans Mono',consolas,'Courier New',monospace\">Event loop is already running. Applying nest_asyncio patch to allow async execution...\n",
       "</pre>\n"
      ],
      "text/plain": [
       "Event loop is already running. Applying nest_asyncio patch to allow async execution...\n"
      ]
     },
     "metadata": {},
     "output_type": "display_data"
    },
    {
     "data": {
      "text/html": [
       "<pre style=\"white-space:pre;overflow-x:auto;line-height:normal;font-family:Menlo,'DejaVu Sans Mono',consolas,'Courier New',monospace\">/Users/shreyakurdukar/Desktop/dsi-capstone-capstone-kpmg-jim-ben/chat-venv/lib/python3.11/site-packages/rich/live.p\n",
       "y:231: UserWarning: install \"ipywidgets\" for Jupyter support\n",
       "  warnings.warn('install \"ipywidgets\" for Jupyter support')\n",
       "</pre>\n"
      ],
      "text/plain": [
       "/Users/shreyakurdukar/Desktop/dsi-capstone-capstone-kpmg-jim-ben/chat-venv/lib/python3.11/site-packages/rich/live.p\n",
       "y:231: UserWarning: install \"ipywidgets\" for Jupyter support\n",
       "  warnings.warn('install \"ipywidgets\" for Jupyter support')\n"
      ]
     },
     "metadata": {},
     "output_type": "display_data"
    },
    {
     "data": {
      "text/html": [
       "<pre style=\"white-space:pre;overflow-x:auto;line-height:normal;font-family:Menlo,'DejaVu Sans Mono',consolas,'Courier New',monospace\"></pre>\n"
      ],
      "text/plain": []
     },
     "metadata": {},
     "output_type": "display_data"
    },
    {
     "data": {
      "text/html": [
       "<pre style=\"white-space:pre;overflow-x:auto;line-height:normal;font-family:Menlo,'DejaVu Sans Mono',consolas,'Courier New',monospace\">\n",
       "</pre>\n"
      ],
      "text/plain": [
       "\n"
      ]
     },
     "metadata": {},
     "output_type": "display_data"
    },
    {
     "name": "stderr",
     "output_type": "stream",
     "text": [
      "/var/folders/_y/7_q47y8j151gmydw6vtdcd6c0000gn/T/ipykernel_39466/2497100872.py:13: FutureWarning: Series.__getitem__ treating keys as positions is deprecated. In a future version, integer keys will always be treated as labels (consistent with DataFrame behavior). To access a value by position, use `ser.iloc[pos]`\n",
      "  question = df_full.iloc[i][1]\n",
      "/var/folders/_y/7_q47y8j151gmydw6vtdcd6c0000gn/T/ipykernel_39466/2497100872.py:14: FutureWarning: Series.__getitem__ treating keys as positions is deprecated. In a future version, integer keys will always be treated as labels (consistent with DataFrame behavior). To access a value by position, use `ser.iloc[pos]`\n",
      "  ground_truth_query = df_full.iloc[i][2]\n",
      "/var/folders/_y/7_q47y8j151gmydw6vtdcd6c0000gn/T/ipykernel_39466/2497100872.py:15: FutureWarning: Series.__getitem__ treating keys as positions is deprecated. In a future version, integer keys will always be treated as labels (consistent with DataFrame behavior). To access a value by position, use `ser.iloc[pos]`\n",
      "  ground_truth_response = df_full.iloc[i][3]\n"
     ]
    },
    {
     "name": "stdout",
     "output_type": "stream",
     "text": [
      "---------------------------------\n",
      "User request: Which users are entitled on the Executive Management Database and what are their accounts?\n",
      "Intent matching result: [UNCOMMON,0]\n",
      "Retrieving information from the User_embedding_graph.\n",
      "UNCOMMON QUERY\n",
      "Retrieved Context: \n",
      "name: executive_manager\n",
      "account: exec_manager@executive.com\n",
      "\n",
      "name: Department Manager\n",
      "account: department.manager@company.com\n",
      "\n",
      "name: hr_manager\n",
      "account: hr_manager@hrcompany.com\n",
      "\n",
      "name: Inventory Manager\n",
      "account: inventory.manager@company.com\n",
      "\n",
      " Attempt 1 generating Cypher query...\n",
      "\n",
      "\n",
      "\u001b[1m> Entering new GraphCypherQAChain chain...\u001b[0m\n",
      "Generated Cypher:\n",
      "\u001b[32;1m\u001b[1;3mcypher\n",
      "MATCH (u:User)-[:ENTITLED_ON]->(d:Database {name: \"Executive Management Database\"})\n",
      "RETURN u.name, u.account\n",
      "\u001b[0m\n",
      "Full Context:\n",
      "\u001b[32;1m\u001b[1;3m[{'u.name': 'executive_manager', 'u.account': 'exec_manager@executive.com'}, {'u.name': 'strategy_analyst', 'u.account': 'strategy_analyst@executive.com'}]\u001b[0m\n",
      "\n",
      "\u001b[1m> Finished chain.\u001b[0m\n",
      "LangChain Cypher query steps: [{'query': 'cypher\\nMATCH (u:User)-[:ENTITLED_ON]->(d:Database {name: \"Executive Management Database\"})\\nRETURN u.name, u.account\\n'}, {'context': [{'u.name': 'executive_manager', 'u.account': 'exec_manager@executive.com'}, {'u.name': 'strategy_analyst', 'u.account': 'strategy_analyst@executive.com'}]}]\n",
      "RETRIEVAL RESPONSE: [{'query': 'cypher\\nMATCH (u:User)-[:ENTITLED_ON]->(d:Database {name: \"Executive Management Database\"})\\nRETURN u.name, u.account\\n'}, {'context': [{'u.name': 'executive_manager', 'u.account': 'exec_manager@executive.com'}, {'u.name': 'strategy_analyst', 'u.account': 'strategy_analyst@executive.com'}]}]\n"
     ]
    },
    {
     "data": {
      "text/html": [
       "<pre style=\"white-space:pre;overflow-x:auto;line-height:normal;font-family:Menlo,'DejaVu Sans Mono',consolas,'Courier New',monospace\">/Users/shreyakurdukar/Desktop/dsi-capstone-capstone-kpmg-jim-ben/chat-venv/lib/python3.11/site-packages/rich/live.p\n",
       "y:231: UserWarning: install \"ipywidgets\" for Jupyter support\n",
       "  warnings.warn('install \"ipywidgets\" for Jupyter support')\n",
       "</pre>\n"
      ],
      "text/plain": [
       "/Users/shreyakurdukar/Desktop/dsi-capstone-capstone-kpmg-jim-ben/chat-venv/lib/python3.11/site-packages/rich/live.p\n",
       "y:231: UserWarning: install \"ipywidgets\" for Jupyter support\n",
       "  warnings.warn('install \"ipywidgets\" for Jupyter support')\n"
      ]
     },
     "metadata": {},
     "output_type": "display_data"
    },
    {
     "data": {
      "text/html": [
       "<pre style=\"white-space:pre;overflow-x:auto;line-height:normal;font-family:Menlo,'DejaVu Sans Mono',consolas,'Courier New',monospace\">Event loop is already running. Applying nest_asyncio patch to allow async execution...\n",
       "</pre>\n"
      ],
      "text/plain": [
       "Event loop is already running. Applying nest_asyncio patch to allow async execution...\n"
      ]
     },
     "metadata": {},
     "output_type": "display_data"
    },
    {
     "data": {
      "text/html": [
       "<pre style=\"white-space:pre;overflow-x:auto;line-height:normal;font-family:Menlo,'DejaVu Sans Mono',consolas,'Courier New',monospace\">/Users/shreyakurdukar/Desktop/dsi-capstone-capstone-kpmg-jim-ben/chat-venv/lib/python3.11/site-packages/rich/live.p\n",
       "y:231: UserWarning: install \"ipywidgets\" for Jupyter support\n",
       "  warnings.warn('install \"ipywidgets\" for Jupyter support')\n",
       "</pre>\n"
      ],
      "text/plain": [
       "/Users/shreyakurdukar/Desktop/dsi-capstone-capstone-kpmg-jim-ben/chat-venv/lib/python3.11/site-packages/rich/live.p\n",
       "y:231: UserWarning: install \"ipywidgets\" for Jupyter support\n",
       "  warnings.warn('install \"ipywidgets\" for Jupyter support')\n"
      ]
     },
     "metadata": {},
     "output_type": "display_data"
    },
    {
     "data": {
      "text/html": [
       "<pre style=\"white-space:pre;overflow-x:auto;line-height:normal;font-family:Menlo,'DejaVu Sans Mono',consolas,'Courier New',monospace\"></pre>\n"
      ],
      "text/plain": []
     },
     "metadata": {},
     "output_type": "display_data"
    },
    {
     "data": {
      "text/html": [
       "<pre style=\"white-space:pre;overflow-x:auto;line-height:normal;font-family:Menlo,'DejaVu Sans Mono',consolas,'Courier New',monospace\">\n",
       "</pre>\n"
      ],
      "text/plain": [
       "\n"
      ]
     },
     "metadata": {},
     "output_type": "display_data"
    },
    {
     "data": {
      "text/html": [
       "<pre style=\"white-space:pre;overflow-x:auto;line-height:normal;font-family:Menlo,'DejaVu Sans Mono',consolas,'Courier New',monospace\">Event loop is already running. Applying nest_asyncio patch to allow async execution...\n",
       "</pre>\n"
      ],
      "text/plain": [
       "Event loop is already running. Applying nest_asyncio patch to allow async execution...\n"
      ]
     },
     "metadata": {},
     "output_type": "display_data"
    },
    {
     "data": {
      "text/html": [
       "<pre style=\"white-space:pre;overflow-x:auto;line-height:normal;font-family:Menlo,'DejaVu Sans Mono',consolas,'Courier New',monospace\">/Users/shreyakurdukar/Desktop/dsi-capstone-capstone-kpmg-jim-ben/chat-venv/lib/python3.11/site-packages/rich/live.p\n",
       "y:231: UserWarning: install \"ipywidgets\" for Jupyter support\n",
       "  warnings.warn('install \"ipywidgets\" for Jupyter support')\n",
       "</pre>\n"
      ],
      "text/plain": [
       "/Users/shreyakurdukar/Desktop/dsi-capstone-capstone-kpmg-jim-ben/chat-venv/lib/python3.11/site-packages/rich/live.p\n",
       "y:231: UserWarning: install \"ipywidgets\" for Jupyter support\n",
       "  warnings.warn('install \"ipywidgets\" for Jupyter support')\n"
      ]
     },
     "metadata": {},
     "output_type": "display_data"
    },
    {
     "data": {
      "text/html": [
       "<pre style=\"white-space:pre;overflow-x:auto;line-height:normal;font-family:Menlo,'DejaVu Sans Mono',consolas,'Courier New',monospace\"></pre>\n"
      ],
      "text/plain": []
     },
     "metadata": {},
     "output_type": "display_data"
    },
    {
     "data": {
      "text/html": [
       "<pre style=\"white-space:pre;overflow-x:auto;line-height:normal;font-family:Menlo,'DejaVu Sans Mono',consolas,'Courier New',monospace\">\n",
       "</pre>\n"
      ],
      "text/plain": [
       "\n"
      ]
     },
     "metadata": {},
     "output_type": "display_data"
    },
    {
     "name": "stderr",
     "output_type": "stream",
     "text": [
      "/var/folders/_y/7_q47y8j151gmydw6vtdcd6c0000gn/T/ipykernel_39466/2497100872.py:13: FutureWarning: Series.__getitem__ treating keys as positions is deprecated. In a future version, integer keys will always be treated as labels (consistent with DataFrame behavior). To access a value by position, use `ser.iloc[pos]`\n",
      "  question = df_full.iloc[i][1]\n",
      "/var/folders/_y/7_q47y8j151gmydw6vtdcd6c0000gn/T/ipykernel_39466/2497100872.py:14: FutureWarning: Series.__getitem__ treating keys as positions is deprecated. In a future version, integer keys will always be treated as labels (consistent with DataFrame behavior). To access a value by position, use `ser.iloc[pos]`\n",
      "  ground_truth_query = df_full.iloc[i][2]\n",
      "/var/folders/_y/7_q47y8j151gmydw6vtdcd6c0000gn/T/ipykernel_39466/2497100872.py:15: FutureWarning: Series.__getitem__ treating keys as positions is deprecated. In a future version, integer keys will always be treated as labels (consistent with DataFrame behavior). To access a value by position, use `ser.iloc[pos]`\n",
      "  ground_truth_response = df_full.iloc[i][3]\n"
     ]
    },
    {
     "name": "stdout",
     "output_type": "stream",
     "text": [
      "---------------------------------\n",
      "User request: Which models use a random forest?\n",
      "Intent matching result: [UNCOMMON,0]\n",
      "Retrieving information from the Model_embedding_graph.\n",
      "UNCOMMON QUERY\n",
      "Retrieved Context: \n",
      "\n",
      " Attempt 1 generating Cypher query...\n",
      "\n",
      "\n",
      "\u001b[1m> Entering new GraphCypherQAChain chain...\u001b[0m\n",
      "Generated Cypher:\n",
      "\u001b[32;1m\u001b[1;3mcypher\n",
      "MATCH (m:Model)-[:VERSION_OF]->(mv:ModelVersion)\n",
      "WHERE mv.model_parameters CONTAINS 'random forest'\n",
      "RETURN m.name\n",
      "\u001b[0m\n",
      "Full Context:\n",
      "\u001b[32;1m\u001b[1;3m[]\u001b[0m\n",
      "\n",
      "\u001b[1m> Finished chain.\u001b[0m\n",
      "LangChain Cypher query steps: [{'query': \"cypher\\nMATCH (m:Model)-[:VERSION_OF]->(mv:ModelVersion)\\nWHERE mv.model_parameters CONTAINS 'random forest'\\nRETURN m.name\\n\"}, {'context': []}]\n",
      "Query failed to retrieve data. Refining query...\n",
      "\n",
      " Attempt 2 generating Cypher query...\n",
      "\n",
      "\n",
      "\u001b[1m> Entering new GraphCypherQAChain chain...\u001b[0m\n",
      "Generated Cypher:\n",
      "\u001b[32;1m\u001b[1;3mcypher\n",
      "MATCH (mv:ModelVersion)\n",
      "WHERE mv.model_parameters CONTAINS 'random forest'\n",
      "MATCH (m:Model)-[:VERSION_OF]->(mv)\n",
      "RETURN m.name\n",
      "\u001b[0m\n",
      "Full Context:\n",
      "\u001b[32;1m\u001b[1;3m[]\u001b[0m\n",
      "\n",
      "\u001b[1m> Finished chain.\u001b[0m\n",
      "LangChain Cypher query steps: [{'query': \"cypher\\nMATCH (mv:ModelVersion)\\nWHERE mv.model_parameters CONTAINS 'random forest'\\nMATCH (m:Model)-[:VERSION_OF]->(mv)\\nRETURN m.name\\n\"}, {'context': []}]\n",
      "Query failed to retrieve data. Refining query...\n",
      "\n",
      " Attempt 3 generating Cypher query...\n",
      "\n",
      "\n",
      "\u001b[1m> Entering new GraphCypherQAChain chain...\u001b[0m\n",
      "Generated Cypher:\n",
      "\u001b[32;1m\u001b[1;3mcypher\n",
      "MATCH (m:Model)-[:LATEST_VERSION]->(mv:ModelVersion)\n",
      "WHERE mv.model_parameters CONTAINS 'random forest'\n",
      "RETURN m.name\n",
      "\u001b[0m\n",
      "Full Context:\n",
      "\u001b[32;1m\u001b[1;3m[]\u001b[0m\n",
      "\n",
      "\u001b[1m> Finished chain.\u001b[0m\n",
      "LangChain Cypher query steps: [{'query': \"cypher\\nMATCH (m:Model)-[:LATEST_VERSION]->(mv:ModelVersion)\\nWHERE mv.model_parameters CONTAINS 'random forest'\\nRETURN m.name\\n\"}, {'context': []}]\n",
      "Query failed to retrieve data. Refining query...\n",
      "\n",
      " Attempt 4 generating Cypher query...\n",
      "\n",
      "\n",
      "\u001b[1m> Entering new GraphCypherQAChain chain...\u001b[0m\n",
      "Generated Cypher:\n",
      "\u001b[32;1m\u001b[1;3mcypher\n",
      "MATCH (mv:ModelVersion)\n",
      "WHERE mv.model_parameters CONTAINS 'random forest'\n",
      "WITH mv\n",
      "MATCH (m:Model)-[:VERSION_OF]->(mv)\n",
      "RETURN m.name\n",
      "\u001b[0m\n",
      "Full Context:\n",
      "\u001b[32;1m\u001b[1;3m[]\u001b[0m\n",
      "\n",
      "\u001b[1m> Finished chain.\u001b[0m\n",
      "LangChain Cypher query steps: [{'query': \"cypher\\nMATCH (mv:ModelVersion)\\nWHERE mv.model_parameters CONTAINS 'random forest'\\nWITH mv\\nMATCH (m:Model)-[:VERSION_OF]->(mv)\\nRETURN m.name\\n\"}, {'context': []}]\n",
      "Query failed to retrieve data. Refining query...\n",
      "\n",
      " Attempt 5 generating Cypher query...\n",
      "\n",
      "\n",
      "\u001b[1m> Entering new GraphCypherQAChain chain...\u001b[0m\n",
      "Generated Cypher:\n",
      "\u001b[32;1m\u001b[1;3mcypher\n",
      "MATCH (m:Model)\n",
      "WHERE EXISTS {\n",
      "  MATCH (m)-[:VERSION_OF]->(mv:ModelVersion)\n",
      "  WHERE mv.model_parameters CONTAINS 'random forest'\n",
      "}\n",
      "RETURN m.name\n",
      "\u001b[0m\n",
      "Full Context:\n",
      "\u001b[32;1m\u001b[1;3m[]\u001b[0m\n"
     ]
    },
    {
     "data": {
      "text/html": [
       "<pre style=\"white-space:pre;overflow-x:auto;line-height:normal;font-family:Menlo,'DejaVu Sans Mono',consolas,'Courier New',monospace\">/Users/shreyakurdukar/Desktop/dsi-capstone-capstone-kpmg-jim-ben/chat-venv/lib/python3.11/site-packages/rich/live.p\n",
       "y:231: UserWarning: install \"ipywidgets\" for Jupyter support\n",
       "  warnings.warn('install \"ipywidgets\" for Jupyter support')\n",
       "</pre>\n"
      ],
      "text/plain": [
       "/Users/shreyakurdukar/Desktop/dsi-capstone-capstone-kpmg-jim-ben/chat-venv/lib/python3.11/site-packages/rich/live.p\n",
       "y:231: UserWarning: install \"ipywidgets\" for Jupyter support\n",
       "  warnings.warn('install \"ipywidgets\" for Jupyter support')\n"
      ]
     },
     "metadata": {},
     "output_type": "display_data"
    },
    {
     "data": {
      "text/html": [
       "<pre style=\"white-space:pre;overflow-x:auto;line-height:normal;font-family:Menlo,'DejaVu Sans Mono',consolas,'Courier New',monospace\">Event loop is already running. Applying nest_asyncio patch to allow async execution...\n",
       "</pre>\n"
      ],
      "text/plain": [
       "Event loop is already running. Applying nest_asyncio patch to allow async execution...\n"
      ]
     },
     "metadata": {},
     "output_type": "display_data"
    },
    {
     "data": {
      "text/html": [
       "<pre style=\"white-space:pre;overflow-x:auto;line-height:normal;font-family:Menlo,'DejaVu Sans Mono',consolas,'Courier New',monospace\">/Users/shreyakurdukar/Desktop/dsi-capstone-capstone-kpmg-jim-ben/chat-venv/lib/python3.11/site-packages/rich/live.p\n",
       "y:231: UserWarning: install \"ipywidgets\" for Jupyter support\n",
       "  warnings.warn('install \"ipywidgets\" for Jupyter support')\n",
       "</pre>\n"
      ],
      "text/plain": [
       "/Users/shreyakurdukar/Desktop/dsi-capstone-capstone-kpmg-jim-ben/chat-venv/lib/python3.11/site-packages/rich/live.p\n",
       "y:231: UserWarning: install \"ipywidgets\" for Jupyter support\n",
       "  warnings.warn('install \"ipywidgets\" for Jupyter support')\n"
      ]
     },
     "metadata": {},
     "output_type": "display_data"
    },
    {
     "name": "stdout",
     "output_type": "stream",
     "text": [
      "\n",
      "\u001b[1m> Finished chain.\u001b[0m\n",
      "LangChain Cypher query steps: [{'query': \"cypher\\nMATCH (m:Model)\\nWHERE EXISTS {\\n  MATCH (m)-[:VERSION_OF]->(mv:ModelVersion)\\n  WHERE mv.model_parameters CONTAINS 'random forest'\\n}\\nRETURN m.name\\n\"}, {'context': []}]\n",
      "Query failed to retrieve data. Refining query...\n",
      "FIRST N DOCS: \n",
      "NODE NAME: []\n",
      "ERROR: list index out of range\n"
     ]
    },
    {
     "data": {
      "text/html": [
       "<pre style=\"white-space:pre;overflow-x:auto;line-height:normal;font-family:Menlo,'DejaVu Sans Mono',consolas,'Courier New',monospace\"></pre>\n"
      ],
      "text/plain": []
     },
     "metadata": {},
     "output_type": "display_data"
    },
    {
     "data": {
      "text/html": [
       "<pre style=\"white-space:pre;overflow-x:auto;line-height:normal;font-family:Menlo,'DejaVu Sans Mono',consolas,'Courier New',monospace\">\n",
       "</pre>\n"
      ],
      "text/plain": [
       "\n"
      ]
     },
     "metadata": {},
     "output_type": "display_data"
    },
    {
     "data": {
      "text/html": [
       "<pre style=\"white-space:pre;overflow-x:auto;line-height:normal;font-family:Menlo,'DejaVu Sans Mono',consolas,'Courier New',monospace\">Event loop is already running. Applying nest_asyncio patch to allow async execution...\n",
       "</pre>\n"
      ],
      "text/plain": [
       "Event loop is already running. Applying nest_asyncio patch to allow async execution...\n"
      ]
     },
     "metadata": {},
     "output_type": "display_data"
    },
    {
     "data": {
      "text/html": [
       "<pre style=\"white-space:pre;overflow-x:auto;line-height:normal;font-family:Menlo,'DejaVu Sans Mono',consolas,'Courier New',monospace\">/Users/shreyakurdukar/Desktop/dsi-capstone-capstone-kpmg-jim-ben/chat-venv/lib/python3.11/site-packages/rich/live.p\n",
       "y:231: UserWarning: install \"ipywidgets\" for Jupyter support\n",
       "  warnings.warn('install \"ipywidgets\" for Jupyter support')\n",
       "</pre>\n"
      ],
      "text/plain": [
       "/Users/shreyakurdukar/Desktop/dsi-capstone-capstone-kpmg-jim-ben/chat-venv/lib/python3.11/site-packages/rich/live.p\n",
       "y:231: UserWarning: install \"ipywidgets\" for Jupyter support\n",
       "  warnings.warn('install \"ipywidgets\" for Jupyter support')\n"
      ]
     },
     "metadata": {},
     "output_type": "display_data"
    },
    {
     "data": {
      "text/html": [
       "<pre style=\"white-space:pre;overflow-x:auto;line-height:normal;font-family:Menlo,'DejaVu Sans Mono',consolas,'Courier New',monospace\"></pre>\n"
      ],
      "text/plain": []
     },
     "metadata": {},
     "output_type": "display_data"
    },
    {
     "data": {
      "text/html": [
       "<pre style=\"white-space:pre;overflow-x:auto;line-height:normal;font-family:Menlo,'DejaVu Sans Mono',consolas,'Courier New',monospace\">\n",
       "</pre>\n"
      ],
      "text/plain": [
       "\n"
      ]
     },
     "metadata": {},
     "output_type": "display_data"
    },
    {
     "name": "stderr",
     "output_type": "stream",
     "text": [
      "/var/folders/_y/7_q47y8j151gmydw6vtdcd6c0000gn/T/ipykernel_39466/2497100872.py:13: FutureWarning: Series.__getitem__ treating keys as positions is deprecated. In a future version, integer keys will always be treated as labels (consistent with DataFrame behavior). To access a value by position, use `ser.iloc[pos]`\n",
      "  question = df_full.iloc[i][1]\n",
      "/var/folders/_y/7_q47y8j151gmydw6vtdcd6c0000gn/T/ipykernel_39466/2497100872.py:14: FutureWarning: Series.__getitem__ treating keys as positions is deprecated. In a future version, integer keys will always be treated as labels (consistent with DataFrame behavior). To access a value by position, use `ser.iloc[pos]`\n",
      "  ground_truth_query = df_full.iloc[i][2]\n",
      "/var/folders/_y/7_q47y8j151gmydw6vtdcd6c0000gn/T/ipykernel_39466/2497100872.py:15: FutureWarning: Series.__getitem__ treating keys as positions is deprecated. In a future version, integer keys will always be treated as labels (consistent with DataFrame behavior). To access a value by position, use `ser.iloc[pos]`\n",
      "  ground_truth_response = df_full.iloc[i][3]\n"
     ]
    },
    {
     "name": "stdout",
     "output_type": "stream",
     "text": [
      "---------------------------------\n",
      "User request: What databases are the user customer service analyst entitled to?\n",
      "Intent matching result: [UNCOMMON,0]\n",
      "Retrieving information from the Database_embedding_graph.\n",
      "UNCOMMON QUERY\n",
      "Retrieved Context: \n",
      "name: HR Database\n",
      "type: relational\n",
      "\n",
      "name: R&D Database\n",
      "type: relational\n",
      "\n",
      "name: IT Database\n",
      "type: relational\n",
      "\n",
      "name: Finance Database\n",
      "type: relational\n",
      "\n",
      " Attempt 1 generating Cypher query...\n",
      "\n",
      "\n",
      "\u001b[1m> Entering new GraphCypherQAChain chain...\u001b[0m\n",
      "Generated Cypher:\n",
      "\u001b[32;1m\u001b[1;3mcypher\n",
      "MATCH (u:User {name: \"customer service analyst\"})-[:ENTITLED_ON]->(d:Database)\n",
      "RETURN d.name\n",
      "\u001b[0m\n",
      "Full Context:\n",
      "\u001b[32;1m\u001b[1;3m[]\u001b[0m\n",
      "\n",
      "\u001b[1m> Finished chain.\u001b[0m\n",
      "LangChain Cypher query steps: [{'query': 'cypher\\nMATCH (u:User {name: \"customer service analyst\"})-[:ENTITLED_ON]->(d:Database)\\nRETURN d.name\\n'}, {'context': []}]\n",
      "Query failed to retrieve data. Refining query...\n",
      "\n",
      " Attempt 2 generating Cypher query...\n",
      "\n",
      "\n",
      "\u001b[1m> Entering new GraphCypherQAChain chain...\u001b[0m\n",
      "Generated Cypher:\n",
      "\u001b[32;1m\u001b[1;3mcypher\n",
      "MATCH (d:Database)<-[:ENTITLED_ON]-(u:User {name: \"customer service analyst\"})\n",
      "RETURN d.name\n",
      "\u001b[0m\n",
      "Full Context:\n",
      "\u001b[32;1m\u001b[1;3m[]\u001b[0m\n",
      "\n",
      "\u001b[1m> Finished chain.\u001b[0m\n",
      "LangChain Cypher query steps: [{'query': 'cypher\\nMATCH (d:Database)<-[:ENTITLED_ON]-(u:User {name: \"customer service analyst\"})\\nRETURN d.name\\n'}, {'context': []}]\n",
      "Query failed to retrieve data. Refining query...\n",
      "\n",
      " Attempt 3 generating Cypher query...\n",
      "\n",
      "\n",
      "\u001b[1m> Entering new GraphCypherQAChain chain...\u001b[0m\n",
      "Generated Cypher:\n",
      "\u001b[32;1m\u001b[1;3mcypher\n",
      "MATCH (d:Database)<-[:ENTITLED_ON]-(u:User)\n",
      "WHERE u.name = \"customer service analyst\"\n",
      "RETURN d.name\n",
      "\u001b[0m\n",
      "Full Context:\n",
      "\u001b[32;1m\u001b[1;3m[]\u001b[0m\n",
      "\n",
      "\u001b[1m> Finished chain.\u001b[0m\n",
      "LangChain Cypher query steps: [{'query': 'cypher\\nMATCH (d:Database)<-[:ENTITLED_ON]-(u:User)\\nWHERE u.name = \"customer service analyst\"\\nRETURN d.name\\n'}, {'context': []}]\n",
      "Query failed to retrieve data. Refining query...\n",
      "\n",
      " Attempt 4 generating Cypher query...\n",
      "\n",
      "\n",
      "\u001b[1m> Entering new GraphCypherQAChain chain...\u001b[0m\n",
      "Generated Cypher:\n",
      "\u001b[32;1m\u001b[1;3mcypher\n",
      "MATCH (u:User)-[:ENTITLED_ON]->(d:Database)\n",
      "WHERE u.name = \"customer service analyst\"\n",
      "RETURN d.name\n",
      "\u001b[0m\n",
      "Full Context:\n",
      "\u001b[32;1m\u001b[1;3m[]\u001b[0m\n",
      "\n",
      "\u001b[1m> Finished chain.\u001b[0m\n",
      "LangChain Cypher query steps: [{'query': 'cypher\\nMATCH (u:User)-[:ENTITLED_ON]->(d:Database)\\nWHERE u.name = \"customer service analyst\"\\nRETURN d.name\\n'}, {'context': []}]\n",
      "Query failed to retrieve data. Refining query...\n",
      "\n",
      " Attempt 5 generating Cypher query...\n",
      "\n",
      "\n",
      "\u001b[1m> Entering new GraphCypherQAChain chain...\u001b[0m\n",
      "Generated Cypher:\n",
      "\u001b[32;1m\u001b[1;3mcypher\n",
      "MATCH (d:Database)<-[:ENTITLED_ON]-(u:User {account: \"customer service analyst\"})\n",
      "RETURN d.name\n",
      "\u001b[0m\n",
      "Full Context:\n",
      "\u001b[32;1m\u001b[1;3m[]\u001b[0m\n",
      "\n",
      "\u001b[1m> Finished chain.\u001b[0m\n",
      "LangChain Cypher query steps: [{'query': 'cypher\\nMATCH (d:Database)<-[:ENTITLED_ON]-(u:User {account: \"customer service analyst\"})\\nRETURN d.name\\n'}, {'context': []}]\n",
      "Query failed to retrieve data. Refining query...\n",
      "FIRST N DOCS: \n",
      "name: HR Database\n",
      "type: relational\n",
      "\n",
      "name: R&D Database\n",
      "type: relational\n",
      "\n",
      "name: IT Database\n",
      "type: relational\n",
      "\n",
      "name: Finance Database\n",
      "type: relational\n",
      "NODE NAME: ['HR Database', 'R&D Database', 'IT Database', 'Finance Database']\n"
     ]
    },
    {
     "data": {
      "text/html": [
       "<pre style=\"white-space:pre;overflow-x:auto;line-height:normal;font-family:Menlo,'DejaVu Sans Mono',consolas,'Courier New',monospace\">/Users/shreyakurdukar/Desktop/dsi-capstone-capstone-kpmg-jim-ben/chat-venv/lib/python3.11/site-packages/rich/live.p\n",
       "y:231: UserWarning: install \"ipywidgets\" for Jupyter support\n",
       "  warnings.warn('install \"ipywidgets\" for Jupyter support')\n",
       "</pre>\n"
      ],
      "text/plain": [
       "/Users/shreyakurdukar/Desktop/dsi-capstone-capstone-kpmg-jim-ben/chat-venv/lib/python3.11/site-packages/rich/live.p\n",
       "y:231: UserWarning: install \"ipywidgets\" for Jupyter support\n",
       "  warnings.warn('install \"ipywidgets\" for Jupyter support')\n"
      ]
     },
     "metadata": {},
     "output_type": "display_data"
    },
    {
     "data": {
      "text/html": [
       "<pre style=\"white-space:pre;overflow-x:auto;line-height:normal;font-family:Menlo,'DejaVu Sans Mono',consolas,'Courier New',monospace\">Event loop is already running. Applying nest_asyncio patch to allow async execution...\n",
       "</pre>\n"
      ],
      "text/plain": [
       "Event loop is already running. Applying nest_asyncio patch to allow async execution...\n"
      ]
     },
     "metadata": {},
     "output_type": "display_data"
    },
    {
     "data": {
      "text/html": [
       "<pre style=\"white-space:pre;overflow-x:auto;line-height:normal;font-family:Menlo,'DejaVu Sans Mono',consolas,'Courier New',monospace\">/Users/shreyakurdukar/Desktop/dsi-capstone-capstone-kpmg-jim-ben/chat-venv/lib/python3.11/site-packages/rich/live.p\n",
       "y:231: UserWarning: install \"ipywidgets\" for Jupyter support\n",
       "  warnings.warn('install \"ipywidgets\" for Jupyter support')\n",
       "</pre>\n"
      ],
      "text/plain": [
       "/Users/shreyakurdukar/Desktop/dsi-capstone-capstone-kpmg-jim-ben/chat-venv/lib/python3.11/site-packages/rich/live.p\n",
       "y:231: UserWarning: install \"ipywidgets\" for Jupyter support\n",
       "  warnings.warn('install \"ipywidgets\" for Jupyter support')\n"
      ]
     },
     "metadata": {},
     "output_type": "display_data"
    },
    {
     "name": "stdout",
     "output_type": "stream",
     "text": [
      "ERROR: list index out of range\n"
     ]
    },
    {
     "data": {
      "text/html": [
       "<pre style=\"white-space:pre;overflow-x:auto;line-height:normal;font-family:Menlo,'DejaVu Sans Mono',consolas,'Courier New',monospace\"></pre>\n"
      ],
      "text/plain": []
     },
     "metadata": {},
     "output_type": "display_data"
    },
    {
     "data": {
      "text/html": [
       "<pre style=\"white-space:pre;overflow-x:auto;line-height:normal;font-family:Menlo,'DejaVu Sans Mono',consolas,'Courier New',monospace\">\n",
       "</pre>\n"
      ],
      "text/plain": [
       "\n"
      ]
     },
     "metadata": {},
     "output_type": "display_data"
    },
    {
     "data": {
      "text/html": [
       "<pre style=\"white-space:pre;overflow-x:auto;line-height:normal;font-family:Menlo,'DejaVu Sans Mono',consolas,'Courier New',monospace\">Event loop is already running. Applying nest_asyncio patch to allow async execution...\n",
       "</pre>\n"
      ],
      "text/plain": [
       "Event loop is already running. Applying nest_asyncio patch to allow async execution...\n"
      ]
     },
     "metadata": {},
     "output_type": "display_data"
    },
    {
     "data": {
      "text/html": [
       "<pre style=\"white-space:pre;overflow-x:auto;line-height:normal;font-family:Menlo,'DejaVu Sans Mono',consolas,'Courier New',monospace\">/Users/shreyakurdukar/Desktop/dsi-capstone-capstone-kpmg-jim-ben/chat-venv/lib/python3.11/site-packages/rich/live.p\n",
       "y:231: UserWarning: install \"ipywidgets\" for Jupyter support\n",
       "  warnings.warn('install \"ipywidgets\" for Jupyter support')\n",
       "</pre>\n"
      ],
      "text/plain": [
       "/Users/shreyakurdukar/Desktop/dsi-capstone-capstone-kpmg-jim-ben/chat-venv/lib/python3.11/site-packages/rich/live.p\n",
       "y:231: UserWarning: install \"ipywidgets\" for Jupyter support\n",
       "  warnings.warn('install \"ipywidgets\" for Jupyter support')\n"
      ]
     },
     "metadata": {},
     "output_type": "display_data"
    },
    {
     "data": {
      "text/html": [
       "<pre style=\"white-space:pre;overflow-x:auto;line-height:normal;font-family:Menlo,'DejaVu Sans Mono',consolas,'Courier New',monospace\"></pre>\n"
      ],
      "text/plain": []
     },
     "metadata": {},
     "output_type": "display_data"
    },
    {
     "data": {
      "text/html": [
       "<pre style=\"white-space:pre;overflow-x:auto;line-height:normal;font-family:Menlo,'DejaVu Sans Mono',consolas,'Courier New',monospace\">\n",
       "</pre>\n"
      ],
      "text/plain": [
       "\n"
      ]
     },
     "metadata": {},
     "output_type": "display_data"
    },
    {
     "name": "stderr",
     "output_type": "stream",
     "text": [
      "/var/folders/_y/7_q47y8j151gmydw6vtdcd6c0000gn/T/ipykernel_39466/2497100872.py:13: FutureWarning: Series.__getitem__ treating keys as positions is deprecated. In a future version, integer keys will always be treated as labels (consistent with DataFrame behavior). To access a value by position, use `ser.iloc[pos]`\n",
      "  question = df_full.iloc[i][1]\n",
      "/var/folders/_y/7_q47y8j151gmydw6vtdcd6c0000gn/T/ipykernel_39466/2497100872.py:14: FutureWarning: Series.__getitem__ treating keys as positions is deprecated. In a future version, integer keys will always be treated as labels (consistent with DataFrame behavior). To access a value by position, use `ser.iloc[pos]`\n",
      "  ground_truth_query = df_full.iloc[i][2]\n",
      "/var/folders/_y/7_q47y8j151gmydw6vtdcd6c0000gn/T/ipykernel_39466/2497100872.py:15: FutureWarning: Series.__getitem__ treating keys as positions is deprecated. In a future version, integer keys will always be treated as labels (consistent with DataFrame behavior). To access a value by position, use `ser.iloc[pos]`\n",
      "  ground_truth_response = df_full.iloc[i][3]\n"
     ]
    },
    {
     "name": "stdout",
     "output_type": "stream",
     "text": [
      "---------------------------------\n",
      "User request: Who has write access to the Operations_Database?\n"
     ]
    },
    {
     "data": {
      "text/html": [
       "<pre style=\"white-space:pre;overflow-x:auto;line-height:normal;font-family:Menlo,'DejaVu Sans Mono',consolas,'Courier New',monospace\">Event loop is already running. Applying nest_asyncio patch to allow async execution...\n",
       "</pre>\n"
      ],
      "text/plain": [
       "Event loop is already running. Applying nest_asyncio patch to allow async execution...\n"
      ]
     },
     "metadata": {},
     "output_type": "display_data"
    },
    {
     "data": {
      "text/html": [
       "<pre style=\"white-space:pre;overflow-x:auto;line-height:normal;font-family:Menlo,'DejaVu Sans Mono',consolas,'Courier New',monospace\">/Users/shreyakurdukar/Desktop/dsi-capstone-capstone-kpmg-jim-ben/chat-venv/lib/python3.11/site-packages/rich/live.p\n",
       "y:231: UserWarning: install \"ipywidgets\" for Jupyter support\n",
       "  warnings.warn('install \"ipywidgets\" for Jupyter support')\n",
       "</pre>\n"
      ],
      "text/plain": [
       "/Users/shreyakurdukar/Desktop/dsi-capstone-capstone-kpmg-jim-ben/chat-venv/lib/python3.11/site-packages/rich/live.p\n",
       "y:231: UserWarning: install \"ipywidgets\" for Jupyter support\n",
       "  warnings.warn('install \"ipywidgets\" for Jupyter support')\n"
      ]
     },
     "metadata": {},
     "output_type": "display_data"
    },
    {
     "name": "stdout",
     "output_type": "stream",
     "text": [
      "Intent matching result: [UNCOMMON,0]\n"
     ]
    },
    {
     "data": {
      "text/html": [
       "<pre style=\"white-space:pre;overflow-x:auto;line-height:normal;font-family:Menlo,'DejaVu Sans Mono',consolas,'Courier New',monospace\"></pre>\n"
      ],
      "text/plain": []
     },
     "metadata": {},
     "output_type": "display_data"
    },
    {
     "data": {
      "text/html": [
       "<pre style=\"white-space:pre;overflow-x:auto;line-height:normal;font-family:Menlo,'DejaVu Sans Mono',consolas,'Courier New',monospace\">\n",
       "</pre>\n"
      ],
      "text/plain": [
       "\n"
      ]
     },
     "metadata": {},
     "output_type": "display_data"
    },
    {
     "data": {
      "text/html": [
       "<pre style=\"white-space:pre;overflow-x:auto;line-height:normal;font-family:Menlo,'DejaVu Sans Mono',consolas,'Courier New',monospace\">Event loop is already running. Applying nest_asyncio patch to allow async execution...\n",
       "</pre>\n"
      ],
      "text/plain": [
       "Event loop is already running. Applying nest_asyncio patch to allow async execution...\n"
      ]
     },
     "metadata": {},
     "output_type": "display_data"
    },
    {
     "data": {
      "text/html": [
       "<pre style=\"white-space:pre;overflow-x:auto;line-height:normal;font-family:Menlo,'DejaVu Sans Mono',consolas,'Courier New',monospace\">/Users/shreyakurdukar/Desktop/dsi-capstone-capstone-kpmg-jim-ben/chat-venv/lib/python3.11/site-packages/rich/live.p\n",
       "y:231: UserWarning: install \"ipywidgets\" for Jupyter support\n",
       "  warnings.warn('install \"ipywidgets\" for Jupyter support')\n",
       "</pre>\n"
      ],
      "text/plain": [
       "/Users/shreyakurdukar/Desktop/dsi-capstone-capstone-kpmg-jim-ben/chat-venv/lib/python3.11/site-packages/rich/live.p\n",
       "y:231: UserWarning: install \"ipywidgets\" for Jupyter support\n",
       "  warnings.warn('install \"ipywidgets\" for Jupyter support')\n"
      ]
     },
     "metadata": {},
     "output_type": "display_data"
    },
    {
     "data": {
      "text/html": [
       "<pre style=\"white-space:pre;overflow-x:auto;line-height:normal;font-family:Menlo,'DejaVu Sans Mono',consolas,'Courier New',monospace\"></pre>\n"
      ],
      "text/plain": []
     },
     "metadata": {},
     "output_type": "display_data"
    },
    {
     "data": {
      "text/html": [
       "<pre style=\"white-space:pre;overflow-x:auto;line-height:normal;font-family:Menlo,'DejaVu Sans Mono',consolas,'Courier New',monospace\">\n",
       "</pre>\n"
      ],
      "text/plain": [
       "\n"
      ]
     },
     "metadata": {},
     "output_type": "display_data"
    },
    {
     "name": "stderr",
     "output_type": "stream",
     "text": [
      "/var/folders/_y/7_q47y8j151gmydw6vtdcd6c0000gn/T/ipykernel_39466/2497100872.py:13: FutureWarning: Series.__getitem__ treating keys as positions is deprecated. In a future version, integer keys will always be treated as labels (consistent with DataFrame behavior). To access a value by position, use `ser.iloc[pos]`\n",
      "  question = df_full.iloc[i][1]\n",
      "/var/folders/_y/7_q47y8j151gmydw6vtdcd6c0000gn/T/ipykernel_39466/2497100872.py:14: FutureWarning: Series.__getitem__ treating keys as positions is deprecated. In a future version, integer keys will always be treated as labels (consistent with DataFrame behavior). To access a value by position, use `ser.iloc[pos]`\n",
      "  ground_truth_query = df_full.iloc[i][2]\n",
      "/var/folders/_y/7_q47y8j151gmydw6vtdcd6c0000gn/T/ipykernel_39466/2497100872.py:15: FutureWarning: Series.__getitem__ treating keys as positions is deprecated. In a future version, integer keys will always be treated as labels (consistent with DataFrame behavior). To access a value by position, use `ser.iloc[pos]`\n",
      "  ground_truth_response = df_full.iloc[i][3]\n"
     ]
    },
    {
     "name": "stdout",
     "output_type": "stream",
     "text": [
      "---------------------------------\n",
      "User request: What columns does the service tickets table have?\n",
      "Intent matching result: [UNCOMMON,0]\n",
      "Retrieving information from the Column_embedding_graph.\n",
      "UNCOMMON QUERY\n",
      "Retrieved Context: \n",
      "name: ServiceTicketOpenDate\n",
      "type: date\n",
      "\n",
      "name: TicketID\n",
      "type: integer\n",
      "\n",
      "name: ServiceTicketCloseDate\n",
      "type: date\n",
      "\n",
      "name: TicketOpenDate\n",
      "type: date\n",
      "\n",
      " Attempt 1 generating Cypher query...\n",
      "\n",
      "\n",
      "\u001b[1m> Entering new GraphCypherQAChain chain...\u001b[0m\n",
      "Generated Cypher:\n",
      "\u001b[32;1m\u001b[1;3mcypher\n",
      "MATCH (t:Table {name: \"service tickets\"})-[:HAS_COLUMN]->(c:Column)\n",
      "RETURN c.name\n",
      "\u001b[0m\n",
      "Full Context:\n",
      "\u001b[32;1m\u001b[1;3m[]\u001b[0m\n",
      "\n",
      "\u001b[1m> Finished chain.\u001b[0m\n",
      "LangChain Cypher query steps: [{'query': 'cypher\\nMATCH (t:Table {name: \"service tickets\"})-[:HAS_COLUMN]->(c:Column)\\nRETURN c.name\\n'}, {'context': []}]\n",
      "Query failed to retrieve data. Refining query...\n",
      "\n",
      " Attempt 2 generating Cypher query...\n",
      "\n",
      "\n",
      "\u001b[1m> Entering new GraphCypherQAChain chain...\u001b[0m\n",
      "Generated Cypher:\n",
      "\u001b[32;1m\u001b[1;3mcypher\n",
      "MATCH (c:Column)<-[:HAS_COLUMN]-(t:Table) \n",
      "WHERE t.name = \"service tickets\" \n",
      "RETURN c.name\n",
      "\u001b[0m\n",
      "Full Context:\n",
      "\u001b[32;1m\u001b[1;3m[]\u001b[0m\n",
      "\n",
      "\u001b[1m> Finished chain.\u001b[0m\n",
      "LangChain Cypher query steps: [{'query': 'cypher\\nMATCH (c:Column)<-[:HAS_COLUMN]-(t:Table) \\nWHERE t.name = \"service tickets\" \\nRETURN c.name\\n'}, {'context': []}]\n",
      "Query failed to retrieve data. Refining query...\n",
      "\n",
      " Attempt 3 generating Cypher query...\n",
      "\n",
      "\n",
      "\u001b[1m> Entering new GraphCypherQAChain chain...\u001b[0m\n",
      "Generated Cypher:\n",
      "\u001b[32;1m\u001b[1;3mcypher\n",
      "MATCH (t:Table)-[:HAS_COLUMN]->(c:Column)\n",
      "WHERE t.name = \"service tickets\"\n",
      "RETURN c.name\n",
      "\u001b[0m\n",
      "Full Context:\n",
      "\u001b[32;1m\u001b[1;3m[]\u001b[0m\n",
      "\n",
      "\u001b[1m> Finished chain.\u001b[0m\n",
      "LangChain Cypher query steps: [{'query': 'cypher\\nMATCH (t:Table)-[:HAS_COLUMN]->(c:Column)\\nWHERE t.name = \"service tickets\"\\nRETURN c.name\\n'}, {'context': []}]\n",
      "Query failed to retrieve data. Refining query...\n",
      "\n",
      " Attempt 4 generating Cypher query...\n",
      "\n",
      "\n",
      "\u001b[1m> Entering new GraphCypherQAChain chain...\u001b[0m\n",
      "Generated Cypher:\n",
      "\u001b[32;1m\u001b[1;3mcypher\n",
      "MATCH (c:Column)-[:HAS_COLUMN]-(t:Table {name: \"service tickets\"})\n",
      "RETURN c.name\n",
      "\u001b[0m\n",
      "Full Context:\n",
      "\u001b[32;1m\u001b[1;3m[]\u001b[0m\n",
      "\n",
      "\u001b[1m> Finished chain.\u001b[0m\n",
      "LangChain Cypher query steps: [{'query': 'cypher\\nMATCH (c:Column)-[:HAS_COLUMN]-(t:Table {name: \"service tickets\"})\\nRETURN c.name\\n'}, {'context': []}]\n",
      "Query failed to retrieve data. Refining query...\n",
      "\n",
      " Attempt 5 generating Cypher query...\n",
      "\n",
      "\n",
      "\u001b[1m> Entering new GraphCypherQAChain chain...\u001b[0m\n",
      "Generated Cypher:\n",
      "\u001b[32;1m\u001b[1;3mcypher\n",
      "MATCH (c:Column)-[:HAS_COLUMN]->(t:Table {name: \"service tickets\"})\n",
      "RETURN c.name\n",
      "\u001b[0m\n",
      "Full Context:\n",
      "\u001b[32;1m\u001b[1;3m[]\u001b[0m\n",
      "\n",
      "\u001b[1m> Finished chain.\u001b[0m\n",
      "LangChain Cypher query steps: [{'query': 'cypher\\nMATCH (c:Column)-[:HAS_COLUMN]->(t:Table {name: \"service tickets\"})\\nRETURN c.name\\n'}, {'context': []}]\n",
      "Query failed to retrieve data. Refining query...\n",
      "FIRST N DOCS: \n",
      "name: ServiceTicketOpenDate\n",
      "type: date\n",
      "\n",
      "name: TicketID\n",
      "type: integer\n",
      "\n",
      "name: ServiceTicketCloseDate\n",
      "type: date\n",
      "\n",
      "name: TicketOpenDate\n",
      "type: date\n",
      "NODE NAME: ['ServiceTicketOpenDate', 'TicketID', 'ServiceTicketCloseDate', 'TicketOpenDate']\n"
     ]
    },
    {
     "data": {
      "text/html": [
       "<pre style=\"white-space:pre;overflow-x:auto;line-height:normal;font-family:Menlo,'DejaVu Sans Mono',consolas,'Courier New',monospace\">/Users/shreyakurdukar/Desktop/dsi-capstone-capstone-kpmg-jim-ben/chat-venv/lib/python3.11/site-packages/rich/live.p\n",
       "y:231: UserWarning: install \"ipywidgets\" for Jupyter support\n",
       "  warnings.warn('install \"ipywidgets\" for Jupyter support')\n",
       "</pre>\n"
      ],
      "text/plain": [
       "/Users/shreyakurdukar/Desktop/dsi-capstone-capstone-kpmg-jim-ben/chat-venv/lib/python3.11/site-packages/rich/live.p\n",
       "y:231: UserWarning: install \"ipywidgets\" for Jupyter support\n",
       "  warnings.warn('install \"ipywidgets\" for Jupyter support')\n"
      ]
     },
     "metadata": {},
     "output_type": "display_data"
    },
    {
     "data": {
      "text/html": [
       "<pre style=\"white-space:pre;overflow-x:auto;line-height:normal;font-family:Menlo,'DejaVu Sans Mono',consolas,'Courier New',monospace\">Event loop is already running. Applying nest_asyncio patch to allow async execution...\n",
       "</pre>\n"
      ],
      "text/plain": [
       "Event loop is already running. Applying nest_asyncio patch to allow async execution...\n"
      ]
     },
     "metadata": {},
     "output_type": "display_data"
    },
    {
     "data": {
      "text/html": [
       "<pre style=\"white-space:pre;overflow-x:auto;line-height:normal;font-family:Menlo,'DejaVu Sans Mono',consolas,'Courier New',monospace\">/Users/shreyakurdukar/Desktop/dsi-capstone-capstone-kpmg-jim-ben/chat-venv/lib/python3.11/site-packages/rich/live.p\n",
       "y:231: UserWarning: install \"ipywidgets\" for Jupyter support\n",
       "  warnings.warn('install \"ipywidgets\" for Jupyter support')\n",
       "</pre>\n"
      ],
      "text/plain": [
       "/Users/shreyakurdukar/Desktop/dsi-capstone-capstone-kpmg-jim-ben/chat-venv/lib/python3.11/site-packages/rich/live.p\n",
       "y:231: UserWarning: install \"ipywidgets\" for Jupyter support\n",
       "  warnings.warn('install \"ipywidgets\" for Jupyter support')\n"
      ]
     },
     "metadata": {},
     "output_type": "display_data"
    },
    {
     "name": "stdout",
     "output_type": "stream",
     "text": [
      "ERROR: list index out of range\n"
     ]
    },
    {
     "data": {
      "text/html": [
       "<pre style=\"white-space:pre;overflow-x:auto;line-height:normal;font-family:Menlo,'DejaVu Sans Mono',consolas,'Courier New',monospace\"></pre>\n"
      ],
      "text/plain": []
     },
     "metadata": {},
     "output_type": "display_data"
    },
    {
     "data": {
      "text/html": [
       "<pre style=\"white-space:pre;overflow-x:auto;line-height:normal;font-family:Menlo,'DejaVu Sans Mono',consolas,'Courier New',monospace\">\n",
       "</pre>\n"
      ],
      "text/plain": [
       "\n"
      ]
     },
     "metadata": {},
     "output_type": "display_data"
    },
    {
     "data": {
      "text/html": [
       "<pre style=\"white-space:pre;overflow-x:auto;line-height:normal;font-family:Menlo,'DejaVu Sans Mono',consolas,'Courier New',monospace\">Event loop is already running. Applying nest_asyncio patch to allow async execution...\n",
       "</pre>\n"
      ],
      "text/plain": [
       "Event loop is already running. Applying nest_asyncio patch to allow async execution...\n"
      ]
     },
     "metadata": {},
     "output_type": "display_data"
    },
    {
     "data": {
      "text/html": [
       "<pre style=\"white-space:pre;overflow-x:auto;line-height:normal;font-family:Menlo,'DejaVu Sans Mono',consolas,'Courier New',monospace\">/Users/shreyakurdukar/Desktop/dsi-capstone-capstone-kpmg-jim-ben/chat-venv/lib/python3.11/site-packages/rich/live.p\n",
       "y:231: UserWarning: install \"ipywidgets\" for Jupyter support\n",
       "  warnings.warn('install \"ipywidgets\" for Jupyter support')\n",
       "</pre>\n"
      ],
      "text/plain": [
       "/Users/shreyakurdukar/Desktop/dsi-capstone-capstone-kpmg-jim-ben/chat-venv/lib/python3.11/site-packages/rich/live.p\n",
       "y:231: UserWarning: install \"ipywidgets\" for Jupyter support\n",
       "  warnings.warn('install \"ipywidgets\" for Jupyter support')\n"
      ]
     },
     "metadata": {},
     "output_type": "display_data"
    },
    {
     "data": {
      "text/html": [
       "<pre style=\"white-space:pre;overflow-x:auto;line-height:normal;font-family:Menlo,'DejaVu Sans Mono',consolas,'Courier New',monospace\"></pre>\n"
      ],
      "text/plain": []
     },
     "metadata": {},
     "output_type": "display_data"
    },
    {
     "data": {
      "text/html": [
       "<pre style=\"white-space:pre;overflow-x:auto;line-height:normal;font-family:Menlo,'DejaVu Sans Mono',consolas,'Courier New',monospace\">\n",
       "</pre>\n"
      ],
      "text/plain": [
       "\n"
      ]
     },
     "metadata": {},
     "output_type": "display_data"
    },
    {
     "name": "stderr",
     "output_type": "stream",
     "text": [
      "/var/folders/_y/7_q47y8j151gmydw6vtdcd6c0000gn/T/ipykernel_39466/2497100872.py:13: FutureWarning: Series.__getitem__ treating keys as positions is deprecated. In a future version, integer keys will always be treated as labels (consistent with DataFrame behavior). To access a value by position, use `ser.iloc[pos]`\n",
      "  question = df_full.iloc[i][1]\n",
      "/var/folders/_y/7_q47y8j151gmydw6vtdcd6c0000gn/T/ipykernel_39466/2497100872.py:14: FutureWarning: Series.__getitem__ treating keys as positions is deprecated. In a future version, integer keys will always be treated as labels (consistent with DataFrame behavior). To access a value by position, use `ser.iloc[pos]`\n",
      "  ground_truth_query = df_full.iloc[i][2]\n",
      "/var/folders/_y/7_q47y8j151gmydw6vtdcd6c0000gn/T/ipykernel_39466/2497100872.py:15: FutureWarning: Series.__getitem__ treating keys as positions is deprecated. In a future version, integer keys will always be treated as labels (consistent with DataFrame behavior). To access a value by position, use `ser.iloc[pos]`\n",
      "  ground_truth_response = df_full.iloc[i][3]\n"
     ]
    },
    {
     "name": "stdout",
     "output_type": "stream",
     "text": [
      "---------------------------------\n",
      "User request: What tables do the marketing database contain?\n",
      "Intent matching result: [UNCOMMON,0]\n",
      "Retrieving information from the Table_embedding_graph.\n",
      "UNCOMMON QUERY\n",
      "Retrieved Context: \n",
      "name: Market Research\n",
      "\n",
      "name: Campaigns\n",
      "\n",
      "name: Products\n",
      "\n",
      "name: Financial Reports\n",
      "\n",
      " Attempt 1 generating Cypher query...\n",
      "\n",
      "\n",
      "\u001b[1m> Entering new GraphCypherQAChain chain...\u001b[0m\n",
      "Generated Cypher:\n",
      "\u001b[32;1m\u001b[1;3mcypher\n",
      "MATCH (d:Database {name: \"marketing\"})-[:CONTAINS]->(t:Table)\n",
      "RETURN t.name\n",
      "\u001b[0m\n",
      "Full Context:\n",
      "\u001b[32;1m\u001b[1;3m[]\u001b[0m\n",
      "\n",
      "\u001b[1m> Finished chain.\u001b[0m\n",
      "LangChain Cypher query steps: [{'query': 'cypher\\nMATCH (d:Database {name: \"marketing\"})-[:CONTAINS]->(t:Table)\\nRETURN t.name\\n'}, {'context': []}]\n",
      "Query failed to retrieve data. Refining query...\n",
      "\n",
      " Attempt 2 generating Cypher query...\n",
      "\n",
      "\n",
      "\u001b[1m> Entering new GraphCypherQAChain chain...\u001b[0m\n",
      "Generated Cypher:\n",
      "\u001b[32;1m\u001b[1;3mMATCH (t:Table)<-[:CONTAINS]-(d:Database {name: \"marketing\"})\n",
      "RETURN t.name\u001b[0m\n",
      "Full Context:\n",
      "\u001b[32;1m\u001b[1;3m[]\u001b[0m\n",
      "\n",
      "\u001b[1m> Finished chain.\u001b[0m\n",
      "LangChain Cypher query steps: [{'query': 'MATCH (t:Table)<-[:CONTAINS]-(d:Database {name: \"marketing\"})\\nRETURN t.name'}, {'context': []}]\n",
      "Query failed to retrieve data. Refining query...\n",
      "\n",
      " Attempt 3 generating Cypher query...\n",
      "\n",
      "\n",
      "\u001b[1m> Entering new GraphCypherQAChain chain...\u001b[0m\n",
      "Generated Cypher:\n",
      "\u001b[32;1m\u001b[1;3mcypher\n",
      "MATCH (t:Table)-[:CONTAINS]-(d:Database {name: \"marketing\"})\n",
      "RETURN t.name\n",
      "\u001b[0m\n",
      "Full Context:\n",
      "\u001b[32;1m\u001b[1;3m[]\u001b[0m\n",
      "\n",
      "\u001b[1m> Finished chain.\u001b[0m\n",
      "LangChain Cypher query steps: [{'query': 'cypher\\nMATCH (t:Table)-[:CONTAINS]-(d:Database {name: \"marketing\"})\\nRETURN t.name\\n'}, {'context': []}]\n",
      "Query failed to retrieve data. Refining query...\n",
      "\n",
      " Attempt 4 generating Cypher query...\n",
      "\n",
      "\n",
      "\u001b[1m> Entering new GraphCypherQAChain chain...\u001b[0m\n",
      "Generated Cypher:\n",
      "\u001b[32;1m\u001b[1;3mcypher\n",
      "MATCH (d:Database)-[:CONTAINS]->(t:Table)\n",
      "WHERE d.name = \"marketing\"\n",
      "RETURN t.name\n",
      "\u001b[0m\n",
      "Full Context:\n",
      "\u001b[32;1m\u001b[1;3m[]\u001b[0m\n",
      "\n",
      "\u001b[1m> Finished chain.\u001b[0m\n",
      "LangChain Cypher query steps: [{'query': 'cypher\\nMATCH (d:Database)-[:CONTAINS]->(t:Table)\\nWHERE d.name = \"marketing\"\\nRETURN t.name\\n'}, {'context': []}]\n",
      "Query failed to retrieve data. Refining query...\n",
      "\n",
      " Attempt 5 generating Cypher query...\n",
      "\n",
      "\n",
      "\u001b[1m> Entering new GraphCypherQAChain chain...\u001b[0m\n",
      "Generated Cypher:\n",
      "\u001b[32;1m\u001b[1;3mcypher\n",
      "MATCH (t:Table)<-[:CONTAINS]-(d:Database)\n",
      "WHERE d.name = \"marketing\"\n",
      "RETURN t.name\n",
      "\u001b[0m\n",
      "Full Context:\n",
      "\u001b[32;1m\u001b[1;3m[]\u001b[0m\n",
      "\n",
      "\u001b[1m> Finished chain.\u001b[0m\n",
      "LangChain Cypher query steps: [{'query': 'cypher\\nMATCH (t:Table)<-[:CONTAINS]-(d:Database)\\nWHERE d.name = \"marketing\"\\nRETURN t.name\\n'}, {'context': []}]\n",
      "Query failed to retrieve data. Refining query...\n",
      "FIRST N DOCS: \n",
      "name: Market Research\n",
      "\n",
      "name: Campaigns\n",
      "\n",
      "name: Products\n",
      "\n",
      "name: Financial Reports\n",
      "NODE NAME: ['Market Research', 'Campaigns', 'Products', 'Financial Reports']\n"
     ]
    },
    {
     "data": {
      "text/html": [
       "<pre style=\"white-space:pre;overflow-x:auto;line-height:normal;font-family:Menlo,'DejaVu Sans Mono',consolas,'Courier New',monospace\">/Users/shreyakurdukar/Desktop/dsi-capstone-capstone-kpmg-jim-ben/chat-venv/lib/python3.11/site-packages/rich/live.p\n",
       "y:231: UserWarning: install \"ipywidgets\" for Jupyter support\n",
       "  warnings.warn('install \"ipywidgets\" for Jupyter support')\n",
       "</pre>\n"
      ],
      "text/plain": [
       "/Users/shreyakurdukar/Desktop/dsi-capstone-capstone-kpmg-jim-ben/chat-venv/lib/python3.11/site-packages/rich/live.p\n",
       "y:231: UserWarning: install \"ipywidgets\" for Jupyter support\n",
       "  warnings.warn('install \"ipywidgets\" for Jupyter support')\n"
      ]
     },
     "metadata": {},
     "output_type": "display_data"
    },
    {
     "data": {
      "text/html": [
       "<pre style=\"white-space:pre;overflow-x:auto;line-height:normal;font-family:Menlo,'DejaVu Sans Mono',consolas,'Courier New',monospace\">Event loop is already running. Applying nest_asyncio patch to allow async execution...\n",
       "</pre>\n"
      ],
      "text/plain": [
       "Event loop is already running. Applying nest_asyncio patch to allow async execution...\n"
      ]
     },
     "metadata": {},
     "output_type": "display_data"
    },
    {
     "data": {
      "text/html": [
       "<pre style=\"white-space:pre;overflow-x:auto;line-height:normal;font-family:Menlo,'DejaVu Sans Mono',consolas,'Courier New',monospace\">/Users/shreyakurdukar/Desktop/dsi-capstone-capstone-kpmg-jim-ben/chat-venv/lib/python3.11/site-packages/rich/live.p\n",
       "y:231: UserWarning: install \"ipywidgets\" for Jupyter support\n",
       "  warnings.warn('install \"ipywidgets\" for Jupyter support')\n",
       "</pre>\n"
      ],
      "text/plain": [
       "/Users/shreyakurdukar/Desktop/dsi-capstone-capstone-kpmg-jim-ben/chat-venv/lib/python3.11/site-packages/rich/live.p\n",
       "y:231: UserWarning: install \"ipywidgets\" for Jupyter support\n",
       "  warnings.warn('install \"ipywidgets\" for Jupyter support')\n"
      ]
     },
     "metadata": {},
     "output_type": "display_data"
    },
    {
     "name": "stdout",
     "output_type": "stream",
     "text": [
      "ERROR: list index out of range\n"
     ]
    },
    {
     "data": {
      "text/html": [
       "<pre style=\"white-space:pre;overflow-x:auto;line-height:normal;font-family:Menlo,'DejaVu Sans Mono',consolas,'Courier New',monospace\"></pre>\n"
      ],
      "text/plain": []
     },
     "metadata": {},
     "output_type": "display_data"
    },
    {
     "data": {
      "text/html": [
       "<pre style=\"white-space:pre;overflow-x:auto;line-height:normal;font-family:Menlo,'DejaVu Sans Mono',consolas,'Courier New',monospace\">\n",
       "</pre>\n"
      ],
      "text/plain": [
       "\n"
      ]
     },
     "metadata": {},
     "output_type": "display_data"
    },
    {
     "data": {
      "text/html": [
       "<pre style=\"white-space:pre;overflow-x:auto;line-height:normal;font-family:Menlo,'DejaVu Sans Mono',consolas,'Courier New',monospace\">Event loop is already running. Applying nest_asyncio patch to allow async execution...\n",
       "</pre>\n"
      ],
      "text/plain": [
       "Event loop is already running. Applying nest_asyncio patch to allow async execution...\n"
      ]
     },
     "metadata": {},
     "output_type": "display_data"
    },
    {
     "data": {
      "text/html": [
       "<pre style=\"white-space:pre;overflow-x:auto;line-height:normal;font-family:Menlo,'DejaVu Sans Mono',consolas,'Courier New',monospace\">/Users/shreyakurdukar/Desktop/dsi-capstone-capstone-kpmg-jim-ben/chat-venv/lib/python3.11/site-packages/rich/live.p\n",
       "y:231: UserWarning: install \"ipywidgets\" for Jupyter support\n",
       "  warnings.warn('install \"ipywidgets\" for Jupyter support')\n",
       "</pre>\n"
      ],
      "text/plain": [
       "/Users/shreyakurdukar/Desktop/dsi-capstone-capstone-kpmg-jim-ben/chat-venv/lib/python3.11/site-packages/rich/live.p\n",
       "y:231: UserWarning: install \"ipywidgets\" for Jupyter support\n",
       "  warnings.warn('install \"ipywidgets\" for Jupyter support')\n"
      ]
     },
     "metadata": {},
     "output_type": "display_data"
    },
    {
     "data": {
      "text/html": [
       "<pre style=\"white-space:pre;overflow-x:auto;line-height:normal;font-family:Menlo,'DejaVu Sans Mono',consolas,'Courier New',monospace\"></pre>\n"
      ],
      "text/plain": []
     },
     "metadata": {},
     "output_type": "display_data"
    },
    {
     "data": {
      "text/html": [
       "<pre style=\"white-space:pre;overflow-x:auto;line-height:normal;font-family:Menlo,'DejaVu Sans Mono',consolas,'Courier New',monospace\">\n",
       "</pre>\n"
      ],
      "text/plain": [
       "\n"
      ]
     },
     "metadata": {},
     "output_type": "display_data"
    },
    {
     "name": "stderr",
     "output_type": "stream",
     "text": [
      "/var/folders/_y/7_q47y8j151gmydw6vtdcd6c0000gn/T/ipykernel_39466/2497100872.py:13: FutureWarning: Series.__getitem__ treating keys as positions is deprecated. In a future version, integer keys will always be treated as labels (consistent with DataFrame behavior). To access a value by position, use `ser.iloc[pos]`\n",
      "  question = df_full.iloc[i][1]\n",
      "/var/folders/_y/7_q47y8j151gmydw6vtdcd6c0000gn/T/ipykernel_39466/2497100872.py:14: FutureWarning: Series.__getitem__ treating keys as positions is deprecated. In a future version, integer keys will always be treated as labels (consistent with DataFrame behavior). To access a value by position, use `ser.iloc[pos]`\n",
      "  ground_truth_query = df_full.iloc[i][2]\n",
      "/var/folders/_y/7_q47y8j151gmydw6vtdcd6c0000gn/T/ipykernel_39466/2497100872.py:15: FutureWarning: Series.__getitem__ treating keys as positions is deprecated. In a future version, integer keys will always be treated as labels (consistent with DataFrame behavior). To access a value by position, use `ser.iloc[pos]`\n",
      "  ground_truth_response = df_full.iloc[i][3]\n"
     ]
    },
    {
     "name": "stdout",
     "output_type": "stream",
     "text": [
      "---------------------------------\n",
      "User request: What business group is the Employee Productivity Report associated with?\n",
      "Intent matching result: [UNCOMMON,0]\n",
      "Retrieving information from the BusinessGroup_embedding_graph.\n",
      "UNCOMMON QUERY\n",
      "Retrieved Context: \n",
      "name: human_resources\n",
      "\n",
      "name: Product\n",
      "\n",
      "name: Research and Development\n",
      "\n",
      "name: Marketing and Public Relations\n",
      "\n",
      " Attempt 1 generating Cypher query...\n",
      "\n",
      "\n",
      "\u001b[1m> Entering new GraphCypherQAChain chain...\u001b[0m\n",
      "Generated Cypher:\n",
      "\u001b[32;1m\u001b[1;3mcypher\n",
      "MATCH (r:Report {name: \"Employee Productivity Report\"})-[:ASSOCIATED_WITH]->(bg:BusinessGroup)\n",
      "RETURN bg.name\n",
      "\u001b[0m\n",
      "Full Context:\n",
      "\u001b[32;1m\u001b[1;3m[{'bg.name': 'human_resources'}]\u001b[0m\n",
      "\n",
      "\u001b[1m> Finished chain.\u001b[0m\n",
      "LangChain Cypher query steps: [{'query': 'cypher\\nMATCH (r:Report {name: \"Employee Productivity Report\"})-[:ASSOCIATED_WITH]->(bg:BusinessGroup)\\nRETURN bg.name\\n'}, {'context': [{'bg.name': 'human_resources'}]}]\n",
      "RETRIEVAL RESPONSE: [{'query': 'cypher\\nMATCH (r:Report {name: \"Employee Productivity Report\"})-[:ASSOCIATED_WITH]->(bg:BusinessGroup)\\nRETURN bg.name\\n'}, {'context': [{'bg.name': 'human_resources'}]}]\n"
     ]
    },
    {
     "data": {
      "text/html": [
       "<pre style=\"white-space:pre;overflow-x:auto;line-height:normal;font-family:Menlo,'DejaVu Sans Mono',consolas,'Courier New',monospace\">/Users/shreyakurdukar/Desktop/dsi-capstone-capstone-kpmg-jim-ben/chat-venv/lib/python3.11/site-packages/rich/live.p\n",
       "y:231: UserWarning: install \"ipywidgets\" for Jupyter support\n",
       "  warnings.warn('install \"ipywidgets\" for Jupyter support')\n",
       "</pre>\n"
      ],
      "text/plain": [
       "/Users/shreyakurdukar/Desktop/dsi-capstone-capstone-kpmg-jim-ben/chat-venv/lib/python3.11/site-packages/rich/live.p\n",
       "y:231: UserWarning: install \"ipywidgets\" for Jupyter support\n",
       "  warnings.warn('install \"ipywidgets\" for Jupyter support')\n"
      ]
     },
     "metadata": {},
     "output_type": "display_data"
    },
    {
     "data": {
      "text/html": [
       "<pre style=\"white-space:pre;overflow-x:auto;line-height:normal;font-family:Menlo,'DejaVu Sans Mono',consolas,'Courier New',monospace\">Event loop is already running. Applying nest_asyncio patch to allow async execution...\n",
       "</pre>\n"
      ],
      "text/plain": [
       "Event loop is already running. Applying nest_asyncio patch to allow async execution...\n"
      ]
     },
     "metadata": {},
     "output_type": "display_data"
    },
    {
     "data": {
      "text/html": [
       "<pre style=\"white-space:pre;overflow-x:auto;line-height:normal;font-family:Menlo,'DejaVu Sans Mono',consolas,'Courier New',monospace\">/Users/shreyakurdukar/Desktop/dsi-capstone-capstone-kpmg-jim-ben/chat-venv/lib/python3.11/site-packages/rich/live.p\n",
       "y:231: UserWarning: install \"ipywidgets\" for Jupyter support\n",
       "  warnings.warn('install \"ipywidgets\" for Jupyter support')\n",
       "</pre>\n"
      ],
      "text/plain": [
       "/Users/shreyakurdukar/Desktop/dsi-capstone-capstone-kpmg-jim-ben/chat-venv/lib/python3.11/site-packages/rich/live.p\n",
       "y:231: UserWarning: install \"ipywidgets\" for Jupyter support\n",
       "  warnings.warn('install \"ipywidgets\" for Jupyter support')\n"
      ]
     },
     "metadata": {},
     "output_type": "display_data"
    },
    {
     "data": {
      "text/html": [
       "<pre style=\"white-space:pre;overflow-x:auto;line-height:normal;font-family:Menlo,'DejaVu Sans Mono',consolas,'Courier New',monospace\"></pre>\n"
      ],
      "text/plain": []
     },
     "metadata": {},
     "output_type": "display_data"
    },
    {
     "data": {
      "text/html": [
       "<pre style=\"white-space:pre;overflow-x:auto;line-height:normal;font-family:Menlo,'DejaVu Sans Mono',consolas,'Courier New',monospace\">\n",
       "</pre>\n"
      ],
      "text/plain": [
       "\n"
      ]
     },
     "metadata": {},
     "output_type": "display_data"
    },
    {
     "data": {
      "text/html": [
       "<pre style=\"white-space:pre;overflow-x:auto;line-height:normal;font-family:Menlo,'DejaVu Sans Mono',consolas,'Courier New',monospace\">Event loop is already running. Applying nest_asyncio patch to allow async execution...\n",
       "</pre>\n"
      ],
      "text/plain": [
       "Event loop is already running. Applying nest_asyncio patch to allow async execution...\n"
      ]
     },
     "metadata": {},
     "output_type": "display_data"
    },
    {
     "data": {
      "text/html": [
       "<pre style=\"white-space:pre;overflow-x:auto;line-height:normal;font-family:Menlo,'DejaVu Sans Mono',consolas,'Courier New',monospace\">/Users/shreyakurdukar/Desktop/dsi-capstone-capstone-kpmg-jim-ben/chat-venv/lib/python3.11/site-packages/rich/live.p\n",
       "y:231: UserWarning: install \"ipywidgets\" for Jupyter support\n",
       "  warnings.warn('install \"ipywidgets\" for Jupyter support')\n",
       "</pre>\n"
      ],
      "text/plain": [
       "/Users/shreyakurdukar/Desktop/dsi-capstone-capstone-kpmg-jim-ben/chat-venv/lib/python3.11/site-packages/rich/live.p\n",
       "y:231: UserWarning: install \"ipywidgets\" for Jupyter support\n",
       "  warnings.warn('install \"ipywidgets\" for Jupyter support')\n"
      ]
     },
     "metadata": {},
     "output_type": "display_data"
    },
    {
     "data": {
      "text/html": [
       "<pre style=\"white-space:pre;overflow-x:auto;line-height:normal;font-family:Menlo,'DejaVu Sans Mono',consolas,'Courier New',monospace\"></pre>\n"
      ],
      "text/plain": []
     },
     "metadata": {},
     "output_type": "display_data"
    },
    {
     "data": {
      "text/html": [
       "<pre style=\"white-space:pre;overflow-x:auto;line-height:normal;font-family:Menlo,'DejaVu Sans Mono',consolas,'Courier New',monospace\">\n",
       "</pre>\n"
      ],
      "text/plain": [
       "\n"
      ]
     },
     "metadata": {},
     "output_type": "display_data"
    },
    {
     "name": "stderr",
     "output_type": "stream",
     "text": [
      "/var/folders/_y/7_q47y8j151gmydw6vtdcd6c0000gn/T/ipykernel_39466/2497100872.py:13: FutureWarning: Series.__getitem__ treating keys as positions is deprecated. In a future version, integer keys will always be treated as labels (consistent with DataFrame behavior). To access a value by position, use `ser.iloc[pos]`\n",
      "  question = df_full.iloc[i][1]\n",
      "/var/folders/_y/7_q47y8j151gmydw6vtdcd6c0000gn/T/ipykernel_39466/2497100872.py:14: FutureWarning: Series.__getitem__ treating keys as positions is deprecated. In a future version, integer keys will always be treated as labels (consistent with DataFrame behavior). To access a value by position, use `ser.iloc[pos]`\n",
      "  ground_truth_query = df_full.iloc[i][2]\n",
      "/var/folders/_y/7_q47y8j151gmydw6vtdcd6c0000gn/T/ipykernel_39466/2497100872.py:15: FutureWarning: Series.__getitem__ treating keys as positions is deprecated. In a future version, integer keys will always be treated as labels (consistent with DataFrame behavior). To access a value by position, use `ser.iloc[pos]`\n",
      "  ground_truth_response = df_full.iloc[i][3]\n"
     ]
    },
    {
     "name": "stdout",
     "output_type": "stream",
     "text": [
      "---------------------------------\n",
      "User request: What business group is the user sales analyst involved with?\n",
      "Intent matching result: [UNCOMMON,0]\n",
      "Retrieving information from the User_embedding_graph.\n",
      "UNCOMMON QUERY\n",
      "Retrieved Context: \n",
      "name: Sales Analyst\n",
      "account: sales.analyst@company.com\n",
      "\n",
      "name: Sales Data Analyst\n",
      "account: sales.analyst@company.com\n",
      "\n",
      "name: sales_analyst\n",
      "account: sales_analyst@salescompany.com\n",
      "\n",
      "name: Customer Insights Analyst\n",
      "account: customer.insights.analyst@company.com\n",
      "\n",
      " Attempt 1 generating Cypher query...\n",
      "\n",
      "\n",
      "\u001b[1m> Entering new GraphCypherQAChain chain...\u001b[0m\n",
      "Generated Cypher:\n",
      "\u001b[32;1m\u001b[1;3mcypher\n",
      "MATCH (u:User {name: \"sales analyst\"})-[:ENTITLED_ON]->(:Database)-[:ASSOCIATED_WITH]->(bg:BusinessGroup)\n",
      "RETURN bg.name\n",
      "\u001b[0m\n",
      "Full Context:\n",
      "\u001b[32;1m\u001b[1;3m[]\u001b[0m\n",
      "\n",
      "\u001b[1m> Finished chain.\u001b[0m\n",
      "LangChain Cypher query steps: [{'query': 'cypher\\nMATCH (u:User {name: \"sales analyst\"})-[:ENTITLED_ON]->(:Database)-[:ASSOCIATED_WITH]->(bg:BusinessGroup)\\nRETURN bg.name\\n'}, {'context': []}]\n",
      "Query failed to retrieve data. Refining query...\n",
      "\n",
      " Attempt 2 generating Cypher query...\n",
      "\n",
      "\n",
      "\u001b[1m> Entering new GraphCypherQAChain chain...\u001b[0m\n",
      "Generated Cypher:\n",
      "\u001b[32;1m\u001b[1;3mcypher\n",
      "MATCH (u:User {name: \"sales analyst\"})-[:ENTITLED_ON]->(:Report)-[:ASSOCIATED_WITH]->(bg:BusinessGroup)\n",
      "RETURN bg.name\n",
      "\u001b[0m\n",
      "Full Context:\n",
      "\u001b[32;1m\u001b[1;3m[]\u001b[0m\n",
      "\n",
      "\u001b[1m> Finished chain.\u001b[0m\n",
      "LangChain Cypher query steps: [{'query': 'cypher\\nMATCH (u:User {name: \"sales analyst\"})-[:ENTITLED_ON]->(:Report)-[:ASSOCIATED_WITH]->(bg:BusinessGroup)\\nRETURN bg.name\\n'}, {'context': []}]\n",
      "Query failed to retrieve data. Refining query...\n",
      "\n",
      " Attempt 3 generating Cypher query...\n",
      "\n",
      "\n",
      "\u001b[1m> Entering new GraphCypherQAChain chain...\u001b[0m\n",
      "Generated Cypher:\n",
      "\u001b[32;1m\u001b[1;3mcypher\n",
      "MATCH (u:User {name: \"sales analyst\"})-[:OWNS|:MAINTAINS]->(:Report)-[:ASSOCIATED_WITH]->(bg:BusinessGroup)\n",
      "RETURN bg.name\n",
      "\u001b[0m\n",
      "Full Context:\n",
      "\u001b[32;1m\u001b[1;3m[]\u001b[0m\n",
      "\n",
      "\u001b[1m> Finished chain.\u001b[0m\n",
      "LangChain Cypher query steps: [{'query': 'cypher\\nMATCH (u:User {name: \"sales analyst\"})-[:OWNS|:MAINTAINS]->(:Report)-[:ASSOCIATED_WITH]->(bg:BusinessGroup)\\nRETURN bg.name\\n'}, {'context': []}]\n",
      "Query failed to retrieve data. Refining query...\n",
      "\n",
      " Attempt 4 generating Cypher query...\n",
      "\n",
      "\n",
      "\u001b[1m> Entering new GraphCypherQAChain chain...\u001b[0m\n",
      "Generated Cypher:\n",
      "\u001b[32;1m\u001b[1;3mcypher\n",
      "MATCH (u:User {name: \"sales analyst\"})-[:OWNS|:MAINTAINS]->(:ModelVersion)-[:PRODUCES]->(:DataElement)-[:FEEDS]->(:ReportField)-[:BELONGS_TO]->(:ReportSection)-[:PART_OF]->(:Report)-[:ASSOCIATED_WITH]->(bg:BusinessGroup)\n",
      "RETURN bg.name\n",
      "\u001b[0m\n",
      "Full Context:\n",
      "\u001b[32;1m\u001b[1;3m[]\u001b[0m\n",
      "\n",
      "\u001b[1m> Finished chain.\u001b[0m\n",
      "LangChain Cypher query steps: [{'query': 'cypher\\nMATCH (u:User {name: \"sales analyst\"})-[:OWNS|:MAINTAINS]->(:ModelVersion)-[:PRODUCES]->(:DataElement)-[:FEEDS]->(:ReportField)-[:BELONGS_TO]->(:ReportSection)-[:PART_OF]->(:Report)-[:ASSOCIATED_WITH]->(bg:BusinessGroup)\\nRETURN bg.name\\n'}, {'context': []}]\n",
      "Query failed to retrieve data. Refining query...\n",
      "\n",
      " Attempt 5 generating Cypher query...\n",
      "\n",
      "\n",
      "\u001b[1m> Entering new GraphCypherQAChain chain...\u001b[0m\n",
      "Generated Cypher:\n",
      "\u001b[32;1m\u001b[1;3mcypher\n",
      "MATCH (u:User {name: \"sales analyst\"})-[:OWNS|:MAINTAINS]->(:ModelVersion)-[:INPUT_TO]->(:DataElement)-[:FEEDS]->(:ReportField)-[:BELONGS_TO]->(:ReportSection)-[:PART_OF]->(:Report)-[:ASSOCIATED_WITH]->(bg:BusinessGroup)\n",
      "RETURN bg.name\n",
      "\u001b[0m\n",
      "Full Context:\n",
      "\u001b[32;1m\u001b[1;3m[]\u001b[0m\n",
      "\n",
      "\u001b[1m> Finished chain.\u001b[0m\n",
      "LangChain Cypher query steps: [{'query': 'cypher\\nMATCH (u:User {name: \"sales analyst\"})-[:OWNS|:MAINTAINS]->(:ModelVersion)-[:INPUT_TO]->(:DataElement)-[:FEEDS]->(:ReportField)-[:BELONGS_TO]->(:ReportSection)-[:PART_OF]->(:Report)-[:ASSOCIATED_WITH]->(bg:BusinessGroup)\\nRETURN bg.name\\n'}, {'context': []}]\n",
      "Query failed to retrieve data. Refining query...\n",
      "FIRST N DOCS: \n",
      "name: Sales Analyst\n",
      "account: sales.analyst@company.com\n",
      "\n",
      "name: Sales Data Analyst\n",
      "account: sales.analyst@company.com\n",
      "\n",
      "name: sales_analyst\n",
      "account: sales_analyst@salescompany.com\n",
      "\n",
      "name: Customer Insights Analyst\n",
      "account: customer.insights.analyst@company.com\n",
      "NODE NAME: ['Sales Analyst', 'Sales Data Analyst', 'sales_analyst', 'Customer Insights Analyst']\n"
     ]
    },
    {
     "data": {
      "text/html": [
       "<pre style=\"white-space:pre;overflow-x:auto;line-height:normal;font-family:Menlo,'DejaVu Sans Mono',consolas,'Courier New',monospace\">/Users/shreyakurdukar/Desktop/dsi-capstone-capstone-kpmg-jim-ben/chat-venv/lib/python3.11/site-packages/rich/live.p\n",
       "y:231: UserWarning: install \"ipywidgets\" for Jupyter support\n",
       "  warnings.warn('install \"ipywidgets\" for Jupyter support')\n",
       "</pre>\n"
      ],
      "text/plain": [
       "/Users/shreyakurdukar/Desktop/dsi-capstone-capstone-kpmg-jim-ben/chat-venv/lib/python3.11/site-packages/rich/live.p\n",
       "y:231: UserWarning: install \"ipywidgets\" for Jupyter support\n",
       "  warnings.warn('install \"ipywidgets\" for Jupyter support')\n"
      ]
     },
     "metadata": {},
     "output_type": "display_data"
    },
    {
     "data": {
      "text/html": [
       "<pre style=\"white-space:pre;overflow-x:auto;line-height:normal;font-family:Menlo,'DejaVu Sans Mono',consolas,'Courier New',monospace\">Event loop is already running. Applying nest_asyncio patch to allow async execution...\n",
       "</pre>\n"
      ],
      "text/plain": [
       "Event loop is already running. Applying nest_asyncio patch to allow async execution...\n"
      ]
     },
     "metadata": {},
     "output_type": "display_data"
    },
    {
     "data": {
      "text/html": [
       "<pre style=\"white-space:pre;overflow-x:auto;line-height:normal;font-family:Menlo,'DejaVu Sans Mono',consolas,'Courier New',monospace\">/Users/shreyakurdukar/Desktop/dsi-capstone-capstone-kpmg-jim-ben/chat-venv/lib/python3.11/site-packages/rich/live.p\n",
       "y:231: UserWarning: install \"ipywidgets\" for Jupyter support\n",
       "  warnings.warn('install \"ipywidgets\" for Jupyter support')\n",
       "</pre>\n"
      ],
      "text/plain": [
       "/Users/shreyakurdukar/Desktop/dsi-capstone-capstone-kpmg-jim-ben/chat-venv/lib/python3.11/site-packages/rich/live.p\n",
       "y:231: UserWarning: install \"ipywidgets\" for Jupyter support\n",
       "  warnings.warn('install \"ipywidgets\" for Jupyter support')\n"
      ]
     },
     "metadata": {},
     "output_type": "display_data"
    },
    {
     "name": "stdout",
     "output_type": "stream",
     "text": [
      "ERROR: list index out of range\n"
     ]
    },
    {
     "data": {
      "text/html": [
       "<pre style=\"white-space:pre;overflow-x:auto;line-height:normal;font-family:Menlo,'DejaVu Sans Mono',consolas,'Courier New',monospace\"></pre>\n"
      ],
      "text/plain": []
     },
     "metadata": {},
     "output_type": "display_data"
    },
    {
     "data": {
      "text/html": [
       "<pre style=\"white-space:pre;overflow-x:auto;line-height:normal;font-family:Menlo,'DejaVu Sans Mono',consolas,'Courier New',monospace\">\n",
       "</pre>\n"
      ],
      "text/plain": [
       "\n"
      ]
     },
     "metadata": {},
     "output_type": "display_data"
    },
    {
     "data": {
      "text/html": [
       "<pre style=\"white-space:pre;overflow-x:auto;line-height:normal;font-family:Menlo,'DejaVu Sans Mono',consolas,'Courier New',monospace\">Event loop is already running. Applying nest_asyncio patch to allow async execution...\n",
       "</pre>\n"
      ],
      "text/plain": [
       "Event loop is already running. Applying nest_asyncio patch to allow async execution...\n"
      ]
     },
     "metadata": {},
     "output_type": "display_data"
    },
    {
     "data": {
      "text/html": [
       "<pre style=\"white-space:pre;overflow-x:auto;line-height:normal;font-family:Menlo,'DejaVu Sans Mono',consolas,'Courier New',monospace\">/Users/shreyakurdukar/Desktop/dsi-capstone-capstone-kpmg-jim-ben/chat-venv/lib/python3.11/site-packages/rich/live.p\n",
       "y:231: UserWarning: install \"ipywidgets\" for Jupyter support\n",
       "  warnings.warn('install \"ipywidgets\" for Jupyter support')\n",
       "</pre>\n"
      ],
      "text/plain": [
       "/Users/shreyakurdukar/Desktop/dsi-capstone-capstone-kpmg-jim-ben/chat-venv/lib/python3.11/site-packages/rich/live.p\n",
       "y:231: UserWarning: install \"ipywidgets\" for Jupyter support\n",
       "  warnings.warn('install \"ipywidgets\" for Jupyter support')\n"
      ]
     },
     "metadata": {},
     "output_type": "display_data"
    },
    {
     "data": {
      "text/html": [
       "<pre style=\"white-space:pre;overflow-x:auto;line-height:normal;font-family:Menlo,'DejaVu Sans Mono',consolas,'Courier New',monospace\"></pre>\n"
      ],
      "text/plain": []
     },
     "metadata": {},
     "output_type": "display_data"
    },
    {
     "data": {
      "text/html": [
       "<pre style=\"white-space:pre;overflow-x:auto;line-height:normal;font-family:Menlo,'DejaVu Sans Mono',consolas,'Courier New',monospace\">\n",
       "</pre>\n"
      ],
      "text/plain": [
       "\n"
      ]
     },
     "metadata": {},
     "output_type": "display_data"
    },
    {
     "name": "stderr",
     "output_type": "stream",
     "text": [
      "/var/folders/_y/7_q47y8j151gmydw6vtdcd6c0000gn/T/ipykernel_39466/2497100872.py:13: FutureWarning: Series.__getitem__ treating keys as positions is deprecated. In a future version, integer keys will always be treated as labels (consistent with DataFrame behavior). To access a value by position, use `ser.iloc[pos]`\n",
      "  question = df_full.iloc[i][1]\n",
      "/var/folders/_y/7_q47y8j151gmydw6vtdcd6c0000gn/T/ipykernel_39466/2497100872.py:14: FutureWarning: Series.__getitem__ treating keys as positions is deprecated. In a future version, integer keys will always be treated as labels (consistent with DataFrame behavior). To access a value by position, use `ser.iloc[pos]`\n",
      "  ground_truth_query = df_full.iloc[i][2]\n",
      "/var/folders/_y/7_q47y8j151gmydw6vtdcd6c0000gn/T/ipykernel_39466/2497100872.py:15: FutureWarning: Series.__getitem__ treating keys as positions is deprecated. In a future version, integer keys will always be treated as labels (consistent with DataFrame behavior). To access a value by position, use `ser.iloc[pos]`\n",
      "  ground_truth_response = df_full.iloc[i][3]\n"
     ]
    },
    {
     "name": "stdout",
     "output_type": "stream",
     "text": [
      "---------------------------------\n",
      "User request: List all users who maintain, own, or are entitled on Inventory Management Report\n",
      "Intent matching result: [UNCOMMON,0]\n",
      "Retrieving information from the User_embedding_graph.\n",
      "UNCOMMON QUERY\n",
      "Retrieved Context: \n",
      "name: Inventory Manager\n",
      "account: inventory.manager@company.com\n",
      "\n",
      "name: Inventory Manager\n",
      "account: inventory.manager@company.com\n",
      "\n",
      "name: inventory_specialist\n",
      "account: inventory_spec@operations.com\n",
      "\n",
      "name: Warehouse Supervisor\n",
      "account: warehouse.supervisor@company.com\n",
      "\n",
      " Attempt 1 generating Cypher query...\n",
      "\n",
      "\n",
      "\u001b[1m> Entering new GraphCypherQAChain chain...\u001b[0m\n",
      "Generated Cypher:\n",
      "\u001b[32;1m\u001b[1;3mcypher\n",
      "MATCH (u:User)-[:MAINTAINS|OWNS|ENTITLED_ON]->(r:Report {name: \"Inventory Management Report\"})\n",
      "RETURN u.name\n",
      "\u001b[0m\n",
      "Full Context:\n",
      "\u001b[32;1m\u001b[1;3m[{'u.name': 'Warehouse Supervisor'}, {'u.name': 'Procurement Specialist'}, {'u.name': 'Inventory Manager'}, {'u.name': 'Supply Chain Analyst'}]\u001b[0m\n",
      "\n",
      "\u001b[1m> Finished chain.\u001b[0m\n",
      "LangChain Cypher query steps: [{'query': 'cypher\\nMATCH (u:User)-[:MAINTAINS|OWNS|ENTITLED_ON]->(r:Report {name: \"Inventory Management Report\"})\\nRETURN u.name\\n'}, {'context': [{'u.name': 'Warehouse Supervisor'}, {'u.name': 'Procurement Specialist'}, {'u.name': 'Inventory Manager'}, {'u.name': 'Supply Chain Analyst'}]}]\n",
      "RETRIEVAL RESPONSE: [{'query': 'cypher\\nMATCH (u:User)-[:MAINTAINS|OWNS|ENTITLED_ON]->(r:Report {name: \"Inventory Management Report\"})\\nRETURN u.name\\n'}, {'context': [{'u.name': 'Warehouse Supervisor'}, {'u.name': 'Procurement Specialist'}, {'u.name': 'Inventory Manager'}, {'u.name': 'Supply Chain Analyst'}]}]\n"
     ]
    },
    {
     "data": {
      "text/html": [
       "<pre style=\"white-space:pre;overflow-x:auto;line-height:normal;font-family:Menlo,'DejaVu Sans Mono',consolas,'Courier New',monospace\">/Users/shreyakurdukar/Desktop/dsi-capstone-capstone-kpmg-jim-ben/chat-venv/lib/python3.11/site-packages/rich/live.p\n",
       "y:231: UserWarning: install \"ipywidgets\" for Jupyter support\n",
       "  warnings.warn('install \"ipywidgets\" for Jupyter support')\n",
       "</pre>\n"
      ],
      "text/plain": [
       "/Users/shreyakurdukar/Desktop/dsi-capstone-capstone-kpmg-jim-ben/chat-venv/lib/python3.11/site-packages/rich/live.p\n",
       "y:231: UserWarning: install \"ipywidgets\" for Jupyter support\n",
       "  warnings.warn('install \"ipywidgets\" for Jupyter support')\n"
      ]
     },
     "metadata": {},
     "output_type": "display_data"
    },
    {
     "data": {
      "text/html": [
       "<pre style=\"white-space:pre;overflow-x:auto;line-height:normal;font-family:Menlo,'DejaVu Sans Mono',consolas,'Courier New',monospace\">Event loop is already running. Applying nest_asyncio patch to allow async execution...\n",
       "</pre>\n"
      ],
      "text/plain": [
       "Event loop is already running. Applying nest_asyncio patch to allow async execution...\n"
      ]
     },
     "metadata": {},
     "output_type": "display_data"
    },
    {
     "data": {
      "text/html": [
       "<pre style=\"white-space:pre;overflow-x:auto;line-height:normal;font-family:Menlo,'DejaVu Sans Mono',consolas,'Courier New',monospace\">/Users/shreyakurdukar/Desktop/dsi-capstone-capstone-kpmg-jim-ben/chat-venv/lib/python3.11/site-packages/rich/live.p\n",
       "y:231: UserWarning: install \"ipywidgets\" for Jupyter support\n",
       "  warnings.warn('install \"ipywidgets\" for Jupyter support')\n",
       "</pre>\n"
      ],
      "text/plain": [
       "/Users/shreyakurdukar/Desktop/dsi-capstone-capstone-kpmg-jim-ben/chat-venv/lib/python3.11/site-packages/rich/live.p\n",
       "y:231: UserWarning: install \"ipywidgets\" for Jupyter support\n",
       "  warnings.warn('install \"ipywidgets\" for Jupyter support')\n"
      ]
     },
     "metadata": {},
     "output_type": "display_data"
    },
    {
     "data": {
      "text/html": [
       "<pre style=\"white-space:pre;overflow-x:auto;line-height:normal;font-family:Menlo,'DejaVu Sans Mono',consolas,'Courier New',monospace\"></pre>\n"
      ],
      "text/plain": []
     },
     "metadata": {},
     "output_type": "display_data"
    },
    {
     "data": {
      "text/html": [
       "<pre style=\"white-space:pre;overflow-x:auto;line-height:normal;font-family:Menlo,'DejaVu Sans Mono',consolas,'Courier New',monospace\">\n",
       "</pre>\n"
      ],
      "text/plain": [
       "\n"
      ]
     },
     "metadata": {},
     "output_type": "display_data"
    },
    {
     "data": {
      "text/html": [
       "<pre style=\"white-space:pre;overflow-x:auto;line-height:normal;font-family:Menlo,'DejaVu Sans Mono',consolas,'Courier New',monospace\">Event loop is already running. Applying nest_asyncio patch to allow async execution...\n",
       "</pre>\n"
      ],
      "text/plain": [
       "Event loop is already running. Applying nest_asyncio patch to allow async execution...\n"
      ]
     },
     "metadata": {},
     "output_type": "display_data"
    },
    {
     "data": {
      "text/html": [
       "<pre style=\"white-space:pre;overflow-x:auto;line-height:normal;font-family:Menlo,'DejaVu Sans Mono',consolas,'Courier New',monospace\">/Users/shreyakurdukar/Desktop/dsi-capstone-capstone-kpmg-jim-ben/chat-venv/lib/python3.11/site-packages/rich/live.p\n",
       "y:231: UserWarning: install \"ipywidgets\" for Jupyter support\n",
       "  warnings.warn('install \"ipywidgets\" for Jupyter support')\n",
       "</pre>\n"
      ],
      "text/plain": [
       "/Users/shreyakurdukar/Desktop/dsi-capstone-capstone-kpmg-jim-ben/chat-venv/lib/python3.11/site-packages/rich/live.p\n",
       "y:231: UserWarning: install \"ipywidgets\" for Jupyter support\n",
       "  warnings.warn('install \"ipywidgets\" for Jupyter support')\n"
      ]
     },
     "metadata": {},
     "output_type": "display_data"
    },
    {
     "data": {
      "text/html": [
       "<pre style=\"white-space:pre;overflow-x:auto;line-height:normal;font-family:Menlo,'DejaVu Sans Mono',consolas,'Courier New',monospace\"></pre>\n"
      ],
      "text/plain": []
     },
     "metadata": {},
     "output_type": "display_data"
    },
    {
     "data": {
      "text/html": [
       "<pre style=\"white-space:pre;overflow-x:auto;line-height:normal;font-family:Menlo,'DejaVu Sans Mono',consolas,'Courier New',monospace\">\n",
       "</pre>\n"
      ],
      "text/plain": [
       "\n"
      ]
     },
     "metadata": {},
     "output_type": "display_data"
    },
    {
     "name": "stderr",
     "output_type": "stream",
     "text": [
      "/var/folders/_y/7_q47y8j151gmydw6vtdcd6c0000gn/T/ipykernel_39466/2497100872.py:13: FutureWarning: Series.__getitem__ treating keys as positions is deprecated. In a future version, integer keys will always be treated as labels (consistent with DataFrame behavior). To access a value by position, use `ser.iloc[pos]`\n",
      "  question = df_full.iloc[i][1]\n",
      "/var/folders/_y/7_q47y8j151gmydw6vtdcd6c0000gn/T/ipykernel_39466/2497100872.py:14: FutureWarning: Series.__getitem__ treating keys as positions is deprecated. In a future version, integer keys will always be treated as labels (consistent with DataFrame behavior). To access a value by position, use `ser.iloc[pos]`\n",
      "  ground_truth_query = df_full.iloc[i][2]\n",
      "/var/folders/_y/7_q47y8j151gmydw6vtdcd6c0000gn/T/ipykernel_39466/2497100872.py:15: FutureWarning: Series.__getitem__ treating keys as positions is deprecated. In a future version, integer keys will always be treated as labels (consistent with DataFrame behavior). To access a value by position, use `ser.iloc[pos]`\n",
      "  ground_truth_response = df_full.iloc[i][3]\n"
     ]
    },
    {
     "name": "stdout",
     "output_type": "stream",
     "text": [
      "---------------------------------\n",
      "User request: What tables does the executive management database contain?\n",
      "Intent matching result: [UNCOMMON,0]\n",
      "Retrieving information from the Table_embedding_graph.\n",
      "UNCOMMON QUERY\n",
      "Retrieved Context: \n",
      "name: Financial Reports\n",
      "\n",
      "name: Employees\n",
      "\n",
      "name: Departments\n",
      "\n",
      "name: Employee Performance\n",
      "\n",
      " Attempt 1 generating Cypher query...\n",
      "\n",
      "\n",
      "\u001b[1m> Entering new GraphCypherQAChain chain...\u001b[0m\n",
      "Generated Cypher:\n",
      "\u001b[32;1m\u001b[1;3mcypher\n",
      "MATCH (d:Database {name: \"executive management\"})-[:CONTAINS]->(t:Table)\n",
      "RETURN t.name\n",
      "\u001b[0m\n",
      "Full Context:\n",
      "\u001b[32;1m\u001b[1;3m[]\u001b[0m\n",
      "\n",
      "\u001b[1m> Finished chain.\u001b[0m\n",
      "LangChain Cypher query steps: [{'query': 'cypher\\nMATCH (d:Database {name: \"executive management\"})-[:CONTAINS]->(t:Table)\\nRETURN t.name\\n'}, {'context': []}]\n",
      "Query failed to retrieve data. Refining query...\n",
      "\n",
      " Attempt 2 generating Cypher query...\n",
      "\n",
      "\n",
      "\u001b[1m> Entering new GraphCypherQAChain chain...\u001b[0m\n",
      "Generated Cypher:\n",
      "\u001b[32;1m\u001b[1;3mcypher\n",
      "MATCH (t:Table)<-[:CONTAINS]-(d:Database {name: \"executive management\"})\n",
      "RETURN t.name\n",
      "\u001b[0m\n",
      "Full Context:\n",
      "\u001b[32;1m\u001b[1;3m[]\u001b[0m\n",
      "\n",
      "\u001b[1m> Finished chain.\u001b[0m\n",
      "LangChain Cypher query steps: [{'query': 'cypher\\nMATCH (t:Table)<-[:CONTAINS]-(d:Database {name: \"executive management\"})\\nRETURN t.name\\n'}, {'context': []}]\n",
      "Query failed to retrieve data. Refining query...\n",
      "\n",
      " Attempt 3 generating Cypher query...\n",
      "\n",
      "\n",
      "\u001b[1m> Entering new GraphCypherQAChain chain...\u001b[0m\n",
      "Generated Cypher:\n",
      "\u001b[32;1m\u001b[1;3mcypher\n",
      "MATCH (t:Table)<-[:CONTAINS]-(db:Database)\n",
      "WHERE db.name = \"executive management\"\n",
      "RETURN t.name\n",
      "\u001b[0m\n",
      "Full Context:\n",
      "\u001b[32;1m\u001b[1;3m[]\u001b[0m\n",
      "\n",
      "\u001b[1m> Finished chain.\u001b[0m\n",
      "LangChain Cypher query steps: [{'query': 'cypher\\nMATCH (t:Table)<-[:CONTAINS]-(db:Database)\\nWHERE db.name = \"executive management\"\\nRETURN t.name\\n'}, {'context': []}]\n",
      "Query failed to retrieve data. Refining query...\n",
      "\n",
      " Attempt 4 generating Cypher query...\n",
      "\n",
      "\n",
      "\u001b[1m> Entering new GraphCypherQAChain chain...\u001b[0m\n",
      "Generated Cypher:\n",
      "\u001b[32;1m\u001b[1;3mcypher\n",
      "MATCH (db:Database)-[:CONTAINS]->(t:Table)\n",
      "WHERE db.name = \"executive management\"\n",
      "RETURN t.name\n",
      "\u001b[0m\n",
      "Full Context:\n",
      "\u001b[32;1m\u001b[1;3m[]\u001b[0m\n",
      "\n",
      "\u001b[1m> Finished chain.\u001b[0m\n",
      "LangChain Cypher query steps: [{'query': 'cypher\\nMATCH (db:Database)-[:CONTAINS]->(t:Table)\\nWHERE db.name = \"executive management\"\\nRETURN t.name\\n'}, {'context': []}]\n",
      "Query failed to retrieve data. Refining query...\n",
      "\n",
      " Attempt 5 generating Cypher query...\n",
      "\n",
      "\n",
      "\u001b[1m> Entering new GraphCypherQAChain chain...\u001b[0m\n",
      "Generated Cypher:\n",
      "\u001b[32;1m\u001b[1;3mcypher\n",
      "MATCH (db:Database)-[r:CONTAINS]->(t:Table)\n",
      "WHERE db.name = \"executive management\"\n",
      "RETURN t.name\n",
      "\u001b[0m\n",
      "Full Context:\n",
      "\u001b[32;1m\u001b[1;3m[]\u001b[0m\n",
      "\n",
      "\u001b[1m> Finished chain.\u001b[0m\n",
      "LangChain Cypher query steps: [{'query': 'cypher\\nMATCH (db:Database)-[r:CONTAINS]->(t:Table)\\nWHERE db.name = \"executive management\"\\nRETURN t.name\\n'}, {'context': []}]\n",
      "Query failed to retrieve data. Refining query...\n",
      "FIRST N DOCS: \n",
      "name: Financial Reports\n",
      "\n",
      "name: Employees\n",
      "\n",
      "name: Departments\n",
      "\n",
      "name: Employee Performance\n",
      "NODE NAME: ['Financial Reports', 'Employees', 'Departments', 'Employee Performance']\n"
     ]
    },
    {
     "data": {
      "text/html": [
       "<pre style=\"white-space:pre;overflow-x:auto;line-height:normal;font-family:Menlo,'DejaVu Sans Mono',consolas,'Courier New',monospace\">/Users/shreyakurdukar/Desktop/dsi-capstone-capstone-kpmg-jim-ben/chat-venv/lib/python3.11/site-packages/rich/live.p\n",
       "y:231: UserWarning: install \"ipywidgets\" for Jupyter support\n",
       "  warnings.warn('install \"ipywidgets\" for Jupyter support')\n",
       "</pre>\n"
      ],
      "text/plain": [
       "/Users/shreyakurdukar/Desktop/dsi-capstone-capstone-kpmg-jim-ben/chat-venv/lib/python3.11/site-packages/rich/live.p\n",
       "y:231: UserWarning: install \"ipywidgets\" for Jupyter support\n",
       "  warnings.warn('install \"ipywidgets\" for Jupyter support')\n"
      ]
     },
     "metadata": {},
     "output_type": "display_data"
    },
    {
     "data": {
      "text/html": [
       "<pre style=\"white-space:pre;overflow-x:auto;line-height:normal;font-family:Menlo,'DejaVu Sans Mono',consolas,'Courier New',monospace\">Event loop is already running. Applying nest_asyncio patch to allow async execution...\n",
       "</pre>\n"
      ],
      "text/plain": [
       "Event loop is already running. Applying nest_asyncio patch to allow async execution...\n"
      ]
     },
     "metadata": {},
     "output_type": "display_data"
    },
    {
     "data": {
      "text/html": [
       "<pre style=\"white-space:pre;overflow-x:auto;line-height:normal;font-family:Menlo,'DejaVu Sans Mono',consolas,'Courier New',monospace\">/Users/shreyakurdukar/Desktop/dsi-capstone-capstone-kpmg-jim-ben/chat-venv/lib/python3.11/site-packages/rich/live.p\n",
       "y:231: UserWarning: install \"ipywidgets\" for Jupyter support\n",
       "  warnings.warn('install \"ipywidgets\" for Jupyter support')\n",
       "</pre>\n"
      ],
      "text/plain": [
       "/Users/shreyakurdukar/Desktop/dsi-capstone-capstone-kpmg-jim-ben/chat-venv/lib/python3.11/site-packages/rich/live.p\n",
       "y:231: UserWarning: install \"ipywidgets\" for Jupyter support\n",
       "  warnings.warn('install \"ipywidgets\" for Jupyter support')\n"
      ]
     },
     "metadata": {},
     "output_type": "display_data"
    },
    {
     "name": "stdout",
     "output_type": "stream",
     "text": [
      "ERROR: list index out of range\n"
     ]
    },
    {
     "data": {
      "text/html": [
       "<pre style=\"white-space:pre;overflow-x:auto;line-height:normal;font-family:Menlo,'DejaVu Sans Mono',consolas,'Courier New',monospace\"></pre>\n"
      ],
      "text/plain": []
     },
     "metadata": {},
     "output_type": "display_data"
    },
    {
     "data": {
      "text/html": [
       "<pre style=\"white-space:pre;overflow-x:auto;line-height:normal;font-family:Menlo,'DejaVu Sans Mono',consolas,'Courier New',monospace\">\n",
       "</pre>\n"
      ],
      "text/plain": [
       "\n"
      ]
     },
     "metadata": {},
     "output_type": "display_data"
    },
    {
     "data": {
      "text/html": [
       "<pre style=\"white-space:pre;overflow-x:auto;line-height:normal;font-family:Menlo,'DejaVu Sans Mono',consolas,'Courier New',monospace\">Event loop is already running. Applying nest_asyncio patch to allow async execution...\n",
       "</pre>\n"
      ],
      "text/plain": [
       "Event loop is already running. Applying nest_asyncio patch to allow async execution...\n"
      ]
     },
     "metadata": {},
     "output_type": "display_data"
    },
    {
     "data": {
      "text/html": [
       "<pre style=\"white-space:pre;overflow-x:auto;line-height:normal;font-family:Menlo,'DejaVu Sans Mono',consolas,'Courier New',monospace\">/Users/shreyakurdukar/Desktop/dsi-capstone-capstone-kpmg-jim-ben/chat-venv/lib/python3.11/site-packages/rich/live.p\n",
       "y:231: UserWarning: install \"ipywidgets\" for Jupyter support\n",
       "  warnings.warn('install \"ipywidgets\" for Jupyter support')\n",
       "</pre>\n"
      ],
      "text/plain": [
       "/Users/shreyakurdukar/Desktop/dsi-capstone-capstone-kpmg-jim-ben/chat-venv/lib/python3.11/site-packages/rich/live.p\n",
       "y:231: UserWarning: install \"ipywidgets\" for Jupyter support\n",
       "  warnings.warn('install \"ipywidgets\" for Jupyter support')\n"
      ]
     },
     "metadata": {},
     "output_type": "display_data"
    },
    {
     "data": {
      "text/html": [
       "<pre style=\"white-space:pre;overflow-x:auto;line-height:normal;font-family:Menlo,'DejaVu Sans Mono',consolas,'Courier New',monospace\"></pre>\n"
      ],
      "text/plain": []
     },
     "metadata": {},
     "output_type": "display_data"
    },
    {
     "data": {
      "text/html": [
       "<pre style=\"white-space:pre;overflow-x:auto;line-height:normal;font-family:Menlo,'DejaVu Sans Mono',consolas,'Courier New',monospace\">\n",
       "</pre>\n"
      ],
      "text/plain": [
       "\n"
      ]
     },
     "metadata": {},
     "output_type": "display_data"
    },
    {
     "name": "stderr",
     "output_type": "stream",
     "text": [
      "/var/folders/_y/7_q47y8j151gmydw6vtdcd6c0000gn/T/ipykernel_39466/2497100872.py:13: FutureWarning: Series.__getitem__ treating keys as positions is deprecated. In a future version, integer keys will always be treated as labels (consistent with DataFrame behavior). To access a value by position, use `ser.iloc[pos]`\n",
      "  question = df_full.iloc[i][1]\n",
      "/var/folders/_y/7_q47y8j151gmydw6vtdcd6c0000gn/T/ipykernel_39466/2497100872.py:14: FutureWarning: Series.__getitem__ treating keys as positions is deprecated. In a future version, integer keys will always be treated as labels (consistent with DataFrame behavior). To access a value by position, use `ser.iloc[pos]`\n",
      "  ground_truth_query = df_full.iloc[i][2]\n",
      "/var/folders/_y/7_q47y8j151gmydw6vtdcd6c0000gn/T/ipykernel_39466/2497100872.py:15: FutureWarning: Series.__getitem__ treating keys as positions is deprecated. In a future version, integer keys will always be treated as labels (consistent with DataFrame behavior). To access a value by position, use `ser.iloc[pos]`\n",
      "  ground_truth_response = df_full.iloc[i][3]\n"
     ]
    },
    {
     "name": "stdout",
     "output_type": "stream",
     "text": [
      "---------------------------------\n",
      "User request: Name all of the report fields in the Financial Health Dashboard report\n",
      "Intent matching result: [UNCOMMON,0]\n",
      "Retrieving information from the ReportField_embedding_graph.\n",
      "UNCOMMON QUERY\n",
      "Retrieved Context: \n",
      "name: Cash Flow Trends\n",
      "id: cash_flow_trends\n",
      "\n",
      "name: Net Cash Flow\n",
      "id: net_cash_flow\n",
      "\n",
      "name: Inventory Turnover Ratio\n",
      "id: inventory_turnover_ratio\n",
      "\n",
      "name: Predicted Revenue for Next Quarter\n",
      "id: predicted_revenue_for_next_quarter\n",
      "\n",
      " Attempt 1 generating Cypher query...\n",
      "\n",
      "\n",
      "\u001b[1m> Entering new GraphCypherQAChain chain...\u001b[0m\n",
      "Generated Cypher:\n",
      "\u001b[32;1m\u001b[1;3mcypher\n",
      "MATCH (r:Report {name: \"Financial Health Dashboard\"})-[:PART_OF]->(rs:ReportSection)<-[:BELONGS_TO]-(rf:ReportField)\n",
      "RETURN rf.name\n",
      "\u001b[0m\n",
      "Full Context:\n",
      "\u001b[32;1m\u001b[1;3m[]\u001b[0m\n",
      "\n",
      "\u001b[1m> Finished chain.\u001b[0m\n",
      "LangChain Cypher query steps: [{'query': 'cypher\\nMATCH (r:Report {name: \"Financial Health Dashboard\"})-[:PART_OF]->(rs:ReportSection)<-[:BELONGS_TO]-(rf:ReportField)\\nRETURN rf.name\\n'}, {'context': []}]\n",
      "Query failed to retrieve data. Refining query...\n",
      "\n",
      " Attempt 2 generating Cypher query...\n",
      "\n",
      "\n",
      "\u001b[1m> Entering new GraphCypherQAChain chain...\u001b[0m\n",
      "Generated Cypher:\n",
      "\u001b[32;1m\u001b[1;3mcypher\n",
      "MATCH (rf:ReportField)-[:BELONGS_TO]->(rs:ReportSection)-[:PART_OF]->(r:Report {name: \"Financial Health Dashboard\"})\n",
      "RETURN rf.name\n",
      "\u001b[0m\n",
      "Full Context:\n",
      "\u001b[32;1m\u001b[1;3m[{'rf.name': 'Top Expense Categories'}, {'rf.name': 'Cost Reduction Opportunities'}, {'rf.name': 'Net Cash Flow'}, {'rf.name': 'Cash Flow Trends'}, {'rf.name': 'Predicted Revenue for Next Quarter'}, {'rf.name': 'Revenue Confidence Interval'}]\u001b[0m\n",
      "\n",
      "\u001b[1m> Finished chain.\u001b[0m\n",
      "LangChain Cypher query steps: [{'query': 'cypher\\nMATCH (rf:ReportField)-[:BELONGS_TO]->(rs:ReportSection)-[:PART_OF]->(r:Report {name: \"Financial Health Dashboard\"})\\nRETURN rf.name\\n'}, {'context': [{'rf.name': 'Top Expense Categories'}, {'rf.name': 'Cost Reduction Opportunities'}, {'rf.name': 'Net Cash Flow'}, {'rf.name': 'Cash Flow Trends'}, {'rf.name': 'Predicted Revenue for Next Quarter'}, {'rf.name': 'Revenue Confidence Interval'}]}]\n",
      "RETRIEVAL RESPONSE: [{'query': 'cypher\\nMATCH (rf:ReportField)-[:BELONGS_TO]->(rs:ReportSection)-[:PART_OF]->(r:Report {name: \"Financial Health Dashboard\"})\\nRETURN rf.name\\n'}, {'context': [{'rf.name': 'Top Expense Categories'}, {'rf.name': 'Cost Reduction Opportunities'}, {'rf.name': 'Net Cash Flow'}, {'rf.name': 'Cash Flow Trends'}, {'rf.name': 'Predicted Revenue for Next Quarter'}, {'rf.name': 'Revenue Confidence Interval'}]}]\n"
     ]
    },
    {
     "data": {
      "text/html": [
       "<pre style=\"white-space:pre;overflow-x:auto;line-height:normal;font-family:Menlo,'DejaVu Sans Mono',consolas,'Courier New',monospace\">/Users/shreyakurdukar/Desktop/dsi-capstone-capstone-kpmg-jim-ben/chat-venv/lib/python3.11/site-packages/rich/live.p\n",
       "y:231: UserWarning: install \"ipywidgets\" for Jupyter support\n",
       "  warnings.warn('install \"ipywidgets\" for Jupyter support')\n",
       "</pre>\n"
      ],
      "text/plain": [
       "/Users/shreyakurdukar/Desktop/dsi-capstone-capstone-kpmg-jim-ben/chat-venv/lib/python3.11/site-packages/rich/live.p\n",
       "y:231: UserWarning: install \"ipywidgets\" for Jupyter support\n",
       "  warnings.warn('install \"ipywidgets\" for Jupyter support')\n"
      ]
     },
     "metadata": {},
     "output_type": "display_data"
    },
    {
     "data": {
      "text/html": [
       "<pre style=\"white-space:pre;overflow-x:auto;line-height:normal;font-family:Menlo,'DejaVu Sans Mono',consolas,'Courier New',monospace\">Event loop is already running. Applying nest_asyncio patch to allow async execution...\n",
       "</pre>\n"
      ],
      "text/plain": [
       "Event loop is already running. Applying nest_asyncio patch to allow async execution...\n"
      ]
     },
     "metadata": {},
     "output_type": "display_data"
    },
    {
     "data": {
      "text/html": [
       "<pre style=\"white-space:pre;overflow-x:auto;line-height:normal;font-family:Menlo,'DejaVu Sans Mono',consolas,'Courier New',monospace\">/Users/shreyakurdukar/Desktop/dsi-capstone-capstone-kpmg-jim-ben/chat-venv/lib/python3.11/site-packages/rich/live.p\n",
       "y:231: UserWarning: install \"ipywidgets\" for Jupyter support\n",
       "  warnings.warn('install \"ipywidgets\" for Jupyter support')\n",
       "</pre>\n"
      ],
      "text/plain": [
       "/Users/shreyakurdukar/Desktop/dsi-capstone-capstone-kpmg-jim-ben/chat-venv/lib/python3.11/site-packages/rich/live.p\n",
       "y:231: UserWarning: install \"ipywidgets\" for Jupyter support\n",
       "  warnings.warn('install \"ipywidgets\" for Jupyter support')\n"
      ]
     },
     "metadata": {},
     "output_type": "display_data"
    },
    {
     "data": {
      "text/html": [
       "<pre style=\"white-space:pre;overflow-x:auto;line-height:normal;font-family:Menlo,'DejaVu Sans Mono',consolas,'Courier New',monospace\"></pre>\n"
      ],
      "text/plain": []
     },
     "metadata": {},
     "output_type": "display_data"
    },
    {
     "data": {
      "text/html": [
       "<pre style=\"white-space:pre;overflow-x:auto;line-height:normal;font-family:Menlo,'DejaVu Sans Mono',consolas,'Courier New',monospace\">\n",
       "</pre>\n"
      ],
      "text/plain": [
       "\n"
      ]
     },
     "metadata": {},
     "output_type": "display_data"
    },
    {
     "data": {
      "text/html": [
       "<pre style=\"white-space:pre;overflow-x:auto;line-height:normal;font-family:Menlo,'DejaVu Sans Mono',consolas,'Courier New',monospace\">Event loop is already running. Applying nest_asyncio patch to allow async execution...\n",
       "</pre>\n"
      ],
      "text/plain": [
       "Event loop is already running. Applying nest_asyncio patch to allow async execution...\n"
      ]
     },
     "metadata": {},
     "output_type": "display_data"
    },
    {
     "data": {
      "text/html": [
       "<pre style=\"white-space:pre;overflow-x:auto;line-height:normal;font-family:Menlo,'DejaVu Sans Mono',consolas,'Courier New',monospace\">/Users/shreyakurdukar/Desktop/dsi-capstone-capstone-kpmg-jim-ben/chat-venv/lib/python3.11/site-packages/rich/live.p\n",
       "y:231: UserWarning: install \"ipywidgets\" for Jupyter support\n",
       "  warnings.warn('install \"ipywidgets\" for Jupyter support')\n",
       "</pre>\n"
      ],
      "text/plain": [
       "/Users/shreyakurdukar/Desktop/dsi-capstone-capstone-kpmg-jim-ben/chat-venv/lib/python3.11/site-packages/rich/live.p\n",
       "y:231: UserWarning: install \"ipywidgets\" for Jupyter support\n",
       "  warnings.warn('install \"ipywidgets\" for Jupyter support')\n"
      ]
     },
     "metadata": {},
     "output_type": "display_data"
    },
    {
     "data": {
      "text/html": [
       "<pre style=\"white-space:pre;overflow-x:auto;line-height:normal;font-family:Menlo,'DejaVu Sans Mono',consolas,'Courier New',monospace\"></pre>\n"
      ],
      "text/plain": []
     },
     "metadata": {},
     "output_type": "display_data"
    },
    {
     "data": {
      "text/html": [
       "<pre style=\"white-space:pre;overflow-x:auto;line-height:normal;font-family:Menlo,'DejaVu Sans Mono',consolas,'Courier New',monospace\">\n",
       "</pre>\n"
      ],
      "text/plain": [
       "\n"
      ]
     },
     "metadata": {},
     "output_type": "display_data"
    },
    {
     "name": "stderr",
     "output_type": "stream",
     "text": [
      "/var/folders/_y/7_q47y8j151gmydw6vtdcd6c0000gn/T/ipykernel_39466/2497100872.py:13: FutureWarning: Series.__getitem__ treating keys as positions is deprecated. In a future version, integer keys will always be treated as labels (consistent with DataFrame behavior). To access a value by position, use `ser.iloc[pos]`\n",
      "  question = df_full.iloc[i][1]\n",
      "/var/folders/_y/7_q47y8j151gmydw6vtdcd6c0000gn/T/ipykernel_39466/2497100872.py:14: FutureWarning: Series.__getitem__ treating keys as positions is deprecated. In a future version, integer keys will always be treated as labels (consistent with DataFrame behavior). To access a value by position, use `ser.iloc[pos]`\n",
      "  ground_truth_query = df_full.iloc[i][2]\n",
      "/var/folders/_y/7_q47y8j151gmydw6vtdcd6c0000gn/T/ipykernel_39466/2497100872.py:15: FutureWarning: Series.__getitem__ treating keys as positions is deprecated. In a future version, integer keys will always be treated as labels (consistent with DataFrame behavior). To access a value by position, use `ser.iloc[pos]`\n",
      "  ground_truth_response = df_full.iloc[i][3]\n"
     ]
    },
    {
     "name": "stdout",
     "output_type": "stream",
     "text": [
      "---------------------------------\n",
      "User request: Which models are used to create the Employee Productivity Report?\n",
      "Intent matching result: [UNCOMMON,0]\n",
      "Retrieving information from the Model_embedding_graph.\n",
      "UNCOMMON QUERY\n",
      "Retrieved Context: \n",
      "\n",
      " Attempt 1 generating Cypher query...\n",
      "\n",
      "\n",
      "\u001b[1m> Entering new GraphCypherQAChain chain...\u001b[0m\n",
      "Generated Cypher:\n",
      "\u001b[32;1m\u001b[1;3mcypher\n",
      "MATCH (r:Report {name: \"Employee Productivity Report\"})-[:ASSOCIATED_WITH]->(:BusinessGroup)<-[:CONTACT_OF]-(:Contact),\n",
      "      (r)<-[:ENTITLED_ON|:OWNS|:MAINTAINS]-(:User),\n",
      "      (r)<-[:PART_OF]-(:ReportSection)<-[:BELONGS_TO]-(:ReportField)<-[:FEEDS]-(:DataElement)<-[:PRODUCES]-(:ModelVersion)<-[:VERSION_OF]-(m:Model)\n",
      "RETURN DISTINCT m.name\n",
      "\u001b[0m\n",
      "Full Context:\n",
      "\u001b[32;1m\u001b[1;3m[{'m.name': 'Employee Productivity Prediction Model'}]\u001b[0m\n",
      "\n",
      "\u001b[1m> Finished chain.\u001b[0m\n",
      "LangChain Cypher query steps: [{'query': 'cypher\\nMATCH (r:Report {name: \"Employee Productivity Report\"})-[:ASSOCIATED_WITH]->(:BusinessGroup)<-[:CONTACT_OF]-(:Contact),\\n      (r)<-[:ENTITLED_ON|:OWNS|:MAINTAINS]-(:User),\\n      (r)<-[:PART_OF]-(:ReportSection)<-[:BELONGS_TO]-(:ReportField)<-[:FEEDS]-(:DataElement)<-[:PRODUCES]-(:ModelVersion)<-[:VERSION_OF]-(m:Model)\\nRETURN DISTINCT m.name\\n'}, {'context': [{'m.name': 'Employee Productivity Prediction Model'}]}]\n",
      "RETRIEVAL RESPONSE: [{'query': 'cypher\\nMATCH (r:Report {name: \"Employee Productivity Report\"})-[:ASSOCIATED_WITH]->(:BusinessGroup)<-[:CONTACT_OF]-(:Contact),\\n      (r)<-[:ENTITLED_ON|:OWNS|:MAINTAINS]-(:User),\\n      (r)<-[:PART_OF]-(:ReportSection)<-[:BELONGS_TO]-(:ReportField)<-[:FEEDS]-(:DataElement)<-[:PRODUCES]-(:ModelVersion)<-[:VERSION_OF]-(m:Model)\\nRETURN DISTINCT m.name\\n'}, {'context': [{'m.name': 'Employee Productivity Prediction Model'}]}]\n"
     ]
    },
    {
     "data": {
      "text/html": [
       "<pre style=\"white-space:pre;overflow-x:auto;line-height:normal;font-family:Menlo,'DejaVu Sans Mono',consolas,'Courier New',monospace\">/Users/shreyakurdukar/Desktop/dsi-capstone-capstone-kpmg-jim-ben/chat-venv/lib/python3.11/site-packages/rich/live.p\n",
       "y:231: UserWarning: install \"ipywidgets\" for Jupyter support\n",
       "  warnings.warn('install \"ipywidgets\" for Jupyter support')\n",
       "</pre>\n"
      ],
      "text/plain": [
       "/Users/shreyakurdukar/Desktop/dsi-capstone-capstone-kpmg-jim-ben/chat-venv/lib/python3.11/site-packages/rich/live.p\n",
       "y:231: UserWarning: install \"ipywidgets\" for Jupyter support\n",
       "  warnings.warn('install \"ipywidgets\" for Jupyter support')\n"
      ]
     },
     "metadata": {},
     "output_type": "display_data"
    },
    {
     "data": {
      "text/html": [
       "<pre style=\"white-space:pre;overflow-x:auto;line-height:normal;font-family:Menlo,'DejaVu Sans Mono',consolas,'Courier New',monospace\">Event loop is already running. Applying nest_asyncio patch to allow async execution...\n",
       "</pre>\n"
      ],
      "text/plain": [
       "Event loop is already running. Applying nest_asyncio patch to allow async execution...\n"
      ]
     },
     "metadata": {},
     "output_type": "display_data"
    },
    {
     "data": {
      "text/html": [
       "<pre style=\"white-space:pre;overflow-x:auto;line-height:normal;font-family:Menlo,'DejaVu Sans Mono',consolas,'Courier New',monospace\">/Users/shreyakurdukar/Desktop/dsi-capstone-capstone-kpmg-jim-ben/chat-venv/lib/python3.11/site-packages/rich/live.p\n",
       "y:231: UserWarning: install \"ipywidgets\" for Jupyter support\n",
       "  warnings.warn('install \"ipywidgets\" for Jupyter support')\n",
       "</pre>\n"
      ],
      "text/plain": [
       "/Users/shreyakurdukar/Desktop/dsi-capstone-capstone-kpmg-jim-ben/chat-venv/lib/python3.11/site-packages/rich/live.p\n",
       "y:231: UserWarning: install \"ipywidgets\" for Jupyter support\n",
       "  warnings.warn('install \"ipywidgets\" for Jupyter support')\n"
      ]
     },
     "metadata": {},
     "output_type": "display_data"
    },
    {
     "data": {
      "text/html": [
       "<pre style=\"white-space:pre;overflow-x:auto;line-height:normal;font-family:Menlo,'DejaVu Sans Mono',consolas,'Courier New',monospace\"></pre>\n"
      ],
      "text/plain": []
     },
     "metadata": {},
     "output_type": "display_data"
    },
    {
     "data": {
      "text/html": [
       "<pre style=\"white-space:pre;overflow-x:auto;line-height:normal;font-family:Menlo,'DejaVu Sans Mono',consolas,'Courier New',monospace\">\n",
       "</pre>\n"
      ],
      "text/plain": [
       "\n"
      ]
     },
     "metadata": {},
     "output_type": "display_data"
    },
    {
     "data": {
      "text/html": [
       "<pre style=\"white-space:pre;overflow-x:auto;line-height:normal;font-family:Menlo,'DejaVu Sans Mono',consolas,'Courier New',monospace\">Event loop is already running. Applying nest_asyncio patch to allow async execution...\n",
       "</pre>\n"
      ],
      "text/plain": [
       "Event loop is already running. Applying nest_asyncio patch to allow async execution...\n"
      ]
     },
     "metadata": {},
     "output_type": "display_data"
    },
    {
     "data": {
      "text/html": [
       "<pre style=\"white-space:pre;overflow-x:auto;line-height:normal;font-family:Menlo,'DejaVu Sans Mono',consolas,'Courier New',monospace\">/Users/shreyakurdukar/Desktop/dsi-capstone-capstone-kpmg-jim-ben/chat-venv/lib/python3.11/site-packages/rich/live.p\n",
       "y:231: UserWarning: install \"ipywidgets\" for Jupyter support\n",
       "  warnings.warn('install \"ipywidgets\" for Jupyter support')\n",
       "</pre>\n"
      ],
      "text/plain": [
       "/Users/shreyakurdukar/Desktop/dsi-capstone-capstone-kpmg-jim-ben/chat-venv/lib/python3.11/site-packages/rich/live.p\n",
       "y:231: UserWarning: install \"ipywidgets\" for Jupyter support\n",
       "  warnings.warn('install \"ipywidgets\" for Jupyter support')\n"
      ]
     },
     "metadata": {},
     "output_type": "display_data"
    },
    {
     "data": {
      "text/html": [
       "<pre style=\"white-space:pre;overflow-x:auto;line-height:normal;font-family:Menlo,'DejaVu Sans Mono',consolas,'Courier New',monospace\"></pre>\n"
      ],
      "text/plain": []
     },
     "metadata": {},
     "output_type": "display_data"
    },
    {
     "data": {
      "text/html": [
       "<pre style=\"white-space:pre;overflow-x:auto;line-height:normal;font-family:Menlo,'DejaVu Sans Mono',consolas,'Courier New',monospace\">\n",
       "</pre>\n"
      ],
      "text/plain": [
       "\n"
      ]
     },
     "metadata": {},
     "output_type": "display_data"
    }
   ],
   "source": [
    "#Try once with 1-0, try once with soft score\n",
    "from app import rag_chatbot\n",
    "from deepeval.test_case import LLMTestCase\n",
    "\n",
    "generated_queries = []\n",
    "generated_responses = []\n",
    "query_scores = []\n",
    "query_reasons = []\n",
    "response_scores = []\n",
    "response_reasons = []\n",
    "\n",
    "for i in range(20):\n",
    "    question = df_full.iloc[i][1]\n",
    "    ground_truth_query = df_full.iloc[i][2]\n",
    "    ground_truth_response = df_full.iloc[i][3]\n",
    "\n",
    "    #code to run model to produce query\n",
    "    try:\n",
    "        generated_cypher, generated_response = rag_chatbot(question)\n",
    "        cypher = generated_cypher[0]['query'].split(\"cypher\\n\")[1]\n",
    "        cypher = cypher.replace(\"\\n\",\" \")\n",
    "    except Exception as e:\n",
    "        cypher = \"\"\n",
    "\n",
    "    generated_responses.append(generated_response)\n",
    "    generated_queries.append(cypher)\n",
    "    \n",
    "    test_case_responses = LLMTestCase(\n",
    "        input= question, \n",
    "        actual_output= generated_response,\n",
    "        expected_output= ground_truth_response\n",
    "    )\n",
    "\n",
    "    response_correctness_metric.measure(test_case_responses)\n",
    "    response_scores.append(response_correctness_metric.score)\n",
    "    response_reasons.append(response_correctness_metric.reason)\n",
    "\n",
    "    test_case_query = LLMTestCase(\n",
    "        input= question, \n",
    "        actual_output= cypher,\n",
    "        expected_output= ground_truth_query\n",
    "    )\n",
    "\n",
    "    query_correctness_metric.measure(test_case_query)\n",
    "    query_scores.append(query_correctness_metric.score)\n",
    "    query_reasons.append(query_correctness_metric.reason)\n",
    "    "
   ]
  },
  {
   "cell_type": "code",
   "execution_count": 8,
   "metadata": {},
   "outputs": [
    {
     "name": "stdout",
     "output_type": "stream",
     "text": [
      "[1.0, 1.0, 0.0, 0.9, 0.0, 0.1, 1.0, 1.0, 0.1, 0.0, 0.0, 0.0, 0.0, 0.0, 0.1, 0.0, 0.0, 0.0, 1.0, 0.1]\n",
      "[0.05, 0.05, 0.0, 0.05, 0.0, 0.05, 0.0, 0.05, 0.05, 0.0, 0.0, 0.0, 0.0, 0.0, 0.05, 0.0, 0.05, 0.0, 0.05, 0.05]\n"
     ]
    }
   ],
   "source": [
    "print(response_scores)\n",
    "print(query_scores)"
   ]
  },
  {
   "cell_type": "code",
   "execution_count": 9,
   "metadata": {},
   "outputs": [
    {
     "name": "stdout",
     "output_type": "stream",
     "text": [
      "The users who maintain, own, or are entitled on the Inventory Management Report are:\n",
      "- Warehouse Supervisor\n",
      "- Procurement Specialist\n",
      "- Inventory Manager\n",
      "- Supply Chain Analyst\n"
     ]
    }
   ],
   "source": [
    "print(generated_responses[16])\n"
   ]
  },
  {
   "cell_type": "code",
   "execution_count": 10,
   "metadata": {},
   "outputs": [
    {
     "name": "stdout",
     "output_type": "stream",
     "text": [
      "['MATCH (b:BusinessGroup) RETURN count(b) AS numberOfBusinessGroups ', 'MATCH (d:Database {name: \"Customer Service Database\"}) RETURN d.type ', '', 'MATCH (u:User)-[:OWNS]->(r:Report {name: \"Customer Satisfaction Survey Analysis\"}) RETURN u.name ', '', 'MATCH (m:Model)-[:LATEST_VERSION]->(mv:ModelVersion) RETURN m.name, mv.version, mv.latest_version ', '', 'MATCH (m:Model)-[:LATEST_VERSION]->(mv:ModelVersion) RETURN mv.name, mv.performance_metrics ', 'MATCH (u:User)-[:ENTITLED_ON]->(d:Database {name: \"Executive Management Database\"}) RETURN u.name, u.account ', '', '', '', '', '', 'MATCH (r:Report {name: \"Employee Productivity Report\"})-[:ASSOCIATED_WITH]->(bg:BusinessGroup) RETURN bg.name ', '', 'MATCH (u:User)-[:MAINTAINS|OWNS|ENTITLED_ON]->(r:Report {name: \"Inventory Management Report\"}) RETURN u.name ', '', 'MATCH (rf:ReportField)-[:BELONGS_TO]->(rs:ReportSection)-[:PART_OF]->(r:Report {name: \"Financial Health Dashboard\"}) RETURN rf.name ', 'MATCH (r:Report {name: \"Employee Productivity Report\"})-[:ASSOCIATED_WITH]->(:BusinessGroup)<-[:CONTACT_OF]-(:Contact),       (r)<-[:ENTITLED_ON|:OWNS|:MAINTAINS]-(:User),       (r)<-[:PART_OF]-(:ReportSection)<-[:BELONGS_TO]-(:ReportField)<-[:FEEDS]-(:DataElement)<-[:PRODUCES]-(:ModelVersion)<-[:VERSION_OF]-(m:Model) RETURN DISTINCT m.name ']\n"
     ]
    }
   ],
   "source": [
    "print(generated_queries)"
   ]
  },
  {
   "cell_type": "code",
   "execution_count": 11,
   "metadata": {},
   "outputs": [
    {
     "name": "stdout",
     "output_type": "stream",
     "text": [
      "---------------------------------\n",
      "User request: List all users who maintain, own, or are entitled on Inventory Management Report\n",
      "Intent matching result: [UNCOMMON,0]\n",
      "Retrieving information from the User_embedding_graph.\n",
      "UNCOMMON QUERY\n",
      "Retrieved Context: \n",
      "name: Inventory Manager\n",
      "account: inventory.manager@company.com\n",
      "\n",
      "name: Inventory Manager\n",
      "account: inventory.manager@company.com\n",
      "\n",
      "name: inventory_specialist\n",
      "account: inventory_spec@operations.com\n",
      "\n",
      "name: Warehouse Supervisor\n",
      "account: warehouse.supervisor@company.com\n",
      "\n",
      " Attempt 1 generating Cypher query...\n",
      "\n",
      "\n",
      "\u001b[1m> Entering new GraphCypherQAChain chain...\u001b[0m\n",
      "Generated Cypher:\n",
      "\u001b[32;1m\u001b[1;3mcypher\n",
      "MATCH (u:User)-[:MAINTAINS|OWNS|ENTITLED_ON]->(r:Report {name: \"Inventory Management Report\"})\n",
      "RETURN u.name\n",
      "\u001b[0m\n",
      "Full Context:\n",
      "\u001b[32;1m\u001b[1;3m[{'u.name': 'Warehouse Supervisor'}, {'u.name': 'Procurement Specialist'}, {'u.name': 'Inventory Manager'}, {'u.name': 'Supply Chain Analyst'}]\u001b[0m\n",
      "\n",
      "\u001b[1m> Finished chain.\u001b[0m\n",
      "LangChain Cypher query steps: [{'query': 'cypher\\nMATCH (u:User)-[:MAINTAINS|OWNS|ENTITLED_ON]->(r:Report {name: \"Inventory Management Report\"})\\nRETURN u.name\\n'}, {'context': [{'u.name': 'Warehouse Supervisor'}, {'u.name': 'Procurement Specialist'}, {'u.name': 'Inventory Manager'}, {'u.name': 'Supply Chain Analyst'}]}]\n",
      "RETRIEVAL RESPONSE: [{'query': 'cypher\\nMATCH (u:User)-[:MAINTAINS|OWNS|ENTITLED_ON]->(r:Report {name: \"Inventory Management Report\"})\\nRETURN u.name\\n'}, {'context': [{'u.name': 'Warehouse Supervisor'}, {'u.name': 'Procurement Specialist'}, {'u.name': 'Inventory Manager'}, {'u.name': 'Supply Chain Analyst'}]}]\n",
      "To list all users who maintain, own, or are entitled on the Inventory Management Report:\n",
      "- Warehouse Supervisor\n",
      "- Procurement Specialist\n",
      "- Inventory Manager\n",
      "- Supply Chain Analyst\n"
     ]
    }
   ],
   "source": [
    "from app import rag_chatbot\n",
    "\n",
    "generated_cypher, generated_response = rag_chatbot(\"List all users who maintain, own, or are entitled on Inventory Management Report\")\n",
    "print(generated_response)"
   ]
  }
 ],
 "metadata": {
  "kernelspec": {
   "display_name": "chat-venv",
   "language": "python",
   "name": "python3"
  },
  "language_info": {
   "codemirror_mode": {
    "name": "ipython",
    "version": 3
   },
   "file_extension": ".py",
   "mimetype": "text/x-python",
   "name": "python",
   "nbconvert_exporter": "python",
   "pygments_lexer": "ipython3",
   "version": "3.11.4"
  }
 },
 "nbformat": 4,
 "nbformat_minor": 2
}
