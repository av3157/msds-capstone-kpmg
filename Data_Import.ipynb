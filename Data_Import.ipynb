{
  "cells": [
    {
      "cell_type": "code",
      "execution_count": 1,
      "metadata": {
        "id": "5JfV6esmRLN5"
      },
      "outputs": [
        {
          "name": "stdout",
          "output_type": "stream",
          "text": [
            "Requirement already satisfied: neo4j in c:\\users\\aksha\\documents\\columbia documents\\capstone\\chatbot-venv\\lib\\site-packages (5.25.0)\n",
            "Requirement already satisfied: pytz in c:\\users\\aksha\\documents\\columbia documents\\capstone\\chatbot-venv\\lib\\site-packages (from neo4j) (2024.2)\n"
          ]
        },
        {
          "name": "stderr",
          "output_type": "stream",
          "text": [
            "\n",
            "[notice] A new release of pip is available: 23.2.1 -> 24.2\n",
            "[notice] To update, run: python.exe -m pip install --upgrade pip\n"
          ]
        }
      ],
      "source": [
        "!pip install neo4j"
      ]
    },
    {
      "cell_type": "markdown",
      "metadata": {
        "id": "xfyFJCZgpx1Y"
      },
      "source": [
        "### Import json into neo4j"
      ]
    },
    {
      "cell_type": "markdown",
      "metadata": {
        "id": "k53np-No1V-i"
      },
      "source": [
        "#### Read json files"
      ]
    },
    {
      "cell_type": "code",
      "execution_count": 2,
      "metadata": {
        "id": "KvZo3ebHp1jW"
      },
      "outputs": [],
      "source": [
        "import json\n",
        "import os\n",
        "\n",
        "db_directory = 'Data/DB'\n",
        "\n",
        "report_directory = 'Data/Report'\n",
        "\n",
        "model_directory = 'Data/Model'\n",
        "\n",
        "# database\n",
        "db_files = ['Customerservice-DB.json', 'Executive_Management-DB.json', 'Finance-DB.json',\n",
        "             'HR-DB.json', 'IT-DB.json', 'Marketing-DB.json',\n",
        "             'Operations-DB.json', 'Product-DB.json', 'R&D-DB.json', 'Sales-DB.json']\n",
        "report_files = ['customer-satisfaction-survey-analysis-report-metadata-schema.json',\n",
        "                'employee-productivity-report-metadata-schema.json', 'financial-health-dashboard-report-metadata-schema.json',\n",
        "                'inventory-management-report-metadata-schema.json', 'sales-performance-dashboard-report-metadata-schema.json']\n",
        "\n",
        "model_files = ['sales-performance-model-version1.json', 'sales-performance-model-version2.json', 'sales-performance-model-version3.json',\n",
        "               'inventory-management-model-version1.json', 'inventory-management-model-version2.json', 'inventory-management-model-version3.json',\n",
        "               'financial-health-model-version1.json', 'financial-health-model-version2.json', 'financial-health-model-version3.json',\n",
        "               'employee-productivity-model-version1.json', 'employee-productivity-model-version2.json', 'employee-productivity-model-version3.json',\n",
        "               'customer-satisfaction-model-version1.json', 'customer-satisfaction-model-version2.json', 'customer-satisfaction-model-version3.json']\n",
        "\n",
        "db_data = {}\n",
        "report_data = {}\n",
        "model_data = {}\n",
        "\n",
        "# save database files\n",
        "for db in db_files:\n",
        "    path = os.path.join(db_directory, db)\n",
        "    with open(path, 'r') as file:\n",
        "        data = json.load(file)\n",
        "        db_data[db] = data\n",
        "\n",
        "\n",
        "# save report files\n",
        "for report in report_files:\n",
        "    path = os.path.join(report_directory, report)\n",
        "    with open(path, 'r') as file:\n",
        "        data = json.load(file)\n",
        "        report_data[report] = data\n",
        "\n",
        "# # # save model files\n",
        "for model in model_files:\n",
        "    path = os.path.join(model_directory, model)\n",
        "    with open(path, 'r') as file:\n",
        "        data = json.load(file)\n",
        "        model_data[model] = data"
      ]
    },
    {
      "cell_type": "code",
      "execution_count": 3,
      "metadata": {
        "id": "TxYcdTQeUFOP"
      },
      "outputs": [],
      "source": [
        "### save the model data element from report json file\n",
        "model_DE = {}\n",
        "for report in report_files:\n",
        "    report_json = report_data[report]\n",
        "    for section in report_json['sections']:\n",
        "        for field in section['fields']:\n",
        "            if field['source'] == 'model':\n",
        "                name = \"DE_\" + field[\"id\"]\n",
        "                model_DE[name] = field['generatedFrom']"
      ]
    },
    {
      "cell_type": "markdown",
      "metadata": {
        "id": "A21ldQdi2FiR"
      },
      "source": [
        "#### Database function"
      ]
    },
    {
      "cell_type": "code",
      "execution_count": 4,
      "metadata": {
        "id": "b_fPHjs2p1mC"
      },
      "outputs": [],
      "source": [
        "def create_database(session, data):\n",
        "    # Create Database Node\n",
        "    session.run(\"MERGE (db:Database {name: $database_name, type: $type})\",\n",
        "                database_name=data['database_name'], type=data['type'])\n",
        "\n",
        "    # Create Table and Column Nodes and Relationships\n",
        "    for table in data['tables']:\n",
        "        if \"primary_key\" in table:\n",
        "            session.run(\"\"\"\n",
        "                MATCH (db:Database {name: $database_name})\n",
        "                MERGE (t:Table {name: $table_name})\n",
        "                SET t.primary_key = $primary_key\n",
        "                MERGE (db)-[:CONTAINS]->(t)\n",
        "            \"\"\", database_name=data['database_name'], table_name=table['name'], primary_key=table[\"primary_key\"])\n",
        "\n",
        "        else:\n",
        "            session.run(\"\"\"\n",
        "                MATCH (db:Database {name: $database_name})\n",
        "                MERGE (t:Table {name: $table_name})\n",
        "                MERGE (db)-[:CONTAINS]->(t)\n",
        "            \"\"\", database_name=data['database_name'], table_name=table['name'])\n",
        "\n",
        "        for column in table['columns']:\n",
        "            session.run(\"\"\"\n",
        "                MATCH (t:Table {name: $table_name})\n",
        "                MERGE (c:Column {name: $column_name, type: $column_type})\n",
        "                MERGE (t)-[:HAS_COLUMN]->(c)\n",
        "            \"\"\", table_name=table['name'], column_name=column['name'], column_type=column['type'])\n",
        "        # add primary key edge\n",
        "        if \"primary_key\" in table:\n",
        "            session.run(\"\"\"\n",
        "                MATCH (t:Table {name: $table_name})\n",
        "                MATCH (c:Column {name: $column_name})\n",
        "                MERGE (t)-[:HAS_PRIMARY_KEY]->(c)\n",
        "            \"\"\", table_name=table['name'], column_name=table[\"primary_key\"])\n",
        "\n",
        "    # Add Business Group Node\n",
        "    session.run(\"MERGE (bg:BusinessGroup {name: $business_group})\",\n",
        "                business_group=data['business_group'])\n",
        "\n",
        "    # Create Relationships between Business Group and Database\n",
        "    session.run(\"\"\"\n",
        "        MATCH (db:Database {name: $database_name})\n",
        "        MATCH (bg:BusinessGroup {name: $business_group})\n",
        "        MERGE (db)-[:ASSOCIATED_WITH]->(bg)\n",
        "    \"\"\", database_name=data['database_name'], business_group=data['business_group'])\n",
        "\n",
        "    # Add Key Contact Information Nodes and Relationships\n",
        "    for contact in data['key_contact_information']:\n",
        "        session.run(\"\"\"\n",
        "            MERGE (contact:Contact {name: $name, email: $email})\n",
        "            WITH contact\n",
        "            MATCH (bg:BusinessGroup {name: $business_group})\n",
        "            MERGE (contact)-[:CONTACT_OF]->(bg)\n",
        "        \"\"\", name=contact['name'], email=contact['email'], business_group=data['business_group'])\n",
        "\n",
        "    # Add Entitlements Nodes and Relationships\n",
        "    for entitlement in data['entitlements']:\n",
        "        user_name = entitlement['user_name']\n",
        "        user_account = entitlement['user_account']\n",
        "        session.run(\"\"\"\n",
        "            MERGE (user:User {name: $name, account: $account})\n",
        "            SET user.entitlement = $ent\n",
        "            WITH user\n",
        "            MATCH (db:Database {name: $database_name})\n",
        "            MERGE (user)-[:ENTITLED_ON]->(db)\n",
        "        \"\"\", name=user_name, account=user_account, database_name=data['database_name'], ent=entitlement['entitlements'])\n"
      ]
    },
    {
      "cell_type": "markdown",
      "metadata": {
        "id": "izHfyqDVDUx3"
      },
      "source": [
        "#### Reports function"
      ]
    },
    {
      "cell_type": "code",
      "execution_count": 5,
      "metadata": {
        "id": "FWJSh2IaDZh0"
      },
      "outputs": [],
      "source": [
        "def create_report(session, data):\n",
        "    print(data['name'])\n",
        "    # Match or Create Report node\n",
        "    report_query = \"\"\"\n",
        "        MERGE (r:Report {name: $name})\n",
        "    \"\"\"\n",
        "    session.run(report_query, name=data[\"name\"])\n",
        "\n",
        "    for section in data[\"sections\"]:\n",
        "        # Match or Create ReportSection node and relationship\n",
        "        section_query = \"\"\"\n",
        "            MATCH (r:Report {name: $report_name})\n",
        "            MERGE (s:ReportSection {name: $section_name})\n",
        "            MERGE (s)-[:PART_OF]->(r)\n",
        "        \"\"\"\n",
        "        session.run(section_query, report_name=data[\"name\"], section_name=section[\"name\"])\n",
        "\n",
        "        for field in section[\"fields\"]:\n",
        "            field_query = \"\"\"\n",
        "                MATCH (s:ReportSection {name: $section_name})\n",
        "                MERGE (f:ReportField {name: $field_name, id: $field_id})\n",
        "                MERGE (f)-[:BELONGS_TO]->(s)\n",
        "            \"\"\"\n",
        "            session.run(field_query, section_name=section[\"name\"], field_id=field[\"id\"], field_name=field[\"name\"])\n",
        "            # create data element -> report field\n",
        "            de_query = \"\"\"\n",
        "                MATCH (f:ReportField {id: $field_id})\n",
        "                MERGE (de:DataElement {name: $data_element_name})\n",
        "                MERGE (de)-[:FEEDS]->(f)\n",
        "            \"\"\"\n",
        "            session.run(de_query, field_id=field[\"id\"], data_element_name=\"DE_\" + field[\"id\"])\n",
        "\n",
        "            # if the source is column -> create link between data_element and sourcedata(columns)\n",
        "            if field[\"source\"] == \"columns\" or field[\"source\"] == \"calculation\":\n",
        "                for col in field[\"sourcedata\"]:\n",
        "                    col_query = \"\"\"\n",
        "                        MATCH (c: Column {name: $colname})\n",
        "                        MATCH (de: DataElement {name: $de_name})\n",
        "                        SET de.source = $source\n",
        "                        SET de.generatedFrom = $generatedFrom\n",
        "                        MERGE (c)-[:TRANSFORMS]->(de)\n",
        "                    \"\"\"\n",
        "                    session.run(col_query, colname = col, de_name=\"DE_\" + field[\"id\"], source=field[\"source\"], generatedFrom=field[\"generatedFrom\"])\n",
        "\n",
        "            # if the source is model -> do nothing since we already create the link between DE and report\n",
        "            if field[\"source\"] == \"model\":\n",
        "\n",
        "                de_query = \"\"\"\n",
        "                    MERGE (de: DataElement {name: $de_name})\n",
        "                    SET de.source = $source\n",
        "                    SET de.generatedFrom = $generatedFrom\n",
        "                \"\"\"\n",
        "                session.run(de_query, de_name=field['source_id'], source=field[\"source\"], generatedFrom=field[\"generatedFrom\"])\n",
        "\n",
        "\n",
        "    # Add users\n",
        "    for user in data[\"users\"]:\n",
        "        if user[\"relationship\"] == \"Entitled_On\":\n",
        "            user_query = \"\"\"\n",
        "                MERGE (u:User {name: $user_name, account: $user_account, entitlement: $ent, role: $role})\n",
        "                MERGE (r:Report {name: $report_name})\n",
        "                MERGE (u)-[:ENTITLED_ON]->(r)\n",
        "            \"\"\"\n",
        "            session.run(user_query, user_name=user[\"name\"], user_account=user[\"user_account\"], report_name=data[\"name\"], ent=user[\"entitlement\"], role=user[\"role\"])\n",
        "        elif user[\"relationship\"] == \"Owner\":\n",
        "            user_query = \"\"\"\n",
        "                MERGE (u:User {name: $user_name, account: $user_account, entitlement: $ent, role: $role})\n",
        "                MERGE (r:Report {name: $report_name})\n",
        "                MERGE (u)-[:OWNS]->(r)\n",
        "            \"\"\"\n",
        "            session.run(user_query, user_name=user[\"name\"], user_account=user[\"user_account\"], report_name=data[\"name\"], ent=user[\"entitlement\"], role=user[\"role\"])\n",
        "        elif user[\"relationship\"] == \"Maintain\":\n",
        "            user_query = \"\"\"\n",
        "                MERGE (u:User {name: $user_name, account: $user_account, entitlement: $ent})\n",
        "                MERGE (r:Report {name: $report_name})\n",
        "                MERGE (u)-[:MAINTAINS]->(r)\n",
        "            \"\"\"\n",
        "            session.run(user_query, user_name=user[\"name\"], user_account=user[\"user_account\"], report_name=data[\"name\"], ent=user[\"entitlement\"], role=user[\"role\"])\n",
        "\n",
        "    # Handling business group\n",
        "    business_group_query = \"\"\"\n",
        "        MERGE (bg:BusinessGroup {name: $business_group})\n",
        "        MERGE (r:Report {name: $report_name})\n",
        "        MERGE (r)-[:ASSOCIATED_WITH]->(bg)\n",
        "    \"\"\"\n",
        "    session.run(business_group_query, business_group=data[\"business_group\"], report_name=data[\"name\"])\n"
      ]
    },
    {
      "cell_type": "markdown",
      "metadata": {
        "id": "AW7wh7Di2VE-"
      },
      "source": [
        "#### Model version function"
      ]
    },
    {
      "cell_type": "code",
      "execution_count": 6,
      "metadata": {
        "id": "qCvzr-Oy4Ms8"
      },
      "outputs": [],
      "source": [
        "def create_model_version(session, data):\n",
        "\n",
        "    # Match or Create ModelVersion node\n",
        "    metadata_str = json.dumps(data[\"properties\"][\"metadata\"])\n",
        "    parameters_str = json.dumps(data[\"properties\"][\"model_parameters\"])\n",
        "    top_features_str = json.dumps(data[\"properties\"][\"top_features\"])\n",
        "    performance_metrics_str = json.dumps(data[\"properties\"][\"performance_metrics\"])\n",
        "\n",
        "    model_version_query = \"\"\"\n",
        "        MERGE (mv:ModelVersion {name: $name})\n",
        "        SET mv.version = $version,\n",
        "            mv.latest_version = $latest_version,\n",
        "            mv.metadata = $metadata,\n",
        "            mv.model_parameters = $model_parameters,\n",
        "            mv.top_features = $top_features,\n",
        "            mv.performance_metrics = $performance_metrics,\n",
        "            mv.model_id = $model_id\n",
        "    \"\"\"\n",
        "\n",
        "    session.run(model_version_query, name=data[\"name\"], version=data[\"properties\"][\"version\"], latest_version=data[\"properties\"][\"latest_version\"],\n",
        "                metadata=metadata_str,\n",
        "                model_parameters=parameters_str,\n",
        "                top_features=top_features_str,\n",
        "                performance_metrics=performance_metrics_str,\n",
        "                model_id=data[\"properties\"][\"model_id\"])\n",
        "\n",
        "    # Match or Create Model node\n",
        "    model_metadata_str = json.dumps(data[\"properties\"][\"version_of\"][\"model_metadata\"])\n",
        "    model_query = \"\"\"\n",
        "        MERGE (m:Model {name: $model_name})\n",
        "        SET m.model_metadata = $model_metadata,\n",
        "            m.move_id = $model_id\n",
        "    \"\"\"\n",
        "    session.run(model_query, model_name=data[\"properties\"][\"version_of\"][\"name\"],\n",
        "                model_metadata=model_metadata_str,\n",
        "                model_id=data[\"properties\"][\"version_of\"][\"model_id\"])\n",
        "\n",
        "\n",
        "\n",
        "    # if it's latest version, create relationship\n",
        "    if data['properties']['latest_version'] == \"True\":\n",
        "        latest_query = \"\"\"\n",
        "            MATCH (mv:ModelVersion {name: $name})\n",
        "            MATCH (m:Model {name: $model_name})\n",
        "            MERGE (m)-[:VERSION_OF]->(mv)\n",
        "            MERGE (m)-[:LATEST_VERSION]->(mv)\n",
        "        \"\"\"\n",
        "        session.run(latest_query, name=data[\"name\"], model_name=data[\"properties\"][\"version_of\"][\"name\"])\n",
        "    else:\n",
        "        # Create relationships between ModelVersion and Model\n",
        "        relationship_query = \"\"\"\n",
        "            MATCH (mv:ModelVersion {name: $name})\n",
        "            MATCH (m:Model {name: $model_name})\n",
        "            MERGE (m)-[:VERSION_OF]->(mv)\n",
        "        \"\"\"\n",
        "        session.run(relationship_query, name=data[\"name\"], model_name=data[\"properties\"][\"version_of\"][\"name\"])\n",
        "\n",
        "    # Create relationships between ModelVersion and Input Data Elements\n",
        "    for element in data[\"properties\"][\"input_data_elements\"]:\n",
        "        element_query = \"\"\"\n",
        "            MATCH (mv:ModelVersion {name: $name})\n",
        "            MERGE (de:DataElement {name: $element_name})\n",
        "            SET de.source = $source\n",
        "            SET de.generatedFrom = $generatedFrom\n",
        "            MERGE (de)-[:INPUT_TO]->(mv)\n",
        "        \"\"\"\n",
        "        session.run(element_query, name=data[\"name\"], element_name=\"DE_\" + element[\"name\"], source=\"columns\", generatedFrom=field[\"generatedFrom\"])\n",
        "\n",
        "        # create relationship of columns and Data element\n",
        "        for col in element[\"columns\"]:\n",
        "            col_query = \"\"\"\n",
        "                MATCH (de:DataElement {name: $element_name})\n",
        "                MATCH (col:Column {name: $column_name})\n",
        "                MERGE (col)-[:TRANSFORMS]->(de)\n",
        "            \"\"\"\n",
        "            session.run(col_query, element_name=\"DE_\" + element[\"name\"], column_name=col)\n",
        "    # Create relationship between ModelVersion and Output Data Element\n",
        "    for ele in data[\"properties\"][\"output_data_element\"]:\n",
        "        output_element_query = \"\"\"\n",
        "            MATCH (mv:ModelVersion {name: $name})\n",
        "            MERGE (de:DataElement {name: $output_element_name})\n",
        "            SET de.source = $source\n",
        "            SET de.generatedFrom = $generatedFrom\n",
        "            MERGE (mv)-[:PRODUCES]->(de)\n",
        "        \"\"\"\n",
        "        session.run(output_element_query, name=data[\"name\"], output_element_name=ele[\"id\"], source=\"model\", generatedFrom=model_DE[ele['id']])\n",
        "\n",
        "    # Create user node and relationship\n",
        "\n",
        "    for user in data[\"properties\"][\"users\"]:\n",
        "\n",
        "        if user[\"relationship\"] == \"Entitled_On\":\n",
        "\n",
        "            user_query = \"\"\"\n",
        "                MATCH (mv:ModelVersion {name: $name})\n",
        "                MERGE (u:User {name: $user_name, account: $user_account, entitlement: $ent, role: $role})\n",
        "                MERGE (u)-[:ENTITLED_ON]->(mv)\n",
        "            \"\"\"\n",
        "            session.run(user_query, user_name=user[\"name\"], user_account=user[\"user_account\"], name=data[\"name\"], ent=user[\"entitlement\"], role=user[\"role\"])\n",
        "        elif user[\"relationship\"] == \"Owner\":\n",
        "            user_query = \"\"\"\n",
        "                MATCH (mv:ModelVersion {name: $name})\n",
        "                MERGE (u:User {name: $user_name, account: $user_account, entitlement: $ent, role: $role})\n",
        "                MERGE (u)-[:OWNS]->(mv)\n",
        "            \"\"\"\n",
        "            session.run(user_query, user_name=user[\"name\"], user_account=user[\"user_account\"], name=data[\"name\"], ent=user[\"entitlement\"], role=user[\"role\"])\n",
        "        elif user[\"relationship\"] == \"Maintain\":\n",
        "            user_query = \"\"\"\n",
        "                MATCH (mv:ModelVersion {name: $name})\n",
        "                MERGE (u:User {name: $user_name, account: $user_account, entitlement: $ent, role: $role})\n",
        "                MERGE (u)-[:MAINTAINS]->(mv)\n",
        "            \"\"\"\n",
        "            session.run(user_query, user_name=user[\"name\"], user_account=user[\"user_account\"], name=data[\"name\"], ent=user[\"entitlement\"], role=user[\"role\"])\n",
        "\n"
      ]
    },
    {
      "cell_type": "markdown",
      "metadata": {
        "id": "RnVY7Bbu2OHy"
      },
      "source": [
        "#### run session"
      ]
    },
    {
      "cell_type": "code",
      "execution_count": 7,
      "metadata": {
        "colab": {
          "base_uri": "https://localhost:8080/"
        },
        "id": "oZ-RmhsA2PvN",
        "outputId": "55aeb11e-bb63-40bb-9b6a-91321aa52a08"
      },
      "outputs": [
        {
          "name": "stdout",
          "output_type": "stream",
          "text": [
            "Customer Satisfaction Survey Analysis\n",
            "Employee Productivity Report\n",
            "Financial Health Dashboard\n",
            "Inventory Management Report\n",
            "Sales Performance Dashboard\n"
          ]
        }
      ],
      "source": [
        "from neo4j import GraphDatabase\n",
        "import os\n",
        "\n",
        "#RUN FOR WINDOWS\n",
        "# !pip install python-dotenv\n",
        "from dotenv import load_dotenv\n",
        "load_dotenv()\n",
        "\n",
        "uri = os.getenv('NEO4J_URI')\n",
        "username = os.getenv('NEO4J_USER')\n",
        "password = os.getenv('NEO4J_PASSWORD')\n",
        "\n",
        "driver = GraphDatabase.driver(uri, auth=(username, password))\n",
        "\n",
        "with driver.session() as session:\n",
        "  for db in db_files:\n",
        "    create_database(session, db_data[db])\n",
        "  for report in report_files:\n",
        "    create_report(session, report_data[report])\n",
        "  for model in model_files:\n",
        "    create_model_version(session, model_data[model])"
      ]
    },
    {
      "cell_type": "code",
      "execution_count": 8,
      "metadata": {},
      "outputs": [],
      "source": [
        "# !pip install langchain_community\n",
        "# !pip install langchain_openai \n",
        "from langchain_community.vectorstores import Neo4jVector\n",
        "from langchain_openai import OpenAIEmbeddings\n",
        "from dotenv import load_dotenv\n",
        "\n",
        "load_dotenv()\n",
        "\n",
        "BusinessGroup = {\n",
        "  \"index_name\": \"BusinessGroup_idx\",\n",
        "  \"node_label\": \"BusinessGroup\",\n",
        "  \"text_node_properties\": [\"name\"],\n",
        "  \"embedding_node_property\": \"BusinessGroup_embedding\"\n",
        "}\n",
        "\n",
        "Column = {\n",
        "  \"index_name\": \"Column_idx\",\n",
        "  \"node_label\": \"Column\",\n",
        "  \"text_node_properties\": [\"name\", \"type\"],\n",
        "  \"embedding_node_property\": \"Column_embedding\"\n",
        "}\n",
        "\n",
        "Contact = {\n",
        "  \"index_name\": \"Contact_idx\",\n",
        "  \"node_label\": \"Contact\",\n",
        "  \"text_node_properties\": [\"name\", \"type\"],\n",
        "  \"embedding_node_property\": \"Contact_embedding\"\n",
        "}\n",
        "\n",
        "Database = {\n",
        "  \"index_name\": \"Database_idx\",\n",
        "  \"node_label\": \"Database\",\n",
        "  \"text_node_properties\": [\"name\", \"type\"],\n",
        "  \"embedding_node_property\": \"Database_embedding\"\n",
        "}\n",
        "\n",
        "DataElement = {\n",
        "  \"index_name\": \"DataElement_idx\",\n",
        "  \"node_label\": \"DataElement\",\n",
        "  \"text_node_properties\": [\"name\", \"source\", \"generatedForm\"],\n",
        "  \"embedding_node_property\": \"DataElement_embedding\"\n",
        "}\n",
        "\n",
        "Model = {\n",
        "  \"index_name\": \"Model_idx\",\n",
        "  \"node_label\": \"Model\",\n",
        "  \"text_node_properties\": [\"move_id\", \"name\", \"model_metadata\"],\n",
        "  \"embedding_node_property\": \"DataElement_embedding\"\n",
        "}\n",
        "\n",
        "ModelVersion = {\n",
        "  \"index_name\": \"ModelVersion_idx\",\n",
        "  \"node_label\": \"ModelVersion\",\n",
        "  \"text_node_properties\": [\"metadata\", \"latest_version\", \"performance_metrics\", \"name\", \n",
        "                           \"model_parameters\", \"top_features\", \"model_id\", \"version\"],\n",
        "  \"embedding_node_property\": \"DataElement_embedding\"\n",
        "}\n",
        "\n",
        "Report = {\n",
        "  \"index_name\": \"Report_idx\",\n",
        "  \"node_label\": \"Report\",\n",
        "  \"text_node_properties\": [\"name\"],\n",
        "  \"embedding_node_property\": \"Report_embedding\"\n",
        "}\n",
        "\n",
        "ReportField = {\n",
        "  \"index_name\": \"ReportField_idx\",\n",
        "  \"node_label\": \"ReportField\",\n",
        "  \"text_node_properties\": [\"name\", \"id\"],\n",
        "  \"embedding_node_property\": \"ReportField_embedding\"\n",
        "}\n",
        "\n",
        "ReportSection = {\n",
        "  \"index_name\": \"ReportSection_idx\",\n",
        "  \"node_label\": \"ReportSection\",\n",
        "  \"text_node_properties\": [\"name\"],\n",
        "  \"embedding_node_property\": \"ReportSection_embedding\"\n",
        "}\n",
        "\n",
        "Table = {\n",
        "  \"index_name\": \"Table_idx\",\n",
        "  \"node_label\": \"Table\",\n",
        "  \"text_node_properties\": [\"name\"],\n",
        "  \"embedding_node_property\": \"Table_embedding\"\n",
        "}\n",
        "\n",
        "User = {\n",
        "  \"index_name\": \"User_idx\",\n",
        "  \"node_label\": \"User\",\n",
        "  \"text_node_properties\": [\"name\", \"account\"], #omitted entitlement for now\n",
        "  \"embedding_node_property\": \"User_embedding\"\n",
        "}\n",
        "\n",
        "parent = [BusinessGroup, Column, Contact, Database, \n",
        "          DataElement, Model, ModelVersion, Report, \n",
        "          ReportField, ReportSection, Table, User]"
      ]
    },
    {
      "cell_type": "code",
      "execution_count": 9,
      "metadata": {},
      "outputs": [
        {
          "name": "stdout",
          "output_type": "stream",
          "text": [
            "BusinessGroup\n",
            "Column\n",
            "Contact\n",
            "Database\n",
            "DataElement\n",
            "Model\n",
            "ModelVersion\n",
            "Report\n",
            "ReportField\n",
            "ReportSection\n",
            "Table\n",
            "User\n"
          ]
        }
      ],
      "source": [
        "graphs = {}\n",
        "\n",
        "for i in range(len(parent)):\n",
        "    # Create the vectorstore for our existing graph\n",
        "    val = parent[i][\"node_label\"]\n",
        "    graphs[f\"{val}_embedding_graph\"] = Neo4jVector.from_existing_graph(\n",
        "        embedding=OpenAIEmbeddings(),\n",
        "        url=\"neo4j+s://f7a01f50.databases.neo4j.io\",\n",
        "        username=\"neo4j\",\n",
        "        password=\"oy-GIeN1YKdVfGKscdImKuQORH_UiGLSRKjt0CJaIs8\",\n",
        "        index_name=parent[i][\"index_name\"],\n",
        "        node_label=parent[i][\"node_label\"],\n",
        "        text_node_properties=parent[i][\"text_node_properties\"],\n",
        "        embedding_node_property=parent[i][\"embedding_node_property\"],\n",
        "    )\n",
        "    print(val)"
      ]
    },
    {
      "cell_type": "code",
      "execution_count": 10,
      "metadata": {},
      "outputs": [
        {
          "name": "stdout",
          "output_type": "stream",
          "text": [
            "[Document(metadata={}, page_content='\\nname: PerformanceScore\\ntype: integer'), Document(metadata={}, page_content='\\nname: PerformanceReviewDate\\ntype: date'), Document(metadata={}, page_content='\\nname: PerformanceID\\ntype: integer'), Document(metadata={}, page_content='\\nname: PerformanceComments\\ntype: string')]\n"
          ]
        }
      ],
      "source": [
        "#Testing\n",
        "response = graphs[\"Column_embedding_graph\"].similarity_search(\n",
        "    \"What report fields are downstream of PerformanceScore column?\"\n",
        ")\n",
        "print(response)"
      ]
    },
    {
      "cell_type": "code",
      "execution_count": 11,
      "metadata": {},
      "outputs": [
        {
          "name": "stderr",
          "output_type": "stream",
          "text": [
            "C:\\Users\\aksha\\AppData\\Local\\Temp\\ipykernel_8928\\3580503320.py:4: LangChainDeprecationWarning: The class `ChatOpenAI` was deprecated in LangChain 0.0.10 and will be removed in 1.0. An updated version of the class exists in the :class:`~langchain-openai package and should be used instead. To use it run `pip install -U :class:`~langchain-openai` and import as `from :class:`~langchain_openai import ChatOpenAI``.\n",
            "  llm=ChatOpenAI(),\n",
            "C:\\Users\\aksha\\AppData\\Local\\Temp\\ipykernel_8928\\3580503320.py:8: LangChainDeprecationWarning: The method `Chain.run` was deprecated in langchain 0.1.0 and will be removed in 1.0. Use :meth:`~invoke` instead.\n",
            "  vector_qa.run(\n"
          ]
        },
        {
          "data": {
            "text/plain": [
              "'The report fields downstream of the PerformanceScore column are likely PerformanceReviewDate, PerformanceID, and PerformanceComments.'"
            ]
          },
          "execution_count": 11,
          "metadata": {},
          "output_type": "execute_result"
        }
      ],
      "source": [
        "from langchain.chains import RetrievalQA\n",
        "from langchain.chat_models import ChatOpenAI\n",
        "vector_qa = RetrievalQA.from_chain_type(\n",
        "    llm=ChatOpenAI(),\n",
        "    chain_type=\"stuff\",\n",
        "    retriever=graphs[\"Column_embedding_graph\"].as_retriever()\n",
        ")\n",
        "vector_qa.run(\n",
        "    \"What report fields are downstream of PerformanceScore column?\"\n",
        ")"
      ]
    },
    {
      "cell_type": "code",
      "execution_count": 12,
      "metadata": {},
      "outputs": [
        {
          "name": "stdout",
          "output_type": "stream",
          "text": [
            "\n",
            "\n",
            "\u001b[1m> Entering new GraphCypherQAChain chain...\u001b[0m\n",
            "Generated Cypher:\n",
            "\u001b[32;1m\u001b[1;3mMATCH (u:User)-[:ENTITLED_ON]->(d:Database) WHERE d.name = 'IT_Database' RETURN u.name\u001b[0m\n",
            "Full Context:\n",
            "\u001b[32;1m\u001b[1;3m[{'u.name': 'it_manager'}, {'u.name': 'support_specialist'}]\u001b[0m\n",
            "\n",
            "\u001b[1m> Finished chain.\u001b[0m\n"
          ]
        },
        {
          "data": {
            "text/plain": [
              "'it_manager, support_specialist'"
            ]
          },
          "execution_count": 12,
          "metadata": {},
          "output_type": "execute_result"
        }
      ],
      "source": [
        "from langchain.chains import GraphCypherQAChain\n",
        "from langchain.vectorstores.neo4j_vector import Neo4jVector\n",
        "from langchain.embeddings.openai import OpenAIEmbeddings\n",
        "from langchain.graphs import Neo4jGraph\n",
        "graph = Neo4jGraph(\n",
        "    url=uri,\n",
        "    username=username,\n",
        "    password=password\n",
        ")\n",
        "graph.refresh_schema()\n",
        "cypher_chain = GraphCypherQAChain.from_llm(\n",
        "    cypher_llm = ChatOpenAI(temperature=0, model_name=\"gpt-4\"),\n",
        "    qa_llm = ChatOpenAI(temperature=0), graph=graph, verbose=True,\n",
        "    allow_dangerous_requests=True\n",
        ")\n",
        "cypher_chain.run(\n",
        "    \"Which users have access to the IT_Database?\"\n",
        ")"
      ]
    }
  ],
  "metadata": {
    "colab": {
      "provenance": []
    },
    "kernelspec": {
      "display_name": "chatbot-venv",
      "language": "python",
      "name": "python3"
    },
    "language_info": {
      "codemirror_mode": {
        "name": "ipython",
        "version": 3
      },
      "file_extension": ".py",
      "mimetype": "text/x-python",
      "name": "python",
      "nbconvert_exporter": "python",
      "pygments_lexer": "ipython3",
      "version": "3.11.5"
    }
  },
  "nbformat": 4,
  "nbformat_minor": 0
}
